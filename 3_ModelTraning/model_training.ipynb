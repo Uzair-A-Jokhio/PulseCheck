{
 "cells": [
  {
   "cell_type": "markdown",
   "id": "4f5e6492",
   "metadata": {},
   "source": [
    "### Key facts according to WHO (World Health Organaizations)\n",
    "\n",
    "   - Cardiovascular diseases (CVDs) are the leading cause of death globally.  \n",
    "   - An estimated 17.9 million people died from CVDs in 2019, representing 32% of all global deaths. Of these deaths,\n",
    "    85% were due to heart attack and stroke.  \n",
    "   - Over three quarters of CVD deaths take place in low- and middle-income countries.  \n",
    "   - Out of the 17 million premature deaths (under the age of 70) due to noncommunicable diseases in 2019, 38% were caused by CVDs.  \n",
    "   - Most cardiovascular diseases can be prevented by addressing behavioural risk factors such as tobacco use, unhealthy diet and obesity, physical inactivity and harmful use of alcohol.  \n",
    "   - It is important to detect cardiovascular disease as early as possible so that management with counselling and medicines can begin.  \n",
    "\n"
   ]
  },
  {
   "cell_type": "code",
   "execution_count": null,
   "id": "6fdd6629",
   "metadata": {},
   "outputs": [],
   "source": [
    "from sklearn.linear_model import LogisticRegression\n",
    "from sklearn.ensemble import RandomForestClassifier\n",
    "from sklearn.metrics import classification_report, accuracy_score, confusion_matrix\n",
    "from sklearn.model_selection import train_test_split, cross_validate\n",
    "from sklearn.model_selection import GridSearchCV\n",
    "from sklearn.ensemble import VotingClassifier\n",
    "from xgboost import XGBClassifier\n",
    "import numpy as np\n",
    "import pandas as pd"
   ]
  },
  {
   "cell_type": "code",
   "execution_count": 51,
   "id": "57503f0b",
   "metadata": {},
   "outputs": [
    {
     "data": {
      "text/html": [
       "<div>\n",
       "<style scoped>\n",
       "    .dataframe tbody tr th:only-of-type {\n",
       "        vertical-align: middle;\n",
       "    }\n",
       "\n",
       "    .dataframe tbody tr th {\n",
       "        vertical-align: top;\n",
       "    }\n",
       "\n",
       "    .dataframe thead th {\n",
       "        text-align: right;\n",
       "    }\n",
       "</style>\n",
       "<table border=\"1\" class=\"dataframe\">\n",
       "  <thead>\n",
       "    <tr style=\"text-align: right;\">\n",
       "      <th></th>\n",
       "      <th>age</th>\n",
       "      <th>sex</th>\n",
       "      <th>trestbps</th>\n",
       "      <th>chol</th>\n",
       "      <th>fbs</th>\n",
       "      <th>thalch</th>\n",
       "      <th>exang</th>\n",
       "      <th>oldpeak</th>\n",
       "      <th>ca</th>\n",
       "      <th>num</th>\n",
       "      <th>...</th>\n",
       "      <th>slope_flat</th>\n",
       "      <th>slope_upsloping</th>\n",
       "      <th>thal_fixed defect</th>\n",
       "      <th>thal_normal</th>\n",
       "      <th>thal_reversable defect</th>\n",
       "      <th>Category_bps_Elevated</th>\n",
       "      <th>Category_bps_Hypertension Stage 1</th>\n",
       "      <th>Category_bps_Hypertension Stage 2</th>\n",
       "      <th>Category_bps_Hypertensive Crisis</th>\n",
       "      <th>Category_bps_Normal</th>\n",
       "    </tr>\n",
       "  </thead>\n",
       "  <tbody>\n",
       "    <tr>\n",
       "      <th>0</th>\n",
       "      <td>1.007024</td>\n",
       "      <td>1</td>\n",
       "      <td>0.717289</td>\n",
       "      <td>-0.236151</td>\n",
       "      <td>1</td>\n",
       "      <td>0.490336</td>\n",
       "      <td>0</td>\n",
       "      <td>1.368309</td>\n",
       "      <td>0.0</td>\n",
       "      <td>0</td>\n",
       "      <td>...</td>\n",
       "      <td>0</td>\n",
       "      <td>0</td>\n",
       "      <td>1</td>\n",
       "      <td>0</td>\n",
       "      <td>0</td>\n",
       "      <td>0</td>\n",
       "      <td>0</td>\n",
       "      <td>1</td>\n",
       "      <td>0</td>\n",
       "      <td>0</td>\n",
       "    </tr>\n",
       "    <tr>\n",
       "      <th>1</th>\n",
       "      <td>1.431447</td>\n",
       "      <td>1</td>\n",
       "      <td>1.553893</td>\n",
       "      <td>0.787312</td>\n",
       "      <td>0</td>\n",
       "      <td>-1.180391</td>\n",
       "      <td>1</td>\n",
       "      <td>0.612046</td>\n",
       "      <td>3.0</td>\n",
       "      <td>2</td>\n",
       "      <td>...</td>\n",
       "      <td>1</td>\n",
       "      <td>0</td>\n",
       "      <td>0</td>\n",
       "      <td>1</td>\n",
       "      <td>0</td>\n",
       "      <td>0</td>\n",
       "      <td>0</td>\n",
       "      <td>1</td>\n",
       "      <td>0</td>\n",
       "      <td>0</td>\n",
       "    </tr>\n",
       "    <tr>\n",
       "      <th>2</th>\n",
       "      <td>1.431447</td>\n",
       "      <td>1</td>\n",
       "      <td>-0.677052</td>\n",
       "      <td>-0.313393</td>\n",
       "      <td>0</td>\n",
       "      <td>-0.345027</td>\n",
       "      <td>1</td>\n",
       "      <td>1.651908</td>\n",
       "      <td>2.0</td>\n",
       "      <td>1</td>\n",
       "      <td>...</td>\n",
       "      <td>1</td>\n",
       "      <td>0</td>\n",
       "      <td>0</td>\n",
       "      <td>0</td>\n",
       "      <td>1</td>\n",
       "      <td>1</td>\n",
       "      <td>0</td>\n",
       "      <td>0</td>\n",
       "      <td>0</td>\n",
       "      <td>0</td>\n",
       "    </tr>\n",
       "    <tr>\n",
       "      <th>3</th>\n",
       "      <td>-1.751727</td>\n",
       "      <td>1</td>\n",
       "      <td>-0.119315</td>\n",
       "      <td>0.092130</td>\n",
       "      <td>0</td>\n",
       "      <td>1.962168</td>\n",
       "      <td>0</td>\n",
       "      <td>2.502703</td>\n",
       "      <td>0.0</td>\n",
       "      <td>0</td>\n",
       "      <td>...</td>\n",
       "      <td>0</td>\n",
       "      <td>0</td>\n",
       "      <td>0</td>\n",
       "      <td>1</td>\n",
       "      <td>0</td>\n",
       "      <td>0</td>\n",
       "      <td>1</td>\n",
       "      <td>0</td>\n",
       "      <td>0</td>\n",
       "      <td>0</td>\n",
       "    </tr>\n",
       "    <tr>\n",
       "      <th>4</th>\n",
       "      <td>-1.327304</td>\n",
       "      <td>0</td>\n",
       "      <td>-0.119315</td>\n",
       "      <td>-0.796158</td>\n",
       "      <td>0</td>\n",
       "      <td>1.365479</td>\n",
       "      <td>0</td>\n",
       "      <td>0.517513</td>\n",
       "      <td>0.0</td>\n",
       "      <td>0</td>\n",
       "      <td>...</td>\n",
       "      <td>0</td>\n",
       "      <td>1</td>\n",
       "      <td>0</td>\n",
       "      <td>1</td>\n",
       "      <td>0</td>\n",
       "      <td>0</td>\n",
       "      <td>1</td>\n",
       "      <td>0</td>\n",
       "      <td>0</td>\n",
       "      <td>0</td>\n",
       "    </tr>\n",
       "  </tbody>\n",
       "</table>\n",
       "<p>5 rows × 28 columns</p>\n",
       "</div>"
      ],
      "text/plain": [
       "        age  sex  trestbps      chol  fbs    thalch  exang   oldpeak   ca  \\\n",
       "0  1.007024    1  0.717289 -0.236151    1  0.490336      0  1.368309  0.0   \n",
       "1  1.431447    1  1.553893  0.787312    0 -1.180391      1  0.612046  3.0   \n",
       "2  1.431447    1 -0.677052 -0.313393    0 -0.345027      1  1.651908  2.0   \n",
       "3 -1.751727    1 -0.119315  0.092130    0  1.962168      0  2.502703  0.0   \n",
       "4 -1.327304    0 -0.119315 -0.796158    0  1.365479      0  0.517513  0.0   \n",
       "\n",
       "   num  ...  slope_flat  slope_upsloping  thal_fixed defect  thal_normal  \\\n",
       "0    0  ...           0                0                  1            0   \n",
       "1    2  ...           1                0                  0            1   \n",
       "2    1  ...           1                0                  0            0   \n",
       "3    0  ...           0                0                  0            1   \n",
       "4    0  ...           0                1                  0            1   \n",
       "\n",
       "   thal_reversable defect  Category_bps_Elevated  \\\n",
       "0                       0                      0   \n",
       "1                       0                      0   \n",
       "2                       1                      1   \n",
       "3                       0                      0   \n",
       "4                       0                      0   \n",
       "\n",
       "   Category_bps_Hypertension Stage 1  Category_bps_Hypertension Stage 2  \\\n",
       "0                                  0                                  1   \n",
       "1                                  0                                  1   \n",
       "2                                  0                                  0   \n",
       "3                                  1                                  0   \n",
       "4                                  1                                  0   \n",
       "\n",
       "   Category_bps_Hypertensive Crisis  Category_bps_Normal  \n",
       "0                                 0                    0  \n",
       "1                                 0                    0  \n",
       "2                                 0                    0  \n",
       "3                                 0                    0  \n",
       "4                                 0                    0  \n",
       "\n",
       "[5 rows x 28 columns]"
      ]
     },
     "execution_count": 51,
     "metadata": {},
     "output_type": "execute_result"
    }
   ],
   "source": [
    "data = pd.read_csv(\"../2_Preprocessing/preprocessed_data.csv\")\n",
    "data.head()"
   ]
  },
  {
   "cell_type": "code",
   "execution_count": 52,
   "id": "db1c2720",
   "metadata": {},
   "outputs": [
    {
     "name": "stdout",
     "output_type": "stream",
     "text": [
      "num\n",
      "0    411\n",
      "1    265\n",
      "2    109\n",
      "3    106\n",
      "4     28\n",
      "Name: count, dtype: int64\n"
     ]
    }
   ],
   "source": [
    "print(data['num'].value_counts())"
   ]
  },
  {
   "cell_type": "markdown",
   "id": "91d5869d",
   "metadata": {},
   "source": [
    "##### There are 4 level of Cardic Disease, we have to deduce them into 1 for disease and 0 for  no disease we are doing this because the data set is small "
   ]
  },
  {
   "cell_type": "code",
   "execution_count": 53,
   "id": "d3f166e3",
   "metadata": {},
   "outputs": [
    {
     "data": {
      "text/plain": [
       "target\n",
       "1    508\n",
       "0    411\n",
       "Name: count, dtype: int64"
      ]
     },
     "execution_count": 53,
     "metadata": {},
     "output_type": "execute_result"
    }
   ],
   "source": [
    "data['target'] = data['num'].apply(lambda x: 1 if x >= 1 else 0)\n",
    "data['target'].value_counts()"
   ]
  },
  {
   "cell_type": "code",
   "execution_count": 54,
   "id": "b53e5f69",
   "metadata": {},
   "outputs": [
    {
     "data": {
      "text/html": [
       "<div>\n",
       "<style scoped>\n",
       "    .dataframe tbody tr th:only-of-type {\n",
       "        vertical-align: middle;\n",
       "    }\n",
       "\n",
       "    .dataframe tbody tr th {\n",
       "        vertical-align: top;\n",
       "    }\n",
       "\n",
       "    .dataframe thead th {\n",
       "        text-align: right;\n",
       "    }\n",
       "</style>\n",
       "<table border=\"1\" class=\"dataframe\">\n",
       "  <thead>\n",
       "    <tr style=\"text-align: right;\">\n",
       "      <th></th>\n",
       "      <th>age</th>\n",
       "      <th>sex</th>\n",
       "      <th>trestbps</th>\n",
       "      <th>chol</th>\n",
       "      <th>fbs</th>\n",
       "      <th>thalch</th>\n",
       "      <th>exang</th>\n",
       "      <th>oldpeak</th>\n",
       "      <th>ca</th>\n",
       "      <th>cp_asymptomatic</th>\n",
       "      <th>...</th>\n",
       "      <th>slope_upsloping</th>\n",
       "      <th>thal_fixed defect</th>\n",
       "      <th>thal_normal</th>\n",
       "      <th>thal_reversable defect</th>\n",
       "      <th>Category_bps_Elevated</th>\n",
       "      <th>Category_bps_Hypertension Stage 1</th>\n",
       "      <th>Category_bps_Hypertension Stage 2</th>\n",
       "      <th>Category_bps_Hypertensive Crisis</th>\n",
       "      <th>Category_bps_Normal</th>\n",
       "      <th>target</th>\n",
       "    </tr>\n",
       "  </thead>\n",
       "  <tbody>\n",
       "    <tr>\n",
       "      <th>0</th>\n",
       "      <td>1.007024</td>\n",
       "      <td>1</td>\n",
       "      <td>0.717289</td>\n",
       "      <td>-0.236151</td>\n",
       "      <td>1</td>\n",
       "      <td>0.490336</td>\n",
       "      <td>0</td>\n",
       "      <td>1.368309</td>\n",
       "      <td>0.0</td>\n",
       "      <td>0</td>\n",
       "      <td>...</td>\n",
       "      <td>0</td>\n",
       "      <td>1</td>\n",
       "      <td>0</td>\n",
       "      <td>0</td>\n",
       "      <td>0</td>\n",
       "      <td>0</td>\n",
       "      <td>1</td>\n",
       "      <td>0</td>\n",
       "      <td>0</td>\n",
       "      <td>0</td>\n",
       "    </tr>\n",
       "    <tr>\n",
       "      <th>1</th>\n",
       "      <td>1.431447</td>\n",
       "      <td>1</td>\n",
       "      <td>1.553893</td>\n",
       "      <td>0.787312</td>\n",
       "      <td>0</td>\n",
       "      <td>-1.180391</td>\n",
       "      <td>1</td>\n",
       "      <td>0.612046</td>\n",
       "      <td>3.0</td>\n",
       "      <td>1</td>\n",
       "      <td>...</td>\n",
       "      <td>0</td>\n",
       "      <td>0</td>\n",
       "      <td>1</td>\n",
       "      <td>0</td>\n",
       "      <td>0</td>\n",
       "      <td>0</td>\n",
       "      <td>1</td>\n",
       "      <td>0</td>\n",
       "      <td>0</td>\n",
       "      <td>1</td>\n",
       "    </tr>\n",
       "    <tr>\n",
       "      <th>2</th>\n",
       "      <td>1.431447</td>\n",
       "      <td>1</td>\n",
       "      <td>-0.677052</td>\n",
       "      <td>-0.313393</td>\n",
       "      <td>0</td>\n",
       "      <td>-0.345027</td>\n",
       "      <td>1</td>\n",
       "      <td>1.651908</td>\n",
       "      <td>2.0</td>\n",
       "      <td>1</td>\n",
       "      <td>...</td>\n",
       "      <td>0</td>\n",
       "      <td>0</td>\n",
       "      <td>0</td>\n",
       "      <td>1</td>\n",
       "      <td>1</td>\n",
       "      <td>0</td>\n",
       "      <td>0</td>\n",
       "      <td>0</td>\n",
       "      <td>0</td>\n",
       "      <td>1</td>\n",
       "    </tr>\n",
       "    <tr>\n",
       "      <th>3</th>\n",
       "      <td>-1.751727</td>\n",
       "      <td>1</td>\n",
       "      <td>-0.119315</td>\n",
       "      <td>0.092130</td>\n",
       "      <td>0</td>\n",
       "      <td>1.962168</td>\n",
       "      <td>0</td>\n",
       "      <td>2.502703</td>\n",
       "      <td>0.0</td>\n",
       "      <td>0</td>\n",
       "      <td>...</td>\n",
       "      <td>0</td>\n",
       "      <td>0</td>\n",
       "      <td>1</td>\n",
       "      <td>0</td>\n",
       "      <td>0</td>\n",
       "      <td>1</td>\n",
       "      <td>0</td>\n",
       "      <td>0</td>\n",
       "      <td>0</td>\n",
       "      <td>0</td>\n",
       "    </tr>\n",
       "    <tr>\n",
       "      <th>4</th>\n",
       "      <td>-1.327304</td>\n",
       "      <td>0</td>\n",
       "      <td>-0.119315</td>\n",
       "      <td>-0.796158</td>\n",
       "      <td>0</td>\n",
       "      <td>1.365479</td>\n",
       "      <td>0</td>\n",
       "      <td>0.517513</td>\n",
       "      <td>0.0</td>\n",
       "      <td>0</td>\n",
       "      <td>...</td>\n",
       "      <td>1</td>\n",
       "      <td>0</td>\n",
       "      <td>1</td>\n",
       "      <td>0</td>\n",
       "      <td>0</td>\n",
       "      <td>1</td>\n",
       "      <td>0</td>\n",
       "      <td>0</td>\n",
       "      <td>0</td>\n",
       "      <td>0</td>\n",
       "    </tr>\n",
       "  </tbody>\n",
       "</table>\n",
       "<p>5 rows × 28 columns</p>\n",
       "</div>"
      ],
      "text/plain": [
       "        age  sex  trestbps      chol  fbs    thalch  exang   oldpeak   ca  \\\n",
       "0  1.007024    1  0.717289 -0.236151    1  0.490336      0  1.368309  0.0   \n",
       "1  1.431447    1  1.553893  0.787312    0 -1.180391      1  0.612046  3.0   \n",
       "2  1.431447    1 -0.677052 -0.313393    0 -0.345027      1  1.651908  2.0   \n",
       "3 -1.751727    1 -0.119315  0.092130    0  1.962168      0  2.502703  0.0   \n",
       "4 -1.327304    0 -0.119315 -0.796158    0  1.365479      0  0.517513  0.0   \n",
       "\n",
       "   cp_asymptomatic  ...  slope_upsloping  thal_fixed defect  thal_normal  \\\n",
       "0                0  ...                0                  1            0   \n",
       "1                1  ...                0                  0            1   \n",
       "2                1  ...                0                  0            0   \n",
       "3                0  ...                0                  0            1   \n",
       "4                0  ...                1                  0            1   \n",
       "\n",
       "   thal_reversable defect  Category_bps_Elevated  \\\n",
       "0                       0                      0   \n",
       "1                       0                      0   \n",
       "2                       1                      1   \n",
       "3                       0                      0   \n",
       "4                       0                      0   \n",
       "\n",
       "   Category_bps_Hypertension Stage 1  Category_bps_Hypertension Stage 2  \\\n",
       "0                                  0                                  1   \n",
       "1                                  0                                  1   \n",
       "2                                  0                                  0   \n",
       "3                                  1                                  0   \n",
       "4                                  1                                  0   \n",
       "\n",
       "   Category_bps_Hypertensive Crisis  Category_bps_Normal  target  \n",
       "0                                 0                    0       0  \n",
       "1                                 0                    0       1  \n",
       "2                                 0                    0       1  \n",
       "3                                 0                    0       0  \n",
       "4                                 0                    0       0  \n",
       "\n",
       "[5 rows x 28 columns]"
      ]
     },
     "execution_count": 54,
     "metadata": {},
     "output_type": "execute_result"
    }
   ],
   "source": [
    "data = data.drop('num', axis=1)\n",
    "data.head()"
   ]
  },
  {
   "cell_type": "markdown",
   "id": "21b8f752",
   "metadata": {},
   "source": [
    "### Split data into train and test"
   ]
  },
  {
   "cell_type": "code",
   "execution_count": 55,
   "id": "f0797613",
   "metadata": {},
   "outputs": [],
   "source": [
    "X = data.drop('target', axis=1)\n",
    "y = data['target']\n",
    "X_train, X_test, y_train, y_test = train_test_split(X, y, test_size=0.2, random_state=42)"
   ]
  },
  {
   "cell_type": "markdown",
   "id": "9a49c257",
   "metadata": {},
   "source": [
    "## Logistic Regression and Random Forest "
   ]
  },
  {
   "cell_type": "code",
   "execution_count": 56,
   "id": "57d5a56f",
   "metadata": {},
   "outputs": [
    {
     "name": "stdout",
     "output_type": "stream",
     "text": [
      "Accuracy of logistic Regression: 79.8913043478261\n",
      "Accuracy of Random Forest: 82.6086956521739\n"
     ]
    }
   ],
   "source": [
    "# logistic regression\n",
    "logreg = LogisticRegression(max_iter=1000)\n",
    "logreg.fit(X_train, y_train)\n",
    "y_pred_logreg = logreg.predict(X_test)\n",
    "accuracy_logreg = accuracy_score(y_test, y_pred_logreg)\n",
    "print(f\"Accuracy of logistic Regression: {accuracy_logreg*100}\")\n",
    "# Random Forest\n",
    "rf = RandomForestClassifier(n_estimators=100, random_state=42)\n",
    "rf.fit(X_train, y_train)\n",
    "y_pred_rf = rf.predict(X_test)\n",
    "accuracy_rf = accuracy_score(y_test, y_pred_rf)\n",
    "print(f\"Accuracy of Random Forest: {accuracy_rf*100}\")"
   ]
  },
  {
   "cell_type": "code",
   "execution_count": 57,
   "id": "ebb9c62c",
   "metadata": {},
   "outputs": [
    {
     "name": "stdout",
     "output_type": "stream",
     "text": [
      "=== Logistic Regression ===\n",
      "Accuracy: 0.7989130434782609\n",
      "Confusion Matrix:\n",
      "[[57 18]\n",
      " [19 90]]\n",
      "Classification Report:\n",
      "              precision    recall  f1-score   support\n",
      "\n",
      "           0       0.75      0.76      0.75        75\n",
      "           1       0.83      0.83      0.83       109\n",
      "\n",
      "    accuracy                           0.80       184\n",
      "   macro avg       0.79      0.79      0.79       184\n",
      "weighted avg       0.80      0.80      0.80       184\n",
      "\n",
      "=== Decision Tree ===\n",
      "Accuracy: 0.8260869565217391\n",
      "Confusion Matrix:\n",
      "[[60 15]\n",
      " [17 92]]\n",
      "Classification Report:\n",
      "              precision    recall  f1-score   support\n",
      "\n",
      "           0       0.78      0.80      0.79        75\n",
      "           1       0.86      0.84      0.85       109\n",
      "\n",
      "    accuracy                           0.83       184\n",
      "   macro avg       0.82      0.82      0.82       184\n",
      "weighted avg       0.83      0.83      0.83       184\n",
      "\n"
     ]
    }
   ],
   "source": [
    "# Evaluate Logistic Regression\n",
    "print(\"=== Logistic Regression ===\")\n",
    "print(f\"Accuracy: {accuracy_logreg}\")\n",
    "print(\"Confusion Matrix:\")\n",
    "print(confusion_matrix(y_test, y_pred_logreg))\n",
    "print(\"Classification Report:\")\n",
    "print(classification_report(y_test, y_pred_logreg))\n",
    "\n",
    "# Evaluate Decision Tree\n",
    "print(\"=== Decision Tree ===\")\n",
    "print(f\"Accuracy: {accuracy_rf}\")\n",
    "print(\"Confusion Matrix:\")\n",
    "print(confusion_matrix(y_test, y_pred_rf))\n",
    "print(\"Classification Report:\")\n",
    "print(classification_report(y_test, y_pred_rf))"
   ]
  },
  {
   "cell_type": "markdown",
   "id": "b796bfe3",
   "metadata": {},
   "source": [
    "### Cross Validation "
   ]
  },
  {
   "cell_type": "code",
   "execution_count": 58,
   "id": "87f4d26c",
   "metadata": {},
   "outputs": [
    {
     "name": "stdout",
     "output_type": "stream",
     "text": [
      "LogisticRegression\n",
      "Cross-validation Accuracy: 0.7920705630791163\n",
      "Cross-validation Precision: 0.8184366254673169\n",
      "Cross-validation Recall: 0.8269850514463212\n",
      "Cross-validation F1-Score: 0.8164920506792693\n"
     ]
    }
   ],
   "source": [
    "scoring = ['accuracy', 'precision', 'recall', 'f1']\n",
    "\n",
    "lr_cv_result = cross_validate(logreg, X, y, cv=5, scoring=scoring)\n",
    "print(\"LogisticRegression\")\n",
    "print(f\"Cross-validation Accuracy: {np.mean(lr_cv_result['test_accuracy'])}\")\n",
    "print(f\"Cross-validation Precision: {np.mean(lr_cv_result['test_precision'])}\")\n",
    "print(f\"Cross-validation Recall: {np.mean(lr_cv_result['test_recall'])}\")\n",
    "print(f\"Cross-validation F1-Score: {np.mean(lr_cv_result['test_f1'])}\")"
   ]
  },
  {
   "cell_type": "code",
   "execution_count": 59,
   "id": "56549f89",
   "metadata": {},
   "outputs": [
    {
     "name": "stdout",
     "output_type": "stream",
     "text": [
      "Random Forest\n",
      "Cross-validation Accuracy: 0.7615942028985507\n",
      "Cross-validation Precision: 0.7889543595241768\n",
      "Cross-validation Recall: 0.8132207338380898\n",
      "Cross-validation F1-score: 0.7920845926728279\n"
     ]
    }
   ],
   "source": [
    "rf_cv_results = cross_validate(rf, X, y, cv=5, scoring=scoring)\n",
    "print(\"Random Forest\")\n",
    "print(f\"Cross-validation Accuracy: {np.mean(rf_cv_results['test_accuracy'])}\")\n",
    "print(f\"Cross-validation Precision: {np.mean(rf_cv_results['test_precision'])}\")\n",
    "print(f\"Cross-validation Recall: {np.mean(rf_cv_results['test_recall'])}\")\n",
    "print(f\"Cross-validation F1-score: {np.mean(rf_cv_results['test_f1'])}\")\n"
   ]
  },
  {
   "cell_type": "markdown",
   "id": "ec6b4373",
   "metadata": {},
   "source": [
    "### For Heart Disease Detection:\n",
    "\n",
    " #### Recall is the most critical metric\n",
    "\n",
    "### Why?\n",
    "\n",
    "- Recall = True Positives / (True Positives + False Negatives)\n",
    "\n",
    "- It tells us how many actual heart disease cases we successfully caught.\n",
    "\n",
    "- In healthcare, missing a disease case (false negative) can be dangerous.\n",
    "\n",
    "#### Model\n",
    "Logistic Regression  Recall *0.8269* \n",
    "\n",
    "Random Forest Recall *0.8132*\n",
    "\n"
   ]
  },
  {
   "cell_type": "markdown",
   "id": "8cf4af7c",
   "metadata": {},
   "source": [
    "## XGBoost"
   ]
  },
  {
   "cell_type": "code",
   "execution_count": 60,
   "id": "a1a01cc9",
   "metadata": {},
   "outputs": [
    {
     "name": "stdout",
     "output_type": "stream",
     "text": [
      "=== XGBoost Cross-Validation Results ===\n",
      "Accuracy: 0.7137\n",
      "Precision: 0.7505\n",
      "Recall: 0.7680\n",
      "F1 Score: 0.7493\n"
     ]
    }
   ],
   "source": [
    "xgb = XGBClassifier(eval_metric='logloss', random_state=42)\n",
    "\n",
    "cv_results = cross_validate(xgb, X, y, cv=5, scoring=scoring)\n",
    "\n",
    "print(\"=== XGBoost Cross-Validation Results ===\")\n",
    "print(f\"Accuracy: {cv_results['test_accuracy'].mean():.4f}\")\n",
    "print(f\"Precision: {cv_results['test_precision'].mean():.4f}\")\n",
    "print(f\"Recall: {cv_results['test_recall'].mean():.4f}\")\n",
    "print(f\"F1 Score: {cv_results['test_f1'].mean():.4f}\")"
   ]
  },
  {
   "cell_type": "markdown",
   "id": "475b8ffd",
   "metadata": {},
   "source": [
    "since the best performing model is logistic regression we will now hyper tune the logistic regression for better performance "
   ]
  },
  {
   "cell_type": "markdown",
   "id": "61674024",
   "metadata": {},
   "source": [
    "### Hyper Tunning model"
   ]
  },
  {
   "cell_type": "code",
   "execution_count": 61,
   "id": "1a6d79ea",
   "metadata": {},
   "outputs": [
    {
     "name": "stdout",
     "output_type": "stream",
     "text": [
      "Best Params: {'C': 0.01, 'max_iter': 100, 'penalty': 'l2', 'solver': 'liblinear'}\n",
      "Best Recall Score: 0.8308677926616191\n"
     ]
    }
   ],
   "source": [
    "param_grid = {\n",
    "     'C': [0.01, 0.1, 1, 10, 100],\n",
    "    'penalty': ['l2'],\n",
    "    'solver': ['lbfgs', 'liblinear', 'newton-cg'],\n",
    "    'max_iter': [100, 200, 500]\n",
    "}\n",
    "\n",
    "grid = GridSearchCV(estimator=logreg, param_grid=param_grid, \n",
    "                    scoring='recall', cv=5, n_jobs=-1)\n",
    "\n",
    "grid.fit(X, y)\n",
    "\n",
    "print(\"Best Params:\", grid.best_params_)\n",
    "print(\"Best Recall Score:\", grid.best_score_)"
   ]
  },
  {
   "cell_type": "markdown",
   "id": "5edef349",
   "metadata": {},
   "source": [
    "### Ensemble tech"
   ]
  },
  {
   "cell_type": "code",
   "execution_count": 65,
   "id": "343d9f71",
   "metadata": {},
   "outputs": [
    {
     "name": "stdout",
     "output_type": "stream",
     "text": [
      "=== Ensemble VotingClassifier Results ===\n",
      "Accuracy: 0.7453\n",
      "Precision: 0.7774\n",
      "Recall: 0.8015\n",
      "F1 Score: 0.7784\n"
     ]
    }
   ],
   "source": [
    "lr_best = LogisticRegression(C=0.01, max_iter=100, penalty='l2', solver='liblinear', random_state=42)\n",
    "ensemble = VotingClassifier(\n",
    "    estimators=[\n",
    "    ('lr', lr_best),\n",
    "    ('rf', rf),\n",
    "    ('xgb', xgb)]\n",
    "    ,voting='soft')\n",
    "\n",
    "all_cv_results = cross_validate(ensemble, X, y, cv=5, scoring=scoring)\n",
    "\n",
    "print(\"=== Ensemble VotingClassifier Results ===\")\n",
    "print(f\"Accuracy: {all_cv_results['test_accuracy'].mean():.4f}\")\n",
    "print(f\"Precision: {all_cv_results['test_precision'].mean():.4f}\")\n",
    "print(f\"Recall: {all_cv_results['test_recall'].mean():.4f}\")\n",
    "print(f\"F1 Score: {all_cv_results['test_f1'].mean():.4f}\")"
   ]
  },
  {
   "cell_type": "markdown",
   "id": "8d8307a7",
   "metadata": {},
   "source": [
    "#### Increasing Recall using SMOTE (Synthetic Minority Oversampling Technique) can help increase recall by balancing the dataset"
   ]
  },
  {
   "cell_type": "code",
   "execution_count": 67,
   "id": "7bc02b24",
   "metadata": {},
   "outputs": [
    {
     "name": "stdout",
     "output_type": "stream",
     "text": [
      "Before SMOTE: target\n",
      "1    406\n",
      "0    329\n",
      "Name: count, dtype: int64\n",
      "After SMOTE: target\n",
      "1    406\n",
      "0    406\n",
      "Name: count, dtype: int64\n"
     ]
    }
   ],
   "source": [
    "from imblearn.over_sampling import SMOTE\n",
    "from sklearn.model_selection import train_test_split\n",
    "\n",
    "# First, split your data\n",
    "X_train, X_test, y_train, y_test = train_test_split(X, y, test_size=0.2, random_state=42, stratify=y)\n",
    "\n",
    "# Apply SMOTE on training data\n",
    "smote = SMOTE(random_state=42)\n",
    "X_resampled, y_resampled = smote.fit_resample(X_train, y_train)\n",
    "\n",
    "print(\"Before SMOTE:\", y_train.value_counts())\n",
    "print(\"After SMOTE:\", y_resampled.value_counts())\n"
   ]
  },
  {
   "cell_type": "code",
   "execution_count": null,
   "id": "14039f58",
   "metadata": {},
   "outputs": [
    {
     "name": "stdout",
     "output_type": "stream",
     "text": [
      "              precision    recall  f1-score   support\n",
      "\n",
      "           0       0.79      0.74      0.77        82\n",
      "           1       0.80      0.84      0.82       102\n",
      "\n",
      "    accuracy                           0.80       184\n",
      "   macro avg       0.80      0.79      0.80       184\n",
      "weighted avg       0.80      0.80      0.80       184\n",
      "\n"
     ]
    }
   ],
   "source": [
    "\n",
    "lr_model = LogisticRegression(C=0.01, max_iter=100, penalty='l2', solver='liblinear', random_state=42)\n",
    "lr_model.fit(X_resampled, y_resampled)\n",
    "y_pred_best_lr = lr_model.predict(X_test)\n",
    "print(classification_report(y_test, y_pred_best_lr))\n"
   ]
  },
  {
   "cell_type": "markdown",
   "id": "eabb5901",
   "metadata": {},
   "source": [
    "the recall increased only by 1%"
   ]
  },
  {
   "cell_type": "markdown",
   "id": "a34bc29f",
   "metadata": {},
   "source": [
    "### Training the best model and saving it..."
   ]
  },
  {
   "cell_type": "code",
   "execution_count": 69,
   "id": "eb6c9929",
   "metadata": {},
   "outputs": [
    {
     "name": "stdout",
     "output_type": "stream",
     "text": [
      "              precision    recall  f1-score   support\n",
      "\n",
      "           0       0.82      0.77      0.79        82\n",
      "           1       0.82      0.86      0.84       102\n",
      "\n",
      "    accuracy                           0.82       184\n",
      "   macro avg       0.82      0.82      0.82       184\n",
      "weighted avg       0.82      0.82      0.82       184\n",
      "\n"
     ]
    }
   ],
   "source": [
    "best_logreg = LogisticRegression(C=0.01, max_iter=100, penalty='l2', solver='liblinear', random_state=42)\n",
    "best_logreg.fit(X_train, y_train)\n",
    "\n",
    "y_pred_best_lr = logreg.predict(X_test)\n",
    "print(classification_report(y_test, y_pred_best_lr))\n"
   ]
  },
  {
   "cell_type": "code",
   "execution_count": 70,
   "id": "47a6eee6",
   "metadata": {},
   "outputs": [
    {
     "name": "stdout",
     "output_type": "stream",
     "text": [
      "Model Saved Sucessfully\n"
     ]
    }
   ],
   "source": [
    "import joblib \n",
    "joblib.dump(best_logreg, \"logistic_regression.pkl\")\n",
    "print(\"Model Saved Sucessfully\")"
   ]
  },
  {
   "cell_type": "code",
   "execution_count": null,
   "id": "4d660cf1",
   "metadata": {},
   "outputs": [],
   "source": []
  }
 ],
 "metadata": {
  "kernelspec": {
   "display_name": ".venv",
   "language": "python",
   "name": "python3"
  },
  "language_info": {
   "codemirror_mode": {
    "name": "ipython",
    "version": 3
   },
   "file_extension": ".py",
   "mimetype": "text/x-python",
   "name": "python",
   "nbconvert_exporter": "python",
   "pygments_lexer": "ipython3",
   "version": "3.12.1"
  }
 },
 "nbformat": 4,
 "nbformat_minor": 5
}
