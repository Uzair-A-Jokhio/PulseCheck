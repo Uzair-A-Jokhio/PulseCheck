{
 "cells": [
  {
   "cell_type": "markdown",
   "metadata": {},
   "source": [
    "# Performing EDA"
   ]
  },
  {
   "cell_type": "code",
   "execution_count": 258,
   "metadata": {},
   "outputs": [],
   "source": [
    "#importing libraries\n",
    "import numpy as np\n",
    "import pandas as pd \n",
    "import matplotlib.pyplot as plt\n",
    "import seaborn as sns\n",
    "import plotly.express as px\n",
    "\n"
   ]
  },
  {
   "cell_type": "code",
   "execution_count": 259,
   "metadata": {},
   "outputs": [
    {
     "data": {
      "text/html": [
       "<div>\n",
       "<style scoped>\n",
       "    .dataframe tbody tr th:only-of-type {\n",
       "        vertical-align: middle;\n",
       "    }\n",
       "\n",
       "    .dataframe tbody tr th {\n",
       "        vertical-align: top;\n",
       "    }\n",
       "\n",
       "    .dataframe thead th {\n",
       "        text-align: right;\n",
       "    }\n",
       "</style>\n",
       "<table border=\"1\" class=\"dataframe\">\n",
       "  <thead>\n",
       "    <tr style=\"text-align: right;\">\n",
       "      <th></th>\n",
       "      <th>id</th>\n",
       "      <th>age</th>\n",
       "      <th>sex</th>\n",
       "      <th>dataset</th>\n",
       "      <th>cp</th>\n",
       "      <th>trestbps</th>\n",
       "      <th>chol</th>\n",
       "      <th>fbs</th>\n",
       "      <th>restecg</th>\n",
       "      <th>thalch</th>\n",
       "      <th>exang</th>\n",
       "      <th>oldpeak</th>\n",
       "      <th>slope</th>\n",
       "      <th>ca</th>\n",
       "      <th>thal</th>\n",
       "      <th>num</th>\n",
       "    </tr>\n",
       "  </thead>\n",
       "  <tbody>\n",
       "    <tr>\n",
       "      <th>0</th>\n",
       "      <td>1</td>\n",
       "      <td>63</td>\n",
       "      <td>Male</td>\n",
       "      <td>Cleveland</td>\n",
       "      <td>typical angina</td>\n",
       "      <td>145.0</td>\n",
       "      <td>233.0</td>\n",
       "      <td>True</td>\n",
       "      <td>lv hypertrophy</td>\n",
       "      <td>150.0</td>\n",
       "      <td>False</td>\n",
       "      <td>2.3</td>\n",
       "      <td>downsloping</td>\n",
       "      <td>0.0</td>\n",
       "      <td>fixed defect</td>\n",
       "      <td>0</td>\n",
       "    </tr>\n",
       "    <tr>\n",
       "      <th>1</th>\n",
       "      <td>2</td>\n",
       "      <td>67</td>\n",
       "      <td>Male</td>\n",
       "      <td>Cleveland</td>\n",
       "      <td>asymptomatic</td>\n",
       "      <td>160.0</td>\n",
       "      <td>286.0</td>\n",
       "      <td>False</td>\n",
       "      <td>lv hypertrophy</td>\n",
       "      <td>108.0</td>\n",
       "      <td>True</td>\n",
       "      <td>1.5</td>\n",
       "      <td>flat</td>\n",
       "      <td>3.0</td>\n",
       "      <td>normal</td>\n",
       "      <td>2</td>\n",
       "    </tr>\n",
       "    <tr>\n",
       "      <th>2</th>\n",
       "      <td>3</td>\n",
       "      <td>67</td>\n",
       "      <td>Male</td>\n",
       "      <td>Cleveland</td>\n",
       "      <td>asymptomatic</td>\n",
       "      <td>120.0</td>\n",
       "      <td>229.0</td>\n",
       "      <td>False</td>\n",
       "      <td>lv hypertrophy</td>\n",
       "      <td>129.0</td>\n",
       "      <td>True</td>\n",
       "      <td>2.6</td>\n",
       "      <td>flat</td>\n",
       "      <td>2.0</td>\n",
       "      <td>reversable defect</td>\n",
       "      <td>1</td>\n",
       "    </tr>\n",
       "    <tr>\n",
       "      <th>3</th>\n",
       "      <td>4</td>\n",
       "      <td>37</td>\n",
       "      <td>Male</td>\n",
       "      <td>Cleveland</td>\n",
       "      <td>non-anginal</td>\n",
       "      <td>130.0</td>\n",
       "      <td>250.0</td>\n",
       "      <td>False</td>\n",
       "      <td>normal</td>\n",
       "      <td>187.0</td>\n",
       "      <td>False</td>\n",
       "      <td>3.5</td>\n",
       "      <td>downsloping</td>\n",
       "      <td>0.0</td>\n",
       "      <td>normal</td>\n",
       "      <td>0</td>\n",
       "    </tr>\n",
       "    <tr>\n",
       "      <th>4</th>\n",
       "      <td>5</td>\n",
       "      <td>41</td>\n",
       "      <td>Female</td>\n",
       "      <td>Cleveland</td>\n",
       "      <td>atypical angina</td>\n",
       "      <td>130.0</td>\n",
       "      <td>204.0</td>\n",
       "      <td>False</td>\n",
       "      <td>lv hypertrophy</td>\n",
       "      <td>172.0</td>\n",
       "      <td>False</td>\n",
       "      <td>1.4</td>\n",
       "      <td>upsloping</td>\n",
       "      <td>0.0</td>\n",
       "      <td>normal</td>\n",
       "      <td>0</td>\n",
       "    </tr>\n",
       "  </tbody>\n",
       "</table>\n",
       "</div>"
      ],
      "text/plain": [
       "   id  age     sex    dataset               cp  trestbps   chol    fbs  \\\n",
       "0   1   63    Male  Cleveland   typical angina     145.0  233.0   True   \n",
       "1   2   67    Male  Cleveland     asymptomatic     160.0  286.0  False   \n",
       "2   3   67    Male  Cleveland     asymptomatic     120.0  229.0  False   \n",
       "3   4   37    Male  Cleveland      non-anginal     130.0  250.0  False   \n",
       "4   5   41  Female  Cleveland  atypical angina     130.0  204.0  False   \n",
       "\n",
       "          restecg  thalch  exang  oldpeak        slope   ca  \\\n",
       "0  lv hypertrophy   150.0  False      2.3  downsloping  0.0   \n",
       "1  lv hypertrophy   108.0   True      1.5         flat  3.0   \n",
       "2  lv hypertrophy   129.0   True      2.6         flat  2.0   \n",
       "3          normal   187.0  False      3.5  downsloping  0.0   \n",
       "4  lv hypertrophy   172.0  False      1.4    upsloping  0.0   \n",
       "\n",
       "                thal  num  \n",
       "0       fixed defect    0  \n",
       "1             normal    2  \n",
       "2  reversable defect    1  \n",
       "3             normal    0  \n",
       "4             normal    0  "
      ]
     },
     "execution_count": 259,
     "metadata": {},
     "output_type": "execute_result"
    }
   ],
   "source": [
    "#Data Loading and Inspection\n",
    "df = pd.read_csv(\"../DataCollection/heart_disease_uci.csv\")\n",
    "\n",
    "df.head()\n"
   ]
  },
  {
   "cell_type": "code",
   "execution_count": 260,
   "metadata": {},
   "outputs": [],
   "source": [
    "# Drop unnecessary columns\n",
    "df.drop(['id', 'dataset'], axis=1, inplace=True)"
   ]
  },
  {
   "cell_type": "code",
   "execution_count": 342,
   "metadata": {},
   "outputs": [
    {
     "name": "stdout",
     "output_type": "stream",
     "text": [
      "<class 'pandas.core.frame.DataFrame'>\n",
      "Index: 919 entries, 0 to 919\n",
      "Data columns (total 28 columns):\n",
      " #   Column                             Non-Null Count  Dtype  \n",
      "---  ------                             --------------  -----  \n",
      " 0   age                                919 non-null    float64\n",
      " 1   sex                                919 non-null    int64  \n",
      " 2   trestbps                           919 non-null    float64\n",
      " 3   chol                               919 non-null    float64\n",
      " 4   fbs                                919 non-null    int32  \n",
      " 5   thalch                             919 non-null    float64\n",
      " 6   exang                              919 non-null    int32  \n",
      " 7   oldpeak                            919 non-null    float64\n",
      " 8   ca                                 919 non-null    float64\n",
      " 9   num                                919 non-null    int64  \n",
      " 10  cp_asymptomatic                    919 non-null    int32  \n",
      " 11  cp_atypical angina                 919 non-null    int32  \n",
      " 12  cp_non-anginal                     919 non-null    int32  \n",
      " 13  cp_typical angina                  919 non-null    int32  \n",
      " 14  restecg_lv hypertrophy             919 non-null    int32  \n",
      " 15  restecg_normal                     919 non-null    int32  \n",
      " 16  restecg_st-t abnormality           919 non-null    int32  \n",
      " 17  slope_downsloping                  919 non-null    int32  \n",
      " 18  slope_flat                         919 non-null    int32  \n",
      " 19  slope_upsloping                    919 non-null    int32  \n",
      " 20  thal_fixed defect                  919 non-null    int32  \n",
      " 21  thal_normal                        919 non-null    int32  \n",
      " 22  thal_reversable defect             919 non-null    int32  \n",
      " 23  Category_bps_Elevated              919 non-null    int32  \n",
      " 24  Category_bps_Hypertension Stage 1  919 non-null    int32  \n",
      " 25  Category_bps_Hypertension Stage 2  919 non-null    int32  \n",
      " 26  Category_bps_Hypertensive Crisis   919 non-null    int32  \n",
      " 27  Category_bps_Normal                919 non-null    int32  \n",
      "dtypes: float64(6), int32(20), int64(2)\n",
      "memory usage: 136.4 KB\n"
     ]
    }
   ],
   "source": [
    "#exploring the datatype of each column\n",
    "df.info()\n"
   ]
  },
  {
   "cell_type": "markdown",
   "metadata": {},
   "source": [
    "## Age Column"
   ]
  },
  {
   "cell_type": "code",
   "execution_count": 264,
   "metadata": {},
   "outputs": [
    {
     "name": "stdout",
     "output_type": "stream",
     "text": [
      "The minimum age is: 28 and the maximum age is: 77\n",
      "The mean age is: 53.51086956521739\n"
     ]
    }
   ],
   "source": [
    "#dealing with age column\n",
    "print(\"The minimum age is:\", df['age'].min(), \"and the maximum age is:\", df['age'].max())\n",
    "print(\"The mean age is:\", df['age'].mean())"
   ]
  },
  {
   "cell_type": "markdown",
   "metadata": {},
   "source": [
    "The age of the patients ranges from 28 to 77 years, and mean age of patients is 54 years."
   ]
  },
  {
   "cell_type": "code",
   "execution_count": 265,
   "metadata": {},
   "outputs": [
    {
     "data": {
      "text/plain": [
       "Text(0.5, 1.0, 'Distribution of age')"
      ]
     },
     "execution_count": 265,
     "metadata": {},
     "output_type": "execute_result"
    },
    {
     "data": {
      "image/png": "[encoded data removed]",
      "text/plain": [
       "<Figure size 640x480 with 1 Axes>"
      ]
     },
     "metadata": {},
     "output_type": "display_data"
    }
   ],
   "source": [
    "sns.histplot(df['age'] , bins = 50)\n",
    "plt.title(\"Distribution of age\")"
   ]
  },
  {
   "cell_type": "markdown",
   "metadata": {},
   "source": [
    "The age distribution appears normal (bell-shaped).\n",
    "\n",
    "The most frequent age range is 50–60 years, with a peak around 55 years.\n",
    "\n",
    "The dataset includes individuals aged approximately 30 to 75 years.\n"
   ]
  },
  {
   "cell_type": "markdown",
   "metadata": {},
   "source": [
    "## Sex Column"
   ]
  },
  {
   "cell_type": "code",
   "execution_count": 266,
   "metadata": {},
   "outputs": [
    {
     "name": "stdout",
     "output_type": "stream",
     "text": [
      "sex\n",
      "Male      726\n",
      "Female    194\n",
      "Name: count, dtype: int64\n",
      "The mean age of each gender is:  sex\n",
      "Female    52.474227\n",
      "Male      53.787879\n",
      "Name: age, dtype: float64\n"
     ]
    },
    {
     "data": {
      "image/png": "[encoded data removed]",
      "text/plain": [
       "<Figure size 600x400 with 1 Axes>"
      ]
     },
     "metadata": {},
     "output_type": "display_data"
    }
   ],
   "source": [
    "#dealing with sex column\n",
    "print(df['sex'].value_counts())\n",
    "\n",
    "# calculate mean of age column for each gender\n",
    "print(\"The mean age of each gender is: \", df.groupby('sex')['age'].mean())\n",
    "\n",
    "# Count plot\n",
    "plt.figure(figsize=(6, 4))\n",
    "sns.countplot(x=\"sex\", data=df, hue=\"sex\", palette=\"pastel\", legend=False)\n",
    "plt.xlabel(\"Sex \")\n",
    "plt.ylabel(\"Count\")\n",
    "plt.title(\"Distribution of Sex Column\")\n",
    "plt.show()\n"
   ]
  },
  {
   "cell_type": "markdown",
   "metadata": {},
   "source": [
    "## Chest Pain Column"
   ]
  },
  {
   "cell_type": "code",
   "execution_count": 267,
   "metadata": {},
   "outputs": [
    {
     "name": "stdout",
     "output_type": "stream",
     "text": [
      "0     typical angina\n",
      "1       asymptomatic\n",
      "2       asymptomatic\n",
      "3        non-anginal\n",
      "4    atypical angina\n",
      "Name: cp, dtype: object\n",
      "cp\n",
      "asymptomatic       496\n",
      "non-anginal        204\n",
      "atypical angina    174\n",
      "typical angina      46\n",
      "Name: count, dtype: int64\n"
     ]
    },
    {
     "data": {
      "application/vnd.plotly.v1+json": {
       "config": {
        "plotlyServerURL": "https://plot.ly"
       },
       "data": [
        {
         "domain": {
          "x": [
           0,
           1
          ],
          "y": [
           0,
           1
          ]
         },
         "hole": 0.3,
         "hovertemplate": "label=%{label}<br>value=%{value}<extra></extra>",
         "labels": [
          "Asymptomatic",
          "Non-Anginal",
          "Atypical Angina",
          "Typical Angina"
         ],
         "legendgroup": "",
         "name": "",
         "showlegend": true,
         "type": "pie",
         "values": [
          496,
          204,
          174,
          46
         ]
        }
       ],
       "layout": {
        "legend": {
         "tracegroupgap": 0
        },
        "template": {
         "data": {
          "bar": [
           {
            "error_x": {
             "color": "#2a3f5f"
            },
            "error_y": {
             "color": "#2a3f5f"
            },
            "marker": {
             "line": {
              "color": "#E5ECF6",
              "width": 0.5
             },
             "pattern": {
              "fillmode": "overlay",
              "size": 10,
              "solidity": 0.2
             }
            },
            "type": "bar"
           }
          ],
          "barpolar": [
           {
            "marker": {
             "line": {
              "color": "#E5ECF6",
              "width": 0.5
             },
             "pattern": {
              "fillmode": "overlay",
              "size": 10,
              "solidity": 0.2
             }
            },
            "type": "barpolar"
           }
          ],
          "carpet": [
           {
            "aaxis": {
             "endlinecolor": "#2a3f5f",
             "gridcolor": "white",
             "linecolor": "white",
             "minorgridcolor": "white",
             "startlinecolor": "#2a3f5f"
            },
            "baxis": {
             "endlinecolor": "#2a3f5f",
             "gridcolor": "white",
             "linecolor": "white",
             "minorgridcolor": "white",
             "startlinecolor": "#2a3f5f"
            },
            "type": "carpet"
           }
          ],
          "choropleth": [
           {
            "colorbar": {
             "outlinewidth": 0,
             "ticks": ""
            },
            "type": "choropleth"
           }
          ],
          "contour": [
           {
            "colorbar": {
             "outlinewidth": 0,
             "ticks": ""
            },
            "colorscale": [
             [
              0,
              "#0d0887"
             ],
             [
              0.1111111111111111,
              "#46039f"
             ],
             [
              0.2222222222222222,
              "#7201a8"
             ],
             [
              0.3333333333333333,
              "#9c179e"
             ],
             [
              0.4444444444444444,
              "#bd3786"
             ],
             [
              0.5555555555555556,
              "#d8576b"
             ],
             [
              0.6666666666666666,
              "#ed7953"
             ],
             [
              0.7777777777777778,
              "#fb9f3a"
             ],
             [
              0.8888888888888888,
              "#fdca26"
             ],
             [
              1,
              "#f0f921"
             ]
            ],
            "type": "contour"
           }
          ],
          "contourcarpet": [
           {
            "colorbar": {
             "outlinewidth": 0,
             "ticks": ""
            },
            "type": "contourcarpet"
           }
          ],
          "heatmap": [
           {
            "colorbar": {
             "outlinewidth": 0,
             "ticks": ""
            },
            "colorscale": [
             [
              0,
              "#0d0887"
             ],
             [
              0.1111111111111111,
              "#46039f"
             ],
             [
              0.2222222222222222,
              "#7201a8"
             ],
             [
              0.3333333333333333,
              "#9c179e"
             ],
             [
              0.4444444444444444,
              "#bd3786"
             ],
             [
              0.5555555555555556,
              "#d8576b"
             ],
             [
              0.6666666666666666,
              "#ed7953"
             ],
             [
              0.7777777777777778,
              "#fb9f3a"
             ],
             [
              0.8888888888888888,
              "#fdca26"
             ],
             [
              1,
              "#f0f921"
             ]
            ],
            "type": "heatmap"
           }
          ],
          "heatmapgl": [
           {
            "colorbar": {
             "outlinewidth": 0,
             "ticks": ""
            },
            "colorscale": [
             [
              0,
              "#0d0887"
             ],
             [
              0.1111111111111111,
              "#46039f"
             ],
             [
              0.2222222222222222,
              "#7201a8"
             ],
             [
              0.3333333333333333,
              "#9c179e"
             ],
             [
              0.4444444444444444,
              "#bd3786"
             ],
             [
              0.5555555555555556,
              "#d8576b"
             ],
             [
              0.6666666666666666,
              "#ed7953"
             ],
             [
              0.7777777777777778,
              "#fb9f3a"
             ],
             [
              0.8888888888888888,
              "#fdca26"
             ],
             [
              1,
              "#f0f921"
             ]
            ],
            "type": "heatmapgl"
           }
          ],
          "histogram": [
           {
            "marker": {
             "pattern": {
              "fillmode": "overlay",
              "size": 10,
              "solidity": 0.2
             }
            },
            "type": "histogram"
           }
          ],
          "histogram2d": [
           {
            "colorbar": {
             "outlinewidth": 0,
             "ticks": ""
            },
            "colorscale": [
             [
              0,
              "#0d0887"
             ],
             [
              0.1111111111111111,
              "#46039f"
             ],
             [
              0.2222222222222222,
              "#7201a8"
             ],
             [
              0.3333333333333333,
              "#9c179e"
             ],
             [
              0.4444444444444444,
              "#bd3786"
             ],
             [
              0.5555555555555556,
              "#d8576b"
             ],
             [
              0.6666666666666666,
              "#ed7953"
             ],
             [
              0.7777777777777778,
              "#fb9f3a"
             ],
             [
              0.8888888888888888,
              "#fdca26"
             ],
             [
              1,
              "#f0f921"
             ]
            ],
            "type": "histogram2d"
           }
          ],
          "histogram2dcontour": [
           {
            "colorbar": {
             "outlinewidth": 0,
             "ticks": ""
            },
            "colorscale": [
             [
              0,
              "#0d0887"
             ],
             [
              0.1111111111111111,
              "#46039f"
             ],
             [
              0.2222222222222222,
              "#7201a8"
             ],
             [
              0.3333333333333333,
              "#9c179e"
             ],
             [
              0.4444444444444444,
              "#bd3786"
             ],
             [
              0.5555555555555556,
              "#d8576b"
             ],
             [
              0.6666666666666666,
              "#ed7953"
             ],
             [
              0.7777777777777778,
              "#fb9f3a"
             ],
             [
              0.8888888888888888,
              "#fdca26"
             ],
             [
              1,
              "#f0f921"
             ]
            ],
            "type": "histogram2dcontour"
           }
          ],
          "mesh3d": [
           {
            "colorbar": {
             "outlinewidth": 0,
             "ticks": ""
            },
            "type": "mesh3d"
           }
          ],
          "parcoords": [
           {
            "line": {
             "colorbar": {
              "outlinewidth": 0,
              "ticks": ""
             }
            },
            "type": "parcoords"
           }
          ],
          "pie": [
           {
            "automargin": true,
            "type": "pie"
           }
          ],
          "scatter": [
           {
            "fillpattern": {
             "fillmode": "overlay",
             "size": 10,
             "solidity": 0.2
            },
            "type": "scatter"
           }
          ],
          "scatter3d": [
           {
            "line": {
             "colorbar": {
              "outlinewidth": 0,
              "ticks": ""
             }
            },
            "marker": {
             "colorbar": {
              "outlinewidth": 0,
              "ticks": ""
             }
            },
            "type": "scatter3d"
           }
          ],
          "scattercarpet": [
           {
            "marker": {
             "colorbar": {
              "outlinewidth": 0,
              "ticks": ""
             }
            },
            "type": "scattercarpet"
           }
          ],
          "scattergeo": [
           {
            "marker": {
             "colorbar": {
              "outlinewidth": 0,
              "ticks": ""
             }
            },
            "type": "scattergeo"
           }
          ],
          "scattergl": [
           {
            "marker": {
             "colorbar": {
              "outlinewidth": 0,
              "ticks": ""
             }
            },
            "type": "scattergl"
           }
          ],
          "scattermapbox": [
           {
            "marker": {
             "colorbar": {
              "outlinewidth": 0,
              "ticks": ""
             }
            },
            "type": "scattermapbox"
           }
          ],
          "scatterpolar": [
           {
            "marker": {
             "colorbar": {
              "outlinewidth": 0,
              "ticks": ""
             }
            },
            "type": "scatterpolar"
           }
          ],
          "scatterpolargl": [
           {
            "marker": {
             "colorbar": {
              "outlinewidth": 0,
              "ticks": ""
             }
            },
            "type": "scatterpolargl"
           }
          ],
          "scatterternary": [
           {
            "marker": {
             "colorbar": {
              "outlinewidth": 0,
              "ticks": ""
             }
            },
            "type": "scatterternary"
           }
          ],
          "surface": [
           {
            "colorbar": {
             "outlinewidth": 0,
             "ticks": ""
            },
            "colorscale": [
             [
              0,
              "#0d0887"
             ],
             [
              0.1111111111111111,
              "#46039f"
             ],
             [
              0.2222222222222222,
              "#7201a8"
             ],
             [
              0.3333333333333333,
              "#9c179e"
             ],
             [
              0.4444444444444444,
              "#bd3786"
             ],
             [
              0.5555555555555556,
              "#d8576b"
             ],
             [
              0.6666666666666666,
              "#ed7953"
             ],
             [
              0.7777777777777778,
              "#fb9f3a"
             ],
             [
              0.8888888888888888,
              "#fdca26"
             ],
             [
              1,
              "#f0f921"
             ]
            ],
            "type": "surface"
           }
          ],
          "table": [
           {
            "cells": {
             "fill": {
              "color": "#EBF0F8"
             },
             "line": {
              "color": "white"
             }
            },
            "header": {
             "fill": {
              "color": "#C8D4E3"
             },
             "line": {
              "color": "white"
             }
            },
            "type": "table"
           }
          ]
         },
         "layout": {
          "annotationdefaults": {
           "arrowcolor": "#2a3f5f",
           "arrowhead": 0,
           "arrowwidth": 1
          },
          "autotypenumbers": "strict",
          "coloraxis": {
           "colorbar": {
            "outlinewidth": 0,
            "ticks": ""
           }
          },
          "colorscale": {
           "diverging": [
            [
             0,
             "#8e0152"
            ],
            [
             0.1,
             "#c51b7d"
            ],
            [
             0.2,
             "#de77ae"
            ],
            [
             0.3,
             "#f1b6da"
            ],
            [
             0.4,
             "#fde0ef"
            ],
            [
             0.5,
             "#f7f7f7"
            ],
            [
             0.6,
             "#e6f5d0"
            ],
            [
             0.7,
             "#b8e186"
            ],
            [
             0.8,
             "#7fbc41"
            ],
            [
             0.9,
             "#4d9221"
            ],
            [
             1,
             "#276419"
            ]
           ],
           "sequential": [
            [
             0,
             "#0d0887"
            ],
            [
             0.1111111111111111,
             "#46039f"
            ],
            [
             0.2222222222222222,
             "#7201a8"
            ],
            [
             0.3333333333333333,
             "#9c179e"
            ],
            [
             0.4444444444444444,
             "#bd3786"
            ],
            [
             0.5555555555555556,
             "#d8576b"
            ],
            [
             0.6666666666666666,
             "#ed7953"
            ],
            [
             0.7777777777777778,
             "#fb9f3a"
            ],
            [
             0.8888888888888888,
             "#fdca26"
            ],
            [
             1,
             "#f0f921"
            ]
           ],
           "sequentialminus": [
            [
             0,
             "#0d0887"
            ],
            [
             0.1111111111111111,
             "#46039f"
            ],
            [
             0.2222222222222222,
             "#7201a8"
            ],
            [
             0.3333333333333333,
             "#9c179e"
            ],
            [
             0.4444444444444444,
             "#bd3786"
            ],
            [
             0.5555555555555556,
             "#d8576b"
            ],
            [
             0.6666666666666666,
             "#ed7953"
            ],
            [
             0.7777777777777778,
             "#fb9f3a"
            ],
            [
             0.8888888888888888,
             "#fdca26"
            ],
            [
             1,
             "#f0f921"
            ]
           ]
          },
          "colorway": [
           "#636efa",
           "#EF553B",
           "#00cc96",
           "#ab63fa",
           "#FFA15A",
           "#19d3f3",
           "#FF6692",
           "#B6E880",
           "#FF97FF",
           "#FECB52"
          ],
          "font": {
           "color": "#2a3f5f"
          },
          "geo": {
           "bgcolor": "white",
           "lakecolor": "white",
           "landcolor": "#E5ECF6",
           "showlakes": true,
           "showland": true,
           "subunitcolor": "white"
          },
          "hoverlabel": {
           "align": "left"
          },
          "hovermode": "closest",
          "mapbox": {
           "style": "light"
          },
          "paper_bgcolor": "white",
          "plot_bgcolor": "#E5ECF6",
          "polar": {
           "angularaxis": {
            "gridcolor": "white",
            "linecolor": "white",
            "ticks": ""
           },
           "bgcolor": "#E5ECF6",
           "radialaxis": {
            "gridcolor": "white",
            "linecolor": "white",
            "ticks": ""
           }
          },
          "scene": {
           "xaxis": {
            "backgroundcolor": "#E5ECF6",
            "gridcolor": "white",
            "gridwidth": 2,
            "linecolor": "white",
            "showbackground": true,
            "ticks": "",
            "zerolinecolor": "white"
           },
           "yaxis": {
            "backgroundcolor": "#E5ECF6",
            "gridcolor": "white",
            "gridwidth": 2,
            "linecolor": "white",
            "showbackground": true,
            "ticks": "",
            "zerolinecolor": "white"
           },
           "zaxis": {
            "backgroundcolor": "#E5ECF6",
            "gridcolor": "white",
            "gridwidth": 2,
            "linecolor": "white",
            "showbackground": true,
            "ticks": "",
            "zerolinecolor": "white"
           }
          },
          "shapedefaults": {
           "line": {
            "color": "#2a3f5f"
           }
          },
          "ternary": {
           "aaxis": {
            "gridcolor": "white",
            "linecolor": "white",
            "ticks": ""
           },
           "baxis": {
            "gridcolor": "white",
            "linecolor": "white",
            "ticks": ""
           },
           "bgcolor": "#E5ECF6",
           "caxis": {
            "gridcolor": "white",
            "linecolor": "white",
            "ticks": ""
           }
          },
          "title": {
           "x": 0.05
          },
          "xaxis": {
           "automargin": true,
           "gridcolor": "white",
           "linecolor": "white",
           "ticks": "",
           "title": {
            "standoff": 15
           },
           "zerolinecolor": "white",
           "zerolinewidth": 2
          },
          "yaxis": {
           "automargin": true,
           "gridcolor": "white",
           "linecolor": "white",
           "ticks": "",
           "title": {
            "standoff": 15
           },
           "zerolinecolor": "white",
           "zerolinewidth": 2
          }
         }
        },
        "title": {
         "text": "Distribution of Chest Pain Types"
        }
       }
      }
     },
     "metadata": {},
     "output_type": "display_data"
    }
   ],
   "source": [
    "#dealing with cp (chest pain) column\n",
    "print(df['cp'].head())\n",
    "print(df['cp'].value_counts())\n",
    "\n",
    "#Data for chest pain types\n",
    "labels = [\"Asymptomatic\", \"Non-Anginal\", \"Atypical Angina\", \"Typical Angina\"]\n",
    "values = [496, 204, 174, 46]\n",
    "\n",
    "# Create pie chart\n",
    "fig = px.pie(names=labels, values=values, title=\"Distribution of Chest Pain Types\", hole=0.3)\n",
    "\n",
    "# Show figure\n",
    "fig.show()"
   ]
  },
  {
   "cell_type": "code",
   "execution_count": 268,
   "metadata": {},
   "outputs": [
    {
     "data": {
      "image/png": "[encoded data removed]",
      "text/plain": [
       "<Figure size 640x480 with 1 Axes>"
      ]
     },
     "metadata": {},
     "output_type": "display_data"
    },
    {
     "name": "stdout",
     "output_type": "stream",
     "text": [
      "cp               sex   \n",
      "asymptomatic     Male      426\n",
      "                 Female     70\n",
      "atypical angina  Male      113\n",
      "                 Female     61\n",
      "non-anginal      Male      151\n",
      "                 Female     53\n",
      "typical angina   Male       36\n",
      "                 Female     10\n",
      "Name: count, dtype: int64\n"
     ]
    }
   ],
   "source": [
    "sns.countplot(x='cp', data=df,hue='sex')\n",
    "plt.show()\n",
    "\n",
    "print(df.groupby('cp')['sex'].value_counts())"
   ]
  },
  {
   "cell_type": "markdown",
   "metadata": {},
   "source": [
    "All types of chest pain are present in both males and females but males are more affected than females."
   ]
  },
  {
   "cell_type": "code",
   "execution_count": 269,
   "metadata": {},
   "outputs": [
    {
     "data": {
      "application/vnd.plotly.v1+json": {
       "config": {
        "plotlyServerURL": "https://plot.ly"
       },
       "data": [
        {
         "alignmentgroup": "True",
         "bingroup": "x",
         "hovertemplate": "cp=typical angina<br>age=%{x}<br>count=%{y}<extra></extra>",
         "legendgroup": "typical angina",
         "marker": {
          "color": "#636efa",
          "pattern": {
           "shape": ""
          }
         },
         "name": "typical angina",
         "offsetgroup": "typical angina",
         "orientation": "v",
         "showlegend": true,
         "type": "histogram",
         "x": [
          63,
          64,
          58,
          66,
          69,
          40,
          51,
          34,
          52,
          65,
          59,
          52,
          42,
          59,
          69,
          59,
          38,
          56,
          61,
          60,
          59,
          64,
          45,
          30,
          35,
          43,
          47,
          54,
          57,
          62,
          34,
          43,
          46,
          55,
          32,
          62,
          62,
          67,
          67,
          65,
          49,
          62,
          61,
          68,
          74,
          62
         ],
         "xaxis": "x",
         "yaxis": "y"
        },
        {
         "alignmentgroup": "True",
         "bingroup": "x",
         "hovertemplate": "cp=asymptomatic<br>age=%{x}<br>count=%{y}<extra></extra>",
         "legendgroup": "asymptomatic",
         "marker": {
          "color": "#EF553B",
          "pattern": {
           "shape": ""
          }
         },
         "name": "asymptomatic",
         "offsetgroup": "asymptomatic",
         "orientation": "v",
         "showlegend": true,
         "type": "histogram",
         "x": [
          67,
          67,
          62,
          57,
          63,
          53,
          57,
          54,
          60,
          43,
          40,
          60,
          59,
          42,
          43,
          57,
          55,
          65,
          61,
          50,
          65,
          44,
          60,
          54,
          41,
          51,
          58,
          54,
          60,
          59,
          67,
          62,
          65,
          44,
          60,
          58,
          45,
          53,
          53,
          66,
          62,
          52,
          59,
          60,
          48,
          45,
          57,
          59,
          61,
          39,
          61,
          56,
          43,
          35,
          63,
          65,
          48,
          63,
          55,
          56,
          54,
          62,
          51,
          70,
          35,
          57,
          42,
          55,
          64,
          70,
          51,
          58,
          60,
          77,
          58,
          57,
          35,
          53,
          59,
          62,
          64,
          57,
          52,
          56,
          48,
          56,
          60,
          51,
          43,
          62,
          67,
          45,
          50,
          64,
          43,
          45,
          58,
          50,
          62,
          66,
          52,
          46,
          64,
          59,
          53,
          63,
          47,
          54,
          66,
          55,
          54,
          56,
          46,
          49,
          67,
          58,
          47,
          52,
          57,
          58,
          64,
          43,
          67,
          61,
          42,
          52,
          40,
          61,
          66,
          46,
          71,
          58,
          57,
          55,
          61,
          58,
          58,
          44,
          63,
          63,
          59,
          57,
          68,
          57,
          35,
          37,
          37,
          37,
          39,
          39,
          41,
          42,
          44,
          44,
          45,
          45,
          45,
          46,
          46,
          46,
          46,
          47,
          48,
          48,
          48,
          49,
          49,
          50,
          50,
          50,
          51,
          52,
          53,
          53,
          53,
          54,
          55,
          55,
          56,
          57,
          58,
          59,
          61,
          61,
          31,
          33,
          37,
          38,
          38,
          38,
          40,
          41,
          41,
          43,
          46,
          46,
          46,
          47,
          48,
          48,
          48,
          49,
          50,
          51,
          52,
          54,
          54,
          55,
          59,
          60,
          63,
          65,
          32,
          38,
          39,
          40,
          45,
          46,
          46,
          48,
          48,
          48,
          48,
          50,
          52,
          52,
          53,
          54,
          54,
          54,
          54,
          55,
          56,
          57,
          58,
          41,
          43,
          44,
          48,
          49,
          49,
          52,
          52,
          52,
          52,
          53,
          54,
          55,
          56,
          56,
          59,
          59,
          65,
          66,
          41,
          43,
          44,
          47,
          47,
          49,
          49,
          50,
          50,
          52,
          52,
          56,
          65,
          34,
          35,
          36,
          38,
          38,
          38,
          38,
          40,
          41,
          42,
          42,
          43,
          43,
          43,
          46,
          46,
          47,
          47,
          48,
          50,
          50,
          50,
          50,
          51,
          51,
          51,
          51,
          51,
          51,
          51,
          52,
          52,
          52,
          52,
          53,
          53,
          53,
          53,
          54,
          54,
          54,
          55,
          55,
          55,
          56,
          56,
          56,
          56,
          56,
          57,
          57,
          57,
          57,
          57,
          58,
          58,
          58,
          59,
          59,
          59,
          59,
          60,
          60,
          60,
          60,
          60,
          61,
          61,
          61,
          61,
          61,
          61,
          61,
          61,
          62,
          62,
          62,
          62,
          63,
          63,
          63,
          63,
          63,
          64,
          64,
          64,
          65,
          65,
          65,
          65,
          66,
          66,
          68,
          68,
          69,
          69,
          70,
          70,
          63,
          44,
          60,
          55,
          65,
          59,
          62,
          57,
          62,
          63,
          46,
          63,
          60,
          58,
          64,
          69,
          51,
          60,
          56,
          54,
          77,
          63,
          64,
          60,
          60,
          58,
          59,
          40,
          61,
          41,
          57,
          63,
          59,
          51,
          62,
          53,
          68,
          53,
          59,
          51,
          61,
          57,
          58,
          65,
          57,
          54,
          75,
          60,
          64,
          58,
          61,
          67,
          62,
          65,
          63,
          69,
          51,
          62,
          75,
          67,
          58,
          60,
          63,
          43,
          65,
          63,
          64,
          61,
          50,
          59,
          55,
          65,
          72,
          50,
          64,
          55,
          63,
          59,
          56,
          74,
          54,
          57,
          54,
          70,
          48,
          66,
          55,
          75,
          64,
          59,
          55,
          57,
          61,
          41,
          71,
          38,
          55,
          56,
          69,
          64,
          72,
          69,
          56,
          62,
          67,
          57,
          69,
          51,
          48,
          69,
          64,
          53,
          67,
          58,
          61,
          64,
          58,
          60,
          57,
          55,
          56,
          57,
          74,
          51,
          62,
          53,
          62,
          46,
          54,
          55,
          58
         ],
         "xaxis": "x",
         "yaxis": "y"
        },
        {
         "alignmentgroup": "True",
         "bingroup": "x",
         "hovertemplate": "cp=non-anginal<br>age=%{x}<br>count=%{y}<extra></extra>",
         "legendgroup": "non-anginal",
         "marker": {
          "color": "#00cc96",
          "pattern": {
           "shape": ""
          }
         },
         "name": "non-anginal",
         "offsetgroup": "non-anginal",
         "orientation": "v",
         "showlegend": true,
         "type": "histogram",
         "x": [
          37,
          56,
          52,
          57,
          48,
          58,
          50,
          58,
          64,
          44,
          61,
          59,
          58,
          51,
          65,
          53,
          50,
          54,
          46,
          54,
          60,
          54,
          46,
          65,
          65,
          51,
          39,
          68,
          44,
          47,
          53,
          51,
          62,
          44,
          63,
          71,
          49,
          57,
          62,
          58,
          51,
          54,
          51,
          43,
          51,
          64,
          58,
          47,
          41,
          60,
          67,
          68,
          54,
          48,
          52,
          70,
          43,
          53,
          42,
          69,
          50,
          68,
          57,
          64,
          37,
          41,
          41,
          54,
          39,
          67,
          52,
          49,
          54,
          60,
          51,
          42,
          76,
          44,
          44,
          59,
          42,
          66,
          39,
          47,
          67,
          38,
          33,
          36,
          36,
          36,
          37,
          37,
          38,
          39,
          39,
          39,
          40,
          40,
          40,
          42,
          42,
          42,
          43,
          45,
          46,
          46,
          47,
          48,
          48,
          49,
          49,
          51,
          51,
          51,
          52,
          52,
          53,
          53,
          54,
          54,
          55,
          55,
          56,
          56,
          56,
          58,
          59,
          59,
          60,
          47,
          49,
          49,
          50,
          58,
          54,
          58,
          47,
          51,
          53,
          54,
          38,
          38,
          45,
          47,
          47,
          53,
          53,
          56,
          56,
          56,
          57,
          59,
          60,
          61,
          62,
          72,
          73,
          66,
          66,
          60,
          60,
          63,
          63,
          74,
          52,
          55,
          55,
          52,
          61,
          59,
          42,
          55,
          60,
          56,
          69,
          72,
          51,
          55,
          40,
          35,
          63,
          68,
          48,
          45,
          49,
          62,
          62,
          76,
          48,
          62,
          71,
          53,
          58,
          56,
          58,
          54,
          69,
          37,
          74,
          55,
          61,
          61,
          58,
          68
         ],
         "xaxis": "x",
         "yaxis": "y"
        },
        {
         "alignmentgroup": "True",
         "bingroup": "x",
         "hovertemplate": "cp=atypical angina<br>age=%{x}<br>count=%{y}<extra></extra>",
         "legendgroup": "atypical angina",
         "marker": {
          "color": "#ab63fa",
          "pattern": {
           "shape": ""
          }
         },
         "name": "atypical angina",
         "offsetgroup": "atypical angina",
         "orientation": "v",
         "showlegend": true,
         "type": "histogram",
         "x": [
          41,
          56,
          56,
          44,
          48,
          49,
          58,
          71,
          41,
          44,
          48,
          52,
          52,
          54,
          41,
          45,
          44,
          29,
          55,
          62,
          59,
          52,
          45,
          46,
          54,
          45,
          63,
          66,
          54,
          50,
          55,
          46,
          34,
          74,
          49,
          42,
          41,
          41,
          62,
          70,
          57,
          58,
          57,
          35,
          58,
          56,
          56,
          55,
          41,
          57,
          28,
          29,
          29,
          31,
          32,
          32,
          32,
          34,
          34,
          34,
          35,
          35,
          36,
          37,
          37,
          38,
          38,
          39,
          39,
          39,
          39,
          39,
          40,
          40,
          41,
          41,
          41,
          41,
          41,
          41,
          42,
          42,
          42,
          43,
          43,
          43,
          43,
          43,
          43,
          44,
          44,
          45,
          45,
          45,
          46,
          47,
          47,
          48,
          48,
          48,
          48,
          48,
          48,
          49,
          49,
          49,
          49,
          50,
          50,
          50,
          50,
          51,
          51,
          51,
          52,
          52,
          52,
          52,
          52,
          53,
          53,
          53,
          53,
          54,
          54,
          54,
          54,
          54,
          54,
          54,
          54,
          54,
          54,
          54,
          54,
          55,
          55,
          55,
          55,
          55,
          55,
          56,
          57,
          58,
          58,
          59,
          59,
          62,
          35,
          36,
          57,
          44,
          55,
          56,
          58,
          58,
          53,
          53,
          55,
          74,
          60,
          56,
          63,
          56,
          62,
          58,
          63,
          55,
          61,
          61,
          54,
          57,
          63,
          62
         ],
         "xaxis": "x",
         "yaxis": "y"
        }
       ],
       "layout": {
        "barmode": "relative",
        "legend": {
         "title": {
          "text": "cp"
         },
         "tracegroupgap": 0
        },
        "margin": {
         "t": 60
        },
        "template": {
         "data": {
          "bar": [
           {
            "error_x": {
             "color": "#2a3f5f"
            },
            "error_y": {
             "color": "#2a3f5f"
            },
            "marker": {
             "line": {
              "color": "#E5ECF6",
              "width": 0.5
             },
             "pattern": {
              "fillmode": "overlay",
              "size": 10,
              "solidity": 0.2
             }
            },
            "type": "bar"
           }
          ],
          "barpolar": [
           {
            "marker": {
             "line": {
              "color": "#E5ECF6",
              "width": 0.5
             },
             "pattern": {
              "fillmode": "overlay",
              "size": 10,
              "solidity": 0.2
             }
            },
            "type": "barpolar"
           }
          ],
          "carpet": [
           {
            "aaxis": {
             "endlinecolor": "#2a3f5f",
             "gridcolor": "white",
             "linecolor": "white",
             "minorgridcolor": "white",
             "startlinecolor": "#2a3f5f"
            },
            "baxis": {
             "endlinecolor": "#2a3f5f",
             "gridcolor": "white",
             "linecolor": "white",
             "minorgridcolor": "white",
             "startlinecolor": "#2a3f5f"
            },
            "type": "carpet"
           }
          ],
          "choropleth": [
           {
            "colorbar": {
             "outlinewidth": 0,
             "ticks": ""
            },
            "type": "choropleth"
           }
          ],
          "contour": [
           {
            "colorbar": {
             "outlinewidth": 0,
             "ticks": ""
            },
            "colorscale": [
             [
              0,
              "#0d0887"
             ],
             [
              0.1111111111111111,
              "#46039f"
             ],
             [
              0.2222222222222222,
              "#7201a8"
             ],
             [
              0.3333333333333333,
              "#9c179e"
             ],
             [
              0.4444444444444444,
              "#bd3786"
             ],
             [
              0.5555555555555556,
              "#d8576b"
             ],
             [
              0.6666666666666666,
              "#ed7953"
             ],
             [
              0.7777777777777778,
              "#fb9f3a"
             ],
             [
              0.8888888888888888,
              "#fdca26"
             ],
             [
              1,
              "#f0f921"
             ]
            ],
            "type": "contour"
           }
          ],
          "contourcarpet": [
           {
            "colorbar": {
             "outlinewidth": 0,
             "ticks": ""
            },
            "type": "contourcarpet"
           }
          ],
          "heatmap": [
           {
            "colorbar": {
             "outlinewidth": 0,
             "ticks": ""
            },
            "colorscale": [
             [
              0,
              "#0d0887"
             ],
             [
              0.1111111111111111,
              "#46039f"
             ],
             [
              0.2222222222222222,
              "#7201a8"
             ],
             [
              0.3333333333333333,
              "#9c179e"
             ],
             [
              0.4444444444444444,
              "#bd3786"
             ],
             [
              0.5555555555555556,
              "#d8576b"
             ],
             [
              0.6666666666666666,
              "#ed7953"
             ],
             [
              0.7777777777777778,
              "#fb9f3a"
             ],
             [
              0.8888888888888888,
              "#fdca26"
             ],
             [
              1,
              "#f0f921"
             ]
            ],
            "type": "heatmap"
           }
          ],
          "heatmapgl": [
           {
            "colorbar": {
             "outlinewidth": 0,
             "ticks": ""
            },
            "colorscale": [
             [
              0,
              "#0d0887"
             ],
             [
              0.1111111111111111,
              "#46039f"
             ],
             [
              0.2222222222222222,
              "#7201a8"
             ],
             [
              0.3333333333333333,
              "#9c179e"
             ],
             [
              0.4444444444444444,
              "#bd3786"
             ],
             [
              0.5555555555555556,
              "#d8576b"
             ],
             [
              0.6666666666666666,
              "#ed7953"
             ],
             [
              0.7777777777777778,
              "#fb9f3a"
             ],
             [
              0.8888888888888888,
              "#fdca26"
             ],
             [
              1,
              "#f0f921"
             ]
            ],
            "type": "heatmapgl"
           }
          ],
          "histogram": [
           {
            "marker": {
             "pattern": {
              "fillmode": "overlay",
              "size": 10,
              "solidity": 0.2
             }
            },
            "type": "histogram"
           }
          ],
          "histogram2d": [
           {
            "colorbar": {
             "outlinewidth": 0,
             "ticks": ""
            },
            "colorscale": [
             [
              0,
              "#0d0887"
             ],
             [
              0.1111111111111111,
              "#46039f"
             ],
             [
              0.2222222222222222,
              "#7201a8"
             ],
             [
              0.3333333333333333,
              "#9c179e"
             ],
             [
              0.4444444444444444,
              "#bd3786"
             ],
             [
              0.5555555555555556,
              "#d8576b"
             ],
             [
              0.6666666666666666,
              "#ed7953"
             ],
             [
              0.7777777777777778,
              "#fb9f3a"
             ],
             [
              0.8888888888888888,
              "#fdca26"
             ],
             [
              1,
              "#f0f921"
             ]
            ],
            "type": "histogram2d"
           }
          ],
          "histogram2dcontour": [
           {
            "colorbar": {
             "outlinewidth": 0,
             "ticks": ""
            },
            "colorscale": [
             [
              0,
              "#0d0887"
             ],
             [
              0.1111111111111111,
              "#46039f"
             ],
             [
              0.2222222222222222,
              "#7201a8"
             ],
             [
              0.3333333333333333,
              "#9c179e"
             ],
             [
              0.4444444444444444,
              "#bd3786"
             ],
             [
              0.5555555555555556,
              "#d8576b"
             ],
             [
              0.6666666666666666,
              "#ed7953"
             ],
             [
              0.7777777777777778,
              "#fb9f3a"
             ],
             [
              0.8888888888888888,
              "#fdca26"
             ],
             [
              1,
              "#f0f921"
             ]
            ],
            "type": "histogram2dcontour"
           }
          ],
          "mesh3d": [
           {
            "colorbar": {
             "outlinewidth": 0,
             "ticks": ""
            },
            "type": "mesh3d"
           }
          ],
          "parcoords": [
           {
            "line": {
             "colorbar": {
              "outlinewidth": 0,
              "ticks": ""
             }
            },
            "type": "parcoords"
           }
          ],
          "pie": [
           {
            "automargin": true,
            "type": "pie"
           }
          ],
          "scatter": [
           {
            "fillpattern": {
             "fillmode": "overlay",
             "size": 10,
             "solidity": 0.2
            },
            "type": "scatter"
           }
          ],
          "scatter3d": [
           {
            "line": {
             "colorbar": {
              "outlinewidth": 0,
              "ticks": ""
             }
            },
            "marker": {
             "colorbar": {
              "outlinewidth": 0,
              "ticks": ""
             }
            },
            "type": "scatter3d"
           }
          ],
          "scattercarpet": [
           {
            "marker": {
             "colorbar": {
              "outlinewidth": 0,
              "ticks": ""
             }
            },
            "type": "scattercarpet"
           }
          ],
          "scattergeo": [
           {
            "marker": {
             "colorbar": {
              "outlinewidth": 0,
              "ticks": ""
             }
            },
            "type": "scattergeo"
           }
          ],
          "scattergl": [
           {
            "marker": {
             "colorbar": {
              "outlinewidth": 0,
              "ticks": ""
             }
            },
            "type": "scattergl"
           }
          ],
          "scattermapbox": [
           {
            "marker": {
             "colorbar": {
              "outlinewidth": 0,
              "ticks": ""
             }
            },
            "type": "scattermapbox"
           }
          ],
          "scatterpolar": [
           {
            "marker": {
             "colorbar": {
              "outlinewidth": 0,
              "ticks": ""
             }
            },
            "type": "scatterpolar"
           }
          ],
          "scatterpolargl": [
           {
            "marker": {
             "colorbar": {
              "outlinewidth": 0,
              "ticks": ""
             }
            },
            "type": "scatterpolargl"
           }
          ],
          "scatterternary": [
           {
            "marker": {
             "colorbar": {
              "outlinewidth": 0,
              "ticks": ""
             }
            },
            "type": "scatterternary"
           }
          ],
          "surface": [
           {
            "colorbar": {
             "outlinewidth": 0,
             "ticks": ""
            },
            "colorscale": [
             [
              0,
              "#0d0887"
             ],
             [
              0.1111111111111111,
              "#46039f"
             ],
             [
              0.2222222222222222,
              "#7201a8"
             ],
             [
              0.3333333333333333,
              "#9c179e"
             ],
             [
              0.4444444444444444,
              "#bd3786"
             ],
             [
              0.5555555555555556,
              "#d8576b"
             ],
             [
              0.6666666666666666,
              "#ed7953"
             ],
             [
              0.7777777777777778,
              "#fb9f3a"
             ],
             [
              0.8888888888888888,
              "#fdca26"
             ],
             [
              1,
              "#f0f921"
             ]
            ],
            "type": "surface"
           }
          ],
          "table": [
           {
            "cells": {
             "fill": {
              "color": "#EBF0F8"
             },
             "line": {
              "color": "white"
             }
            },
            "header": {
             "fill": {
              "color": "#C8D4E3"
             },
             "line": {
              "color": "white"
             }
            },
            "type": "table"
           }
          ]
         },
         "layout": {
          "annotationdefaults": {
           "arrowcolor": "#2a3f5f",
           "arrowhead": 0,
           "arrowwidth": 1
          },
          "autotypenumbers": "strict",
          "coloraxis": {
           "colorbar": {
            "outlinewidth": 0,
            "ticks": ""
           }
          },
          "colorscale": {
           "diverging": [
            [
             0,
             "#8e0152"
            ],
            [
             0.1,
             "#c51b7d"
            ],
            [
             0.2,
             "#de77ae"
            ],
            [
             0.3,
             "#f1b6da"
            ],
            [
             0.4,
             "#fde0ef"
            ],
            [
             0.5,
             "#f7f7f7"
            ],
            [
             0.6,
             "#e6f5d0"
            ],
            [
             0.7,
             "#b8e186"
            ],
            [
             0.8,
             "#7fbc41"
            ],
            [
             0.9,
             "#4d9221"
            ],
            [
             1,
             "#276419"
            ]
           ],
           "sequential": [
            [
             0,
             "#0d0887"
            ],
            [
             0.1111111111111111,
             "#46039f"
            ],
            [
             0.2222222222222222,
             "#7201a8"
            ],
            [
             0.3333333333333333,
             "#9c179e"
            ],
            [
             0.4444444444444444,
             "#bd3786"
            ],
            [
             0.5555555555555556,
             "#d8576b"
            ],
            [
             0.6666666666666666,
             "#ed7953"
            ],
            [
             0.7777777777777778,
             "#fb9f3a"
            ],
            [
             0.8888888888888888,
             "#fdca26"
            ],
            [
             1,
             "#f0f921"
            ]
           ],
           "sequentialminus": [
            [
             0,
             "#0d0887"
            ],
            [
             0.1111111111111111,
             "#46039f"
            ],
            [
             0.2222222222222222,
             "#7201a8"
            ],
            [
             0.3333333333333333,
             "#9c179e"
            ],
            [
             0.4444444444444444,
             "#bd3786"
            ],
            [
             0.5555555555555556,
             "#d8576b"
            ],
            [
             0.6666666666666666,
             "#ed7953"
            ],
            [
             0.7777777777777778,
             "#fb9f3a"
            ],
            [
             0.8888888888888888,
             "#fdca26"
            ],
            [
             1,
             "#f0f921"
            ]
           ]
          },
          "colorway": [
           "#636efa",
           "#EF553B",
           "#00cc96",
           "#ab63fa",
           "#FFA15A",
           "#19d3f3",
           "#FF6692",
           "#B6E880",
           "#FF97FF",
           "#FECB52"
          ],
          "font": {
           "color": "#2a3f5f"
          },
          "geo": {
           "bgcolor": "white",
           "lakecolor": "white",
           "landcolor": "#E5ECF6",
           "showlakes": true,
           "showland": true,
           "subunitcolor": "white"
          },
          "hoverlabel": {
           "align": "left"
          },
          "hovermode": "closest",
          "mapbox": {
           "style": "light"
          },
          "paper_bgcolor": "white",
          "plot_bgcolor": "#E5ECF6",
          "polar": {
           "angularaxis": {
            "gridcolor": "white",
            "linecolor": "white",
            "ticks": ""
           },
           "bgcolor": "#E5ECF6",
           "radialaxis": {
            "gridcolor": "white",
            "linecolor": "white",
            "ticks": ""
           }
          },
          "scene": {
           "xaxis": {
            "backgroundcolor": "#E5ECF6",
            "gridcolor": "white",
            "gridwidth": 2,
            "linecolor": "white",
            "showbackground": true,
            "ticks": "",
            "zerolinecolor": "white"
           },
           "yaxis": {
            "backgroundcolor": "#E5ECF6",
            "gridcolor": "white",
            "gridwidth": 2,
            "linecolor": "white",
            "showbackground": true,
            "ticks": "",
            "zerolinecolor": "white"
           },
           "zaxis": {
            "backgroundcolor": "#E5ECF6",
            "gridcolor": "white",
            "gridwidth": 2,
            "linecolor": "white",
            "showbackground": true,
            "ticks": "",
            "zerolinecolor": "white"
           }
          },
          "shapedefaults": {
           "line": {
            "color": "#2a3f5f"
           }
          },
          "ternary": {
           "aaxis": {
            "gridcolor": "white",
            "linecolor": "white",
            "ticks": ""
           },
           "baxis": {
            "gridcolor": "white",
            "linecolor": "white",
            "ticks": ""
           },
           "bgcolor": "#E5ECF6",
           "caxis": {
            "gridcolor": "white",
            "linecolor": "white",
            "ticks": ""
           }
          },
          "title": {
           "x": 0.05
          },
          "xaxis": {
           "automargin": true,
           "gridcolor": "white",
           "linecolor": "white",
           "ticks": "",
           "title": {
            "standoff": 15
           },
           "zerolinecolor": "white",
           "zerolinewidth": 2
          },
          "yaxis": {
           "automargin": true,
           "gridcolor": "white",
           "linecolor": "white",
           "ticks": "",
           "title": {
            "standoff": 15
           },
           "zerolinecolor": "white",
           "zerolinewidth": 2
          }
         }
        },
        "xaxis": {
         "anchor": "y",
         "domain": [
          0,
          1
         ],
         "title": {
          "text": "age"
         }
        },
        "yaxis": {
         "anchor": "x",
         "domain": [
          0,
          1
         ],
         "title": {
          "text": "count"
         }
        }
       }
      }
     },
     "metadata": {},
     "output_type": "display_data"
    },
    {
     "name": "stdout",
     "output_type": "stream",
     "text": [
      "cp              age\n",
      "asymptomatic    57     27\n",
      "                58     23\n",
      "                54     22\n",
      "                59     22\n",
      "                60     22\n",
      "                       ..\n",
      "typical angina  60      1\n",
      "                63      1\n",
      "                66      1\n",
      "                68      1\n",
      "                74      1\n",
      "Name: count, Length: 156, dtype: int64\n",
      "the no of patients with Asymptomatic cp are:  496\n",
      "the no of patients with non-anginal cp are:  204\n",
      "the no of patients with Atypical angina cp  are:  174\n",
      "the no of patients with typical angina cp  are:  46\n"
     ]
    }
   ],
   "source": [
    "fig = px.histogram(data_frame=df, x='age', color='cp')\n",
    "fig.show()\n",
    "\n",
    "\n",
    "\n",
    "print(df.groupby('cp')['age'].value_counts())\n",
    "\n",
    "\n",
    "asymp = df[df['cp'] == 'asymptomatic']['age'].value_counts().sum()\n",
    "non_ang = df[df['cp'] == 'non-anginal']['age'].value_counts().sum()\n",
    "atypical_ang = df[df['cp'] == 'atypical angina']['age'].value_counts().sum()\n",
    "typical_ang = df[df['cp'] == 'typical angina']['age'].value_counts().sum()\n",
    "\n",
    "print(\"the no of patients with Asymptomatic cp are: \", asymp)\n",
    "print(\"the no of patients with non-anginal cp are: \", non_ang)\n",
    "print(\"the no of patients with Atypical angina cp  are: \", atypical_ang)\n",
    "print(\"the no of patients with typical angina cp  are: \", typical_ang)"
   ]
  },
  {
   "cell_type": "markdown",
   "metadata": {},
   "source": [
    "It is clear that most of the patients having heart disease but do not have any chest pain,which is about 53% ,(496/920.)\n",
    "\n",
    "A significant portion 204 of individuals experience chest pain that is not related to angina or heart disease, indicating that other conditions (like musculoskeletal or gastrointestinal issues) might be causing discomfort.\n",
    "\n",
    "20 % individuals have Atypical Angina which not directly linked with symptoms of angina but can linked with heart disease.\n",
    "\n",
    "5 % of patients have typical angina caused by coronary artery disease (CAD) where the arteries supplying the heart become narrowed or blocked. "
   ]
  },
  {
   "cell_type": "markdown",
   "metadata": {},
   "source": [
    "## Resting Blood Pressure (trestbps column)"
   ]
  },
  {
   "cell_type": "markdown",
   "metadata": {},
   "source": [
    "| Category             | Systolic BP (mmHg) | Interpretation                                   |\n",
    "|----------------------|--------------------|--------------------------------------------------|\n",
    "| Normal\t           | < 120\t            | Healthy blood pressure                           |\n",
    "| Elevated             | 120 - 129\t        | Increased risk, lifestyle changes recommended    |\n",
    "| Hypertension Stage 1 | 130 - 139\t        | Mild high blood pressure, may require medication |\n",
    "| Hypertension Stage 2 | 140 - 180\t        | Moderate to severe high blood pressure           |\n",
    "| Hypertensive Crisis  | > 180\t            | Dangerously high, requires immediate medical attention |"
   ]
  },
  {
   "cell_type": "code",
   "execution_count": 270,
   "metadata": {},
   "outputs": [
    {
     "data": {
      "text/plain": [
       "count    861.000000\n",
       "mean     132.132404\n",
       "std       19.066070\n",
       "min        0.000000\n",
       "25%      120.000000\n",
       "50%      130.000000\n",
       "75%      140.000000\n",
       "max      200.000000\n",
       "Name: trestbps, dtype: float64"
      ]
     },
     "execution_count": 270,
     "metadata": {},
     "output_type": "execute_result"
    }
   ],
   "source": [
    "df['trestbps'].describe()"
   ]
  },
  {
   "cell_type": "code",
   "execution_count": 271,
   "metadata": {},
   "outputs": [
    {
     "name": "stdout",
     "output_type": "stream",
     "text": [
      "Missing values: 59\n"
     ]
    },
    {
     "data": {
      "text/plain": [
       "<Axes: xlabel='trestbps', ylabel='Count'>"
      ]
     },
     "execution_count": 271,
     "metadata": {},
     "output_type": "execute_result"
    },
    {
     "data": {
      "image/png": "[encoded data removed]",
      "text/plain": [
       "<Figure size 640x480 with 1 Axes>"
      ]
     },
     "metadata": {},
     "output_type": "display_data"
    }
   ],
   "source": [
    "print(\"Missing values:\", df['trestbps'].isnull().sum())\n",
    "sns.histplot(df['trestbps'], kde=True)"
   ]
  },
  {
   "cell_type": "markdown",
   "metadata": {},
   "source": [
    "this column **\"trestbps\"** contains **59** missing values and from the graph we can see the distribution is slightly right-skewed,so filling missing values with the median."
   ]
  },
  {
   "cell_type": "code",
   "execution_count": 272,
   "metadata": {},
   "outputs": [
    {
     "name": "stdout",
     "output_type": "stream",
     "text": [
      "130.0\n",
      "Missing Values: 0\n"
     ]
    },
    {
     "data": {
      "image/png": "[encoded data removed]",
      "text/plain": [
       "<Figure size 640x480 with 1 Axes>"
      ]
     },
     "metadata": {},
     "output_type": "display_data"
    }
   ],
   "source": [
    "print(df['trestbps'].median())\n",
    "\n",
    "# Fill missing values with the median\n",
    "df['trestbps'] = df['trestbps'].fillna(df['trestbps'].median())\n",
    "\n",
    "print(\"Missing Values:\" , df['trestbps'].isnull().sum())\n",
    "\n",
    "sns.histplot(df['trestbps'], kde=True)\n",
    "\n",
    "#removing rows where value is zero\n",
    "df[df['trestbps'] == 0]\n",
    "df = df[df['trestbps'] != 0]\n",
    "\n"
   ]
  },
  {
   "cell_type": "code",
   "execution_count": 273,
   "metadata": {},
   "outputs": [
    {
     "name": "stdout",
     "output_type": "stream",
     "text": [
      "Category_bps\n",
      "Hypertension Stage 2    303\n",
      "Hypertension Stage 1    236\n",
      "Elevated                211\n",
      "Normal                  161\n",
      "Hypertensive Crisis       8\n",
      "Name: count, dtype: int64\n"
     ]
    },
    {
     "data": {
      "image/png": "[encoded data removed]",
      "text/plain": [
       "<Figure size 1000x500 with 1 Axes>"
      ]
     },
     "metadata": {},
     "output_type": "display_data"
    }
   ],
   "source": [
    "#Define function to classify BP\n",
    "def classify_bp(value):\n",
    "    if value < 120:\n",
    "        return \"Normal\"\n",
    "    elif 120 <= value <= 129:\n",
    "        return \"Elevated\"\n",
    "    elif 130 <= value <= 139:\n",
    "        return \"Hypertension Stage 1\"\n",
    "    elif 140 <= value <= 180:\n",
    "        return \"Hypertension Stage 2\"\n",
    "    elif 180 < value <= 200:\n",
    "        return \"Hypertensive Crisis\"\n",
    "    return \"Unknown\"\n",
    "\n",
    "df['Category_bps'] = df['trestbps'].apply(classify_bp)\n",
    "\n",
    "# Compute and display frequency\n",
    "print(df['Category_bps'].value_counts())\n",
    "\n",
    "grouped_freq = df['Category_bps'].value_counts()\n",
    "\n",
    "# Plot bar chart\n",
    "plt.figure(figsize=(10, 5))\n",
    "grouped_freq.plot(kind='bar')\n",
    "plt.xticks(rotation=45, ha='right')  \n",
    "plt.xlabel(\"Blood Pressure Category\")\n",
    "plt.ylabel(\"Count\")\n",
    "plt.title(\"Distribution of Blood Pressure Categories\")\n",
    "plt.show()"
   ]
  },
  {
   "cell_type": "code",
   "execution_count": 274,
   "metadata": {},
   "outputs": [
    {
     "data": {
      "text/plain": [
       "<Axes: xlabel='Category_bps', ylabel='count'>"
      ]
     },
     "execution_count": 274,
     "metadata": {},
     "output_type": "execute_result"
    },
    {
     "data": {
      "image/png": "[encoded data removed]",
      "text/plain": [
       "<Figure size 1000x500 with 1 Axes>"
      ]
     },
     "metadata": {},
     "output_type": "display_data"
    }
   ],
   "source": [
    "#checking bp according to gender\n",
    "plt.figure(figsize=(10, 5))\n",
    "sns.countplot(x='Category_bps', data=df,hue='sex')"
   ]
  },
  {
   "cell_type": "code",
   "execution_count": 275,
   "metadata": {},
   "outputs": [
    {
     "name": "stdout",
     "output_type": "stream",
     "text": [
      "Category_bps  Elevated  Hypertension Stage 1  Hypertension Stage 2  \\\n",
      "sex                                                                  \n",
      "Female              44                    52                    59   \n",
      "Male               167                   184                   244   \n",
      "\n",
      "Category_bps  Hypertensive Crisis  Normal  \n",
      "sex                                        \n",
      "Female                          2      37  \n",
      "Male                            6     124  \n"
     ]
    }
   ],
   "source": [
    "gender_bps_counts = df.groupby(['sex', 'Category_bps']).size().unstack()\n",
    "print(gender_bps_counts)"
   ]
  },
  {
   "cell_type": "markdown",
   "metadata": {},
   "source": [
    "we can see that at the time of admission in hospital most patients have bps between 140-180 which is hypertension stage 2, and is a serious condition that needs immediate attention and we also found that 8 patients bps crossed 180 which is alarming and we can see in all cases males are most affected than females"
   ]
  },
  {
   "cell_type": "markdown",
   "metadata": {},
   "source": [
    "## Chol Column"
   ]
  },
  {
   "cell_type": "code",
   "execution_count": 276,
   "metadata": {},
   "outputs": [
    {
     "name": "stdout",
     "output_type": "stream",
     "text": [
      "count    889.000000\n",
      "mean     199.354331\n",
      "std      110.641330\n",
      "min        0.000000\n",
      "25%      175.000000\n",
      "50%      223.000000\n",
      "75%      268.000000\n",
      "max      603.000000\n",
      "Name: chol, dtype: float64\n",
      "Missing Values: 30\n"
     ]
    },
    {
     "name": "stderr",
     "output_type": "stream",
     "text": [
      "C:\\Users\\hp\\AppData\\Local\\Temp\\ipykernel_6340\\3902419681.py:8: FutureWarning:\n",
      "\n",
      "A value is trying to be set on a copy of a DataFrame or Series through chained assignment using an inplace method.\n",
      "The behavior will change in pandas 3.0. This inplace method will never work because the intermediate object on which we are setting values always behaves as a copy.\n",
      "\n",
      "For example, when doing 'df[col].method(value, inplace=True)', try using 'df.method({col: value}, inplace=True)' or df[col] = df[col].method(value) instead, to perform the operation inplace on the original object.\n",
      "\n",
      "\n",
      "\n",
      "C:\\Users\\hp\\AppData\\Local\\Temp\\ipykernel_6340\\3902419681.py:11: FutureWarning:\n",
      "\n",
      "A value is trying to be set on a copy of a DataFrame or Series through chained assignment using an inplace method.\n",
      "The behavior will change in pandas 3.0. This inplace method will never work because the intermediate object on which we are setting values always behaves as a copy.\n",
      "\n",
      "For example, when doing 'df[col].method(value, inplace=True)', try using 'df.method({col: value}, inplace=True)' or df[col] = df[col].method(value) instead, to perform the operation inplace on the original object.\n",
      "\n",
      "\n",
      "\n"
     ]
    },
    {
     "data": {
      "application/vnd.plotly.v1+json": {
       "config": {
        "plotlyServerURL": "https://plot.ly"
       },
       "data": [
        {
         "alignmentgroup": "True",
         "bingroup": "x",
         "hovertemplate": "chol=%{x}<br>count=%{y}<extra></extra>",
         "legendgroup": "",
         "marker": {
          "color": "#636efa",
          "pattern": {
           "shape": ""
          }
         },
         "name": "",
         "offsetgroup": "",
         "orientation": "v",
         "showlegend": false,
         "type": "histogram",
         "x": [
          233,
          286,
          229,
          250,
          204,
          236,
          268,
          354,
          254,
          203,
          192,
          294,
          256,
          263,
          199,
          168,
          229,
          239,
          275,
          266,
          211,
          283,
          284,
          224,
          206,
          219,
          340,
          226,
          247,
          167,
          239,
          230,
          335,
          234,
          233,
          226,
          177,
          276,
          353,
          243,
          225,
          199,
          302,
          212,
          330,
          230,
          175,
          243,
          417,
          197,
          198,
          177,
          290,
          219,
          253,
          266,
          233,
          172,
          273,
          213,
          305,
          177,
          216,
          304,
          188,
          282,
          185,
          232,
          326,
          231,
          269,
          254,
          267,
          248,
          197,
          360,
          258,
          308,
          245,
          270,
          208,
          264,
          321,
          274,
          325,
          235,
          257,
          216,
          234,
          256,
          302,
          164,
          231,
          141,
          252,
          255,
          239,
          258,
          201,
          222,
          260,
          182,
          303,
          265,
          188,
          309,
          177,
          229,
          260,
          219,
          307,
          249,
          186,
          341,
          263,
          203,
          211,
          183,
          330,
          254,
          256,
          407,
          222,
          217,
          282,
          234,
          288,
          239,
          220,
          209,
          258,
          227,
          204,
          261,
          213,
          250,
          174,
          281,
          198,
          245,
          221,
          288,
          205,
          309,
          240,
          243,
          289,
          250,
          308,
          318,
          298,
          265,
          564,
          289,
          246,
          322,
          299,
          300,
          293,
          277,
          197,
          304,
          214,
          248,
          255,
          207,
          223,
          288,
          282,
          160,
          269,
          226,
          249,
          394,
          212,
          274,
          233,
          184,
          315,
          246,
          274,
          409,
          244,
          270,
          305,
          195,
          240,
          246,
          283,
          254,
          196,
          298,
          247,
          294,
          211,
          299,
          234,
          236,
          244,
          273,
          254,
          325,
          126,
          313,
          211,
          309,
          259,
          200,
          262,
          244,
          215,
          231,
          214,
          228,
          230,
          193,
          204,
          243,
          303,
          271,
          268,
          267,
          199,
          282,
          269,
          210,
          204,
          277,
          206,
          212,
          196,
          327,
          149,
          269,
          201,
          286,
          283,
          249,
          271,
          295,
          235,
          306,
          269,
          234,
          178,
          237,
          234,
          275,
          212,
          208,
          201,
          218,
          263,
          295,
          303,
          209,
          223,
          197,
          245,
          261,
          242,
          319,
          240,
          226,
          166,
          315,
          204,
          218,
          223,
          180,
          207,
          228,
          311,
          149,
          204,
          227,
          278,
          220,
          232,
          197,
          335,
          253,
          205,
          192,
          203,
          318,
          225,
          220,
          221,
          240,
          212,
          342,
          169,
          187,
          197,
          157,
          176,
          241,
          264,
          193,
          131,
          236,
          175,
          132,
          243,
          239.5,
          237,
          219,
          198,
          225,
          254,
          298,
          161,
          214,
          220,
          160,
          167,
          308,
          264,
          166,
          340,
          209,
          160,
          260,
          211,
          173,
          283,
          194,
          223,
          315,
          275,
          297,
          292,
          182,
          239.5,
          200,
          204,
          239.5,
          241,
          339,
          147,
          273,
          307,
          275,
          289,
          215,
          281,
          239.5,
          250,
          184,
          245,
          291,
          295,
          269,
          250,
          211,
          196,
          198,
          268,
          228,
          147,
          358,
          223,
          201,
          215,
          249,
          266,
          186,
          239.5,
          207,
          218,
          184,
          215,
          412,
          237,
          239.5,
          297,
          224,
          239.5,
          225,
          224,
          238,
          275,
          230,
          163,
          238,
          240,
          280,
          257,
          239.5,
          249,
          263,
          276,
          308,
          239.5,
          284,
          195,
          163,
          254,
          227,
          239.5,
          245,
          238,
          211,
          239.5,
          239.5,
          201,
          207,
          253,
          187,
          297,
          239.5,
          202,
          328,
          168,
          216,
          209,
          129,
          215,
          194,
          190,
          220,
          200,
          188,
          224,
          179,
          210,
          239.5,
          272,
          180,
          284,
          100,
          196,
          259,
          468,
          216,
          274,
          239.5,
          320,
          195,
          260,
          182,
          243,
          221,
          230,
          273,
          253,
          309,
          230,
          312,
          171,
          208,
          238,
          246,
          195,
          305,
          217,
          239.5,
          365,
          344,
          320,
          394,
          256,
          196,
          326,
          277,
          220,
          270,
          229,
          219,
          184,
          239.5,
          276,
          85,
          308,
          347,
          260,
          230,
          251,
          179,
          222,
          188,
          287,
          318,
          213,
          239.5,
          246,
          294,
          292,
          193,
          271,
          270,
          246,
          156,
          257,
          267,
          207,
          196,
          282,
          117,
          466,
          289,
          237,
          247,
          202,
          186,
          277,
          193,
          226,
          263,
          260,
          268,
          180,
          265,
          206,
          288,
          264,
          303,
          225,
          216,
          224,
          201,
          265,
          213,
          338,
          248,
          223,
          306,
          529,
          239.5,
          280,
          392,
          291,
          219,
          231,
          222,
          275,
          193,
          329,
          355,
          233,
          182,
          239.5,
          246,
          237,
          242,
          603,
          239.5,
          198,
          268,
          213,
          255,
          211,
          263,
          172,
          175,
          288,
          290,
          272,
          248,
          214,
          341,
          234,
          160,
          342,
          298,
          404,
          246,
          518,
          285,
          216,
          295,
          292,
          248,
          279,
          230,
          388,
          164,
          239.5,
          264,
          263,
          239.5,
          336,
          288,
          491,
          205,
          291,
          212,
          222,
          231,
          341,
          266,
          331,
          294,
          342,
          393,
          275,
          239.5,
          239.5,
          239.5,
          239.5,
          239.5,
          239.5,
          239.5,
          239.5,
          239.5,
          239.5,
          239.5,
          239.5,
          239.5,
          239.5,
          239.5,
          239.5,
          239.5,
          239.5,
          239.5,
          239.5,
          239.5,
          239.5,
          239.5,
          239.5,
          239.5,
          239.5,
          239.5,
          239.5,
          239.5,
          239.5,
          239.5,
          239.5,
          239.5,
          239.5,
          239.5,
          239.5,
          239.5,
          239.5,
          239.5,
          239.5,
          239.5,
          239.5,
          239.5,
          239.5,
          239.5,
          239.5,
          239.5,
          239.5,
          239.5,
          239.5,
          239.5,
          239.5,
          239.5,
          239.5,
          239.5,
          239.5,
          239.5,
          239.5,
          239.5,
          239.5,
          239.5,
          239.5,
          239.5,
          239.5,
          239.5,
          239.5,
          239.5,
          239.5,
          239.5,
          239.5,
          239.5,
          239.5,
          239.5,
          239.5,
          239.5,
          239.5,
          239.5,
          239.5,
          239.5,
          239.5,
          239.5,
          239.5,
          239.5,
          239.5,
          239.5,
          239.5,
          239.5,
          239.5,
          239.5,
          239.5,
          239.5,
          239.5,
          239.5,
          239.5,
          239.5,
          239.5,
          239.5,
          239.5,
          239.5,
          239.5,
          239.5,
          239.5,
          239.5,
          239.5,
          239.5,
          239.5,
          239.5,
          239.5,
          239.5,
          239.5,
          239.5,
          239.5,
          239.5,
          239.5,
          239.5,
          239.5,
          239.5,
          239.5,
          239.5,
          239.5,
          239.5,
          239.5,
          239.5,
          260,
          209,
          218,
          228,
          213,
          239.5,
          236,
          239.5,
          239.5,
          267,
          166,
          239.5,
          239.5,
          239.5,
          239.5,
          220,
          177,
          236,
          239.5,
          239.5,
          239.5,
          239.5,
          239.5,
          239.5,
          239.5,
          239.5,
          239.5,
          186,
          100,
          228,
          239.5,
          171,
          230,
          239.5,
          239.5,
          281,
          239.5,
          203,
          239.5,
          239.5,
          239.5,
          239.5,
          239.5,
          277,
          239.5,
          233,
          239.5,
          239.5,
          240,
          239.5,
          239.5,
          153,
          224,
          239.5,
          239.5,
          239.5,
          316,
          239.5,
          239.5,
          218,
          239.5,
          311,
          239.5,
          239.5,
          239.5,
          270,
          239.5,
          239.5,
          217,
          214,
          214,
          252,
          220,
          214,
          203,
          239.5,
          339,
          216,
          276,
          458,
          241,
          384,
          297,
          248,
          308,
          208,
          227,
          210,
          245,
          225,
          240,
          239.5,
          198,
          195,
          267,
          161,
          258,
          239.5,
          239.5,
          195,
          235,
          239.5,
          305,
          223,
          282,
          349,
          239.5,
          160,
          236,
          312,
          283,
          142,
          211,
          218,
          306,
          186,
          252,
          222,
          239.5,
          239.5,
          258,
          202,
          197,
          204,
          239.5,
          274,
          192,
          298,
          272,
          220,
          200,
          261,
          181,
          260,
          220,
          221,
          216,
          175,
          219,
          310,
          208,
          232,
          273,
          203,
          182,
          274,
          204,
          270,
          292,
          171,
          221,
          289,
          217,
          223,
          239.5,
          193,
          239.5,
          210,
          282,
          170,
          369,
          173,
          289,
          239.5,
          239.5,
          216,
          271,
          244,
          285,
          243,
          240,
          219,
          237,
          165,
          213,
          287,
          258,
          256,
          186,
          264,
          239.5,
          226,
          203,
          207,
          284,
          337,
          219,
          310,
          254,
          258,
          254,
          300,
          170,
          310,
          333,
          139,
          223,
          385,
          254
         ],
         "xaxis": "x",
         "yaxis": "y"
        }
       ],
       "layout": {
        "barmode": "relative",
        "legend": {
         "tracegroupgap": 0
        },
        "margin": {
         "t": 60
        },
        "template": {
         "data": {
          "bar": [
           {
            "error_x": {
             "color": "#2a3f5f"
            },
            "error_y": {
             "color": "#2a3f5f"
            },
            "marker": {
             "line": {
              "color": "#E5ECF6",
              "width": 0.5
             },
             "pattern": {
              "fillmode": "overlay",
              "size": 10,
              "solidity": 0.2
             }
            },
            "type": "bar"
           }
          ],
          "barpolar": [
           {
            "marker": {
             "line": {
              "color": "#E5ECF6",
              "width": 0.5
             },
             "pattern": {
              "fillmode": "overlay",
              "size": 10,
              "solidity": 0.2
             }
            },
            "type": "barpolar"
           }
          ],
          "carpet": [
           {
            "aaxis": {
             "endlinecolor": "#2a3f5f",
             "gridcolor": "white",
             "linecolor": "white",
             "minorgridcolor": "white",
             "startlinecolor": "#2a3f5f"
            },
            "baxis": {
             "endlinecolor": "#2a3f5f",
             "gridcolor": "white",
             "linecolor": "white",
             "minorgridcolor": "white",
             "startlinecolor": "#2a3f5f"
            },
            "type": "carpet"
           }
          ],
          "choropleth": [
           {
            "colorbar": {
             "outlinewidth": 0,
             "ticks": ""
            },
            "type": "choropleth"
           }
          ],
          "contour": [
           {
            "colorbar": {
             "outlinewidth": 0,
             "ticks": ""
            },
            "colorscale": [
             [
              0,
              "#0d0887"
             ],
             [
              0.1111111111111111,
              "#46039f"
             ],
             [
              0.2222222222222222,
              "#7201a8"
             ],
             [
              0.3333333333333333,
              "#9c179e"
             ],
             [
              0.4444444444444444,
              "#bd3786"
             ],
             [
              0.5555555555555556,
              "#d8576b"
             ],
             [
              0.6666666666666666,
              "#ed7953"
             ],
             [
              0.7777777777777778,
              "#fb9f3a"
             ],
             [
              0.8888888888888888,
              "#fdca26"
             ],
             [
              1,
              "#f0f921"
             ]
            ],
            "type": "contour"
           }
          ],
          "contourcarpet": [
           {
            "colorbar": {
             "outlinewidth": 0,
             "ticks": ""
            },
            "type": "contourcarpet"
           }
          ],
          "heatmap": [
           {
            "colorbar": {
             "outlinewidth": 0,
             "ticks": ""
            },
            "colorscale": [
             [
              0,
              "#0d0887"
             ],
             [
              0.1111111111111111,
              "#46039f"
             ],
             [
              0.2222222222222222,
              "#7201a8"
             ],
             [
              0.3333333333333333,
              "#9c179e"
             ],
             [
              0.4444444444444444,
              "#bd3786"
             ],
             [
              0.5555555555555556,
              "#d8576b"
             ],
             [
              0.6666666666666666,
              "#ed7953"
             ],
             [
              0.7777777777777778,
              "#fb9f3a"
             ],
             [
              0.8888888888888888,
              "#fdca26"
             ],
             [
              1,
              "#f0f921"
             ]
            ],
            "type": "heatmap"
           }
          ],
          "heatmapgl": [
           {
            "colorbar": {
             "outlinewidth": 0,
             "ticks": ""
            },
            "colorscale": [
             [
              0,
              "#0d0887"
             ],
             [
              0.1111111111111111,
              "#46039f"
             ],
             [
              0.2222222222222222,
              "#7201a8"
             ],
             [
              0.3333333333333333,
              "#9c179e"
             ],
             [
              0.4444444444444444,
              "#bd3786"
             ],
             [
              0.5555555555555556,
              "#d8576b"
             ],
             [
              0.6666666666666666,
              "#ed7953"
             ],
             [
              0.7777777777777778,
              "#fb9f3a"
             ],
             [
              0.8888888888888888,
              "#fdca26"
             ],
             [
              1,
              "#f0f921"
             ]
            ],
            "type": "heatmapgl"
           }
          ],
          "histogram": [
           {
            "marker": {
             "pattern": {
              "fillmode": "overlay",
              "size": 10,
              "solidity": 0.2
             }
            },
            "type": "histogram"
           }
          ],
          "histogram2d": [
           {
            "colorbar": {
             "outlinewidth": 0,
             "ticks": ""
            },
            "colorscale": [
             [
              0,
              "#0d0887"
             ],
             [
              0.1111111111111111,
              "#46039f"
             ],
             [
              0.2222222222222222,
              "#7201a8"
             ],
             [
              0.3333333333333333,
              "#9c179e"
             ],
             [
              0.4444444444444444,
              "#bd3786"
             ],
             [
              0.5555555555555556,
              "#d8576b"
             ],
             [
              0.6666666666666666,
              "#ed7953"
             ],
             [
              0.7777777777777778,
              "#fb9f3a"
             ],
             [
              0.8888888888888888,
              "#fdca26"
             ],
             [
              1,
              "#f0f921"
             ]
            ],
            "type": "histogram2d"
           }
          ],
          "histogram2dcontour": [
           {
            "colorbar": {
             "outlinewidth": 0,
             "ticks": ""
            },
            "colorscale": [
             [
              0,
              "#0d0887"
             ],
             [
              0.1111111111111111,
              "#46039f"
             ],
             [
              0.2222222222222222,
              "#7201a8"
             ],
             [
              0.3333333333333333,
              "#9c179e"
             ],
             [
              0.4444444444444444,
              "#bd3786"
             ],
             [
              0.5555555555555556,
              "#d8576b"
             ],
             [
              0.6666666666666666,
              "#ed7953"
             ],
             [
              0.7777777777777778,
              "#fb9f3a"
             ],
             [
              0.8888888888888888,
              "#fdca26"
             ],
             [
              1,
              "#f0f921"
             ]
            ],
            "type": "histogram2dcontour"
           }
          ],
          "mesh3d": [
           {
            "colorbar": {
             "outlinewidth": 0,
             "ticks": ""
            },
            "type": "mesh3d"
           }
          ],
          "parcoords": [
           {
            "line": {
             "colorbar": {
              "outlinewidth": 0,
              "ticks": ""
             }
            },
            "type": "parcoords"
           }
          ],
          "pie": [
           {
            "automargin": true,
            "type": "pie"
           }
          ],
          "scatter": [
           {
            "fillpattern": {
             "fillmode": "overlay",
             "size": 10,
             "solidity": 0.2
            },
            "type": "scatter"
           }
          ],
          "scatter3d": [
           {
            "line": {
             "colorbar": {
              "outlinewidth": 0,
              "ticks": ""
             }
            },
            "marker": {
             "colorbar": {
              "outlinewidth": 0,
              "ticks": ""
             }
            },
            "type": "scatter3d"
           }
          ],
          "scattercarpet": [
           {
            "marker": {
             "colorbar": {
              "outlinewidth": 0,
              "ticks": ""
             }
            },
            "type": "scattercarpet"
           }
          ],
          "scattergeo": [
           {
            "marker": {
             "colorbar": {
              "outlinewidth": 0,
              "ticks": ""
             }
            },
            "type": "scattergeo"
           }
          ],
          "scattergl": [
           {
            "marker": {
             "colorbar": {
              "outlinewidth": 0,
              "ticks": ""
             }
            },
            "type": "scattergl"
           }
          ],
          "scattermapbox": [
           {
            "marker": {
             "colorbar": {
              "outlinewidth": 0,
              "ticks": ""
             }
            },
            "type": "scattermapbox"
           }
          ],
          "scatterpolar": [
           {
            "marker": {
             "colorbar": {
              "outlinewidth": 0,
              "ticks": ""
             }
            },
            "type": "scatterpolar"
           }
          ],
          "scatterpolargl": [
           {
            "marker": {
             "colorbar": {
              "outlinewidth": 0,
              "ticks": ""
             }
            },
            "type": "scatterpolargl"
           }
          ],
          "scatterternary": [
           {
            "marker": {
             "colorbar": {
              "outlinewidth": 0,
              "ticks": ""
             }
            },
            "type": "scatterternary"
           }
          ],
          "surface": [
           {
            "colorbar": {
             "outlinewidth": 0,
             "ticks": ""
            },
            "colorscale": [
             [
              0,
              "#0d0887"
             ],
             [
              0.1111111111111111,
              "#46039f"
             ],
             [
              0.2222222222222222,
              "#7201a8"
             ],
             [
              0.3333333333333333,
              "#9c179e"
             ],
             [
              0.4444444444444444,
              "#bd3786"
             ],
             [
              0.5555555555555556,
              "#d8576b"
             ],
             [
              0.6666666666666666,
              "#ed7953"
             ],
             [
              0.7777777777777778,
              "#fb9f3a"
             ],
             [
              0.8888888888888888,
              "#fdca26"
             ],
             [
              1,
              "#f0f921"
             ]
            ],
            "type": "surface"
           }
          ],
          "table": [
           {
            "cells": {
             "fill": {
              "color": "#EBF0F8"
             },
             "line": {
              "color": "white"
             }
            },
            "header": {
             "fill": {
              "color": "#C8D4E3"
             },
             "line": {
              "color": "white"
             }
            },
            "type": "table"
           }
          ]
         },
         "layout": {
          "annotationdefaults": {
           "arrowcolor": "#2a3f5f",
           "arrowhead": 0,
           "arrowwidth": 1
          },
          "autotypenumbers": "strict",
          "coloraxis": {
           "colorbar": {
            "outlinewidth": 0,
            "ticks": ""
           }
          },
          "colorscale": {
           "diverging": [
            [
             0,
             "#8e0152"
            ],
            [
             0.1,
             "#c51b7d"
            ],
            [
             0.2,
             "#de77ae"
            ],
            [
             0.3,
             "#f1b6da"
            ],
            [
             0.4,
             "#fde0ef"
            ],
            [
             0.5,
             "#f7f7f7"
            ],
            [
             0.6,
             "#e6f5d0"
            ],
            [
             0.7,
             "#b8e186"
            ],
            [
             0.8,
             "#7fbc41"
            ],
            [
             0.9,
             "#4d9221"
            ],
            [
             1,
             "#276419"
            ]
           ],
           "sequential": [
            [
             0,
             "#0d0887"
            ],
            [
             0.1111111111111111,
             "#46039f"
            ],
            [
             0.2222222222222222,
             "#7201a8"
            ],
            [
             0.3333333333333333,
             "#9c179e"
            ],
            [
             0.4444444444444444,
             "#bd3786"
            ],
            [
             0.5555555555555556,
             "#d8576b"
            ],
            [
             0.6666666666666666,
             "#ed7953"
            ],
            [
             0.7777777777777778,
             "#fb9f3a"
            ],
            [
             0.8888888888888888,
             "#fdca26"
            ],
            [
             1,
             "#f0f921"
            ]
           ],
           "sequentialminus": [
            [
             0,
             "#0d0887"
            ],
            [
             0.1111111111111111,
             "#46039f"
            ],
            [
             0.2222222222222222,
             "#7201a8"
            ],
            [
             0.3333333333333333,
             "#9c179e"
            ],
            [
             0.4444444444444444,
             "#bd3786"
            ],
            [
             0.5555555555555556,
             "#d8576b"
            ],
            [
             0.6666666666666666,
             "#ed7953"
            ],
            [
             0.7777777777777778,
             "#fb9f3a"
            ],
            [
             0.8888888888888888,
             "#fdca26"
            ],
            [
             1,
             "#f0f921"
            ]
           ]
          },
          "colorway": [
           "#636efa",
           "#EF553B",
           "#00cc96",
           "#ab63fa",
           "#FFA15A",
           "#19d3f3",
           "#FF6692",
           "#B6E880",
           "#FF97FF",
           "#FECB52"
          ],
          "font": {
           "color": "#2a3f5f"
          },
          "geo": {
           "bgcolor": "white",
           "lakecolor": "white",
           "landcolor": "#E5ECF6",
           "showlakes": true,
           "showland": true,
           "subunitcolor": "white"
          },
          "hoverlabel": {
           "align": "left"
          },
          "hovermode": "closest",
          "mapbox": {
           "style": "light"
          },
          "paper_bgcolor": "white",
          "plot_bgcolor": "#E5ECF6",
          "polar": {
           "angularaxis": {
            "gridcolor": "white",
            "linecolor": "white",
            "ticks": ""
           },
           "bgcolor": "#E5ECF6",
           "radialaxis": {
            "gridcolor": "white",
            "linecolor": "white",
            "ticks": ""
           }
          },
          "scene": {
           "xaxis": {
            "backgroundcolor": "#E5ECF6",
            "gridcolor": "white",
            "gridwidth": 2,
            "linecolor": "white",
            "showbackground": true,
            "ticks": "",
            "zerolinecolor": "white"
           },
           "yaxis": {
            "backgroundcolor": "#E5ECF6",
            "gridcolor": "white",
            "gridwidth": 2,
            "linecolor": "white",
            "showbackground": true,
            "ticks": "",
            "zerolinecolor": "white"
           },
           "zaxis": {
            "backgroundcolor": "#E5ECF6",
            "gridcolor": "white",
            "gridwidth": 2,
            "linecolor": "white",
            "showbackground": true,
            "ticks": "",
            "zerolinecolor": "white"
           }
          },
          "shapedefaults": {
           "line": {
            "color": "#2a3f5f"
           }
          },
          "ternary": {
           "aaxis": {
            "gridcolor": "white",
            "linecolor": "white",
            "ticks": ""
           },
           "baxis": {
            "gridcolor": "white",
            "linecolor": "white",
            "ticks": ""
           },
           "bgcolor": "#E5ECF6",
           "caxis": {
            "gridcolor": "white",
            "linecolor": "white",
            "ticks": ""
           }
          },
          "title": {
           "x": 0.05
          },
          "xaxis": {
           "automargin": true,
           "gridcolor": "white",
           "linecolor": "white",
           "ticks": "",
           "title": {
            "standoff": 15
           },
           "zerolinecolor": "white",
           "zerolinewidth": 2
          },
          "yaxis": {
           "automargin": true,
           "gridcolor": "white",
           "linecolor": "white",
           "ticks": "",
           "title": {
            "standoff": 15
           },
           "zerolinecolor": "white",
           "zerolinewidth": 2
          }
         }
        },
        "xaxis": {
         "anchor": "y",
         "domain": [
          0,
          1
         ],
         "title": {
          "text": "chol"
         }
        },
        "yaxis": {
         "anchor": "x",
         "domain": [
          0,
          1
         ],
         "title": {
          "text": "count"
         }
        }
       }
      }
     },
     "metadata": {},
     "output_type": "display_data"
    },
    {
     "data": {
      "image/png": "[encoded data removed]",
      "text/plain": [
       "<Figure size 640x480 with 1 Axes>"
      ]
     },
     "metadata": {},
     "output_type": "display_data"
    }
   ],
   "source": [
    "#dealing with chol (cholesterol) column\n",
    "print(df['chol'].describe())\n",
    "\n",
    "#finding missing values\n",
    "print(\"Missing Values:\", df['chol'].isnull().sum())\n",
    "\n",
    "#replacing 0 values with nan\n",
    "df['chol'].replace(0, np.nan, inplace= True)\n",
    "\n",
    "#filling the missing values\n",
    "df['chol'].fillna(df['chol'].median(), inplace= True)\n",
    "\n",
    "\n",
    "sns.histplot(df['chol'], kde=True, bins= 30)\n",
    "\n",
    "#distribution of chol column\n",
    "fig = px.histogram(data_frame=df, x='chol')\n",
    "fig.show()\n",
    "\n",
    "\n"
   ]
  },
  {
   "cell_type": "markdown",
   "metadata": {},
   "source": [
    "The histogram above represents the distribution of **cholesterol levels (`chol`)** in the dataset, with a KDE curve overlaid to visualize the overall distribution trend.\n",
    "\n",
    "- The most **frequent cholesterol level** is around **240 mg/dL**, indicated by the highest peak.\n",
    "- The data ranges approximately from **100 mg/dL to 600 mg/dL**, with most values concentrated between **150 mg/dL and 350 mg/dL**.\n",
    "\n",
    "**medically**\n",
    "- A normal cholesterol level is generally **below 200 mg/dL**.\n",
    "- Borderline high levels range between **200-239 mg/dL**.\n",
    "- High cholesterol is **240 mg/dL or more**, which is associated with an increased risk of heart disease.\n"
   ]
  },
  {
   "cell_type": "markdown",
   "metadata": {},
   "source": [
    "## Fbs column (Fasting Blood Suger)"
   ]
  },
  {
   "cell_type": "markdown",
   "metadata": {},
   "source": [
    "The fbs column, representing fasting blood sugar, is clinically important because a level above 120 mg/dL is often indicative of diabetes, which is a significant risk factor for heart disease. Elevated fasting blood sugar can damage blood vessels and increase the risk of cardiovascular conditions. \n",
    "\n",
    "0: Fasting blood sugar is below 120 mg/dL.\n",
    "\n",
    "1: Fasting blood sugar is above 120 mg/dL"
   ]
  },
  {
   "cell_type": "code",
   "execution_count": 277,
   "metadata": {},
   "outputs": [
    {
     "name": "stdout",
     "output_type": "stream",
     "text": [
      "fbs\n",
      "False    691\n",
      "True     138\n",
      "Name: count, dtype: int64\n",
      "90\n"
     ]
    },
    {
     "name": "stderr",
     "output_type": "stream",
     "text": [
      "C:\\Users\\hp\\AppData\\Local\\Temp\\ipykernel_6340\\2877287213.py:7: FutureWarning:\n",
      "\n",
      "A value is trying to be set on a copy of a DataFrame or Series through chained assignment using an inplace method.\n",
      "The behavior will change in pandas 3.0. This inplace method will never work because the intermediate object on which we are setting values always behaves as a copy.\n",
      "\n",
      "For example, when doing 'df[col].method(value, inplace=True)', try using 'df.method({col: value}, inplace=True)' or df[col] = df[col].method(value) instead, to perform the operation inplace on the original object.\n",
      "\n",
      "\n",
      "\n",
      "C:\\Users\\hp\\AppData\\Local\\Temp\\ipykernel_6340\\2877287213.py:7: FutureWarning:\n",
      "\n",
      "Downcasting object dtype arrays on .fillna, .ffill, .bfill is deprecated and will change in a future version. Call result.infer_objects(copy=False) instead. To opt-in to the future behavior, set `pd.set_option('future.no_silent_downcasting', True)`\n",
      "\n"
     ]
    },
    {
     "data": {
      "image/png": "[encoded data removed]",
      "text/plain": [
       "<Figure size 640x480 with 1 Axes>"
      ]
     },
     "metadata": {},
     "output_type": "display_data"
    }
   ],
   "source": [
    "#dealing fbs column\n",
    "print(df['fbs'].value_counts())\n",
    "\n",
    "print(df['fbs'].isnull().sum()) \n",
    "\n",
    "#filling missing values\n",
    "df['fbs'].fillna(df['fbs'].mode()[0], inplace= True)\n",
    "\n",
    "sns.countplot(x='fbs', data=df)\n",
    "plt.show()"
   ]
  },
  {
   "cell_type": "markdown",
   "metadata": {},
   "source": [
    "This bar chart represents the distribution of fasting blood sugar (`fbs`) in the dataset, where:\n",
    "\n",
    "- **0** indicates fasting blood sugar < 120 mg/dL.\n",
    "- **1** indicates fasting blood sugar ≥ 120 mg/dL.\n",
    "\n",
    "- A **majority** of individuals in the dataset have fasting blood sugar levels **below** 120 mg/dL (`0`).\n",
    "- A **smaller proportion** of individuals have fasting blood sugar levels **above or equal** to 120 mg/dL (`1`).\n",
    "\n",
    "This suggests that high fasting blood sugar is less common in this dataset."
   ]
  },
  {
   "cell_type": "markdown",
   "metadata": {},
   "source": [
    "## Dealing with restecg column"
   ]
  },
  {
   "cell_type": "markdown",
   "metadata": {},
   "source": [
    "| restecg Value  | Type of ECG Result                 |Meaning & Possible Causes|\n",
    "|----------------|------------------------------------|-------------------------|\n",
    "| 0              | Normal                             | No abnormalities in heart function.   |\n",
    "| 1              | ST-T Wave Abnormality              |Possible ischemia, electrolyte issues,or early signs of heart disease.|\n",
    "| 2             | Left Ventricular Hypertrophy (LVH) | Thickened heart muscle due to high blood pressure or other conditions.  | \n",
    "                "
   ]
  },
  {
   "cell_type": "code",
   "execution_count": 278,
   "metadata": {},
   "outputs": [
    {
     "name": "stdout",
     "output_type": "stream",
     "text": [
      "restecg\n",
      "normal              550\n",
      "lv hypertrophy      188\n",
      "st-t abnormality    179\n",
      "Name: count, dtype: int64\n",
      "2\n"
     ]
    },
    {
     "name": "stderr",
     "output_type": "stream",
     "text": [
      "C:\\Users\\hp\\AppData\\Local\\Temp\\ipykernel_6340\\3960746425.py:8: FutureWarning:\n",
      "\n",
      "A value is trying to be set on a copy of a DataFrame or Series through chained assignment using an inplace method.\n",
      "The behavior will change in pandas 3.0. This inplace method will never work because the intermediate object on which we are setting values always behaves as a copy.\n",
      "\n",
      "For example, when doing 'df[col].method(value, inplace=True)', try using 'df.method({col: value}, inplace=True)' or df[col] = df[col].method(value) instead, to perform the operation inplace on the original object.\n",
      "\n",
      "\n",
      "\n"
     ]
    },
    {
     "data": {
      "application/vnd.plotly.v1+json": {
       "config": {
        "plotlyServerURL": "https://plot.ly"
       },
       "data": [
        {
         "alignmentgroup": "True",
         "bingroup": "x",
         "hovertemplate": "sex=Male<br>restecg=%{x}<br>count=%{y}<extra></extra>",
         "legendgroup": "Male",
         "marker": {
          "color": "#636efa",
          "pattern": {
           "shape": ""
          }
         },
         "name": "Male",
         "offsetgroup": "Male",
         "orientation": "v",
         "showlegend": true,
         "type": "histogram",
         "x": [
          "lv hypertrophy",
          "lv hypertrophy",
          "lv hypertrophy",
          "normal",
          "normal",
          "lv hypertrophy",
          "lv hypertrophy",
          "normal",
          "lv hypertrophy",
          "normal",
          "normal",
          "normal",
          "normal",
          "normal",
          "normal",
          "lv hypertrophy",
          "lv hypertrophy",
          "lv hypertrophy",
          "lv hypertrophy",
          "normal",
          "lv hypertrophy",
          "normal",
          "normal",
          "normal",
          "normal",
          "normal",
          "lv hypertrophy",
          "lv hypertrophy",
          "normal",
          "normal",
          "normal",
          "normal",
          "lv hypertrophy",
          "normal",
          "lv hypertrophy",
          "lv hypertrophy",
          "normal",
          "lv hypertrophy",
          "lv hypertrophy",
          "normal",
          "lv hypertrophy",
          "normal",
          "lv hypertrophy",
          "lv hypertrophy",
          "lv hypertrophy",
          "lv hypertrophy",
          "normal",
          "lv hypertrophy",
          "lv hypertrophy",
          "lv hypertrophy",
          "lv hypertrophy",
          "normal",
          "normal",
          "normal",
          "lv hypertrophy",
          "lv hypertrophy",
          "lv hypertrophy",
          "lv hypertrophy",
          "lv hypertrophy",
          "lv hypertrophy",
          "lv hypertrophy",
          "lv hypertrophy",
          "normal",
          "lv hypertrophy",
          "lv hypertrophy",
          "lv hypertrophy",
          "normal",
          "normal",
          "lv hypertrophy",
          "normal",
          "lv hypertrophy",
          "lv hypertrophy",
          "lv hypertrophy",
          "normal",
          "normal",
          "normal",
          "lv hypertrophy",
          "normal",
          "normal",
          "lv hypertrophy",
          "lv hypertrophy",
          "normal",
          "lv hypertrophy",
          "lv hypertrophy",
          "lv hypertrophy",
          "lv hypertrophy",
          "normal",
          "normal",
          "lv hypertrophy",
          "normal",
          "normal",
          "lv hypertrophy",
          "normal",
          "lv hypertrophy",
          "lv hypertrophy",
          "normal",
          "lv hypertrophy",
          "normal",
          "lv hypertrophy",
          "normal",
          "lv hypertrophy",
          "normal",
          "normal",
          "lv hypertrophy",
          "normal",
          "lv hypertrophy",
          "normal",
          "lv hypertrophy",
          "normal",
          "lv hypertrophy",
          "lv hypertrophy",
          "lv hypertrophy",
          "normal",
          "lv hypertrophy",
          "lv hypertrophy",
          "normal",
          "normal",
          "lv hypertrophy",
          "normal",
          "normal",
          "normal",
          "lv hypertrophy",
          "normal",
          "lv hypertrophy",
          "lv hypertrophy",
          "normal",
          "normal",
          "lv hypertrophy",
          "normal",
          "lv hypertrophy",
          "lv hypertrophy",
          "lv hypertrophy",
          "lv hypertrophy",
          "normal",
          "normal",
          "lv hypertrophy",
          "lv hypertrophy",
          "normal",
          "normal",
          "lv hypertrophy",
          "lv hypertrophy",
          "lv hypertrophy",
          "lv hypertrophy",
          "normal",
          "normal",
          "lv hypertrophy",
          "lv hypertrophy",
          "lv hypertrophy",
          "normal",
          "normal",
          "lv hypertrophy",
          "normal",
          "lv hypertrophy",
          "lv hypertrophy",
          "normal",
          "normal",
          "lv hypertrophy",
          "lv hypertrophy",
          "lv hypertrophy",
          "lv hypertrophy",
          "lv hypertrophy",
          "lv hypertrophy",
          "normal",
          "normal",
          "normal",
          "normal",
          "normal",
          "lv hypertrophy",
          "normal",
          "lv hypertrophy",
          "normal",
          "normal",
          "normal",
          "normal",
          "lv hypertrophy",
          "normal",
          "normal",
          "lv hypertrophy",
          "normal",
          "normal",
          "normal",
          "normal",
          "normal",
          "lv hypertrophy",
          "lv hypertrophy",
          "normal",
          "normal",
          "lv hypertrophy",
          "lv hypertrophy",
          "normal",
          "normal",
          "normal",
          "normal",
          "st-t abnormality",
          "normal",
          "lv hypertrophy",
          "normal",
          "lv hypertrophy",
          "normal",
          "lv hypertrophy",
          "normal",
          "lv hypertrophy",
          "normal",
          "normal",
          "normal",
          "normal",
          "lv hypertrophy",
          "normal",
          "normal",
          "normal",
          "normal",
          "normal",
          "st-t abnormality",
          "normal",
          "lv hypertrophy",
          "normal",
          "normal",
          "normal",
          "normal",
          "normal",
          "st-t abnormality",
          "normal",
          "normal",
          "normal",
          "normal",
          "normal",
          "st-t abnormality",
          "normal",
          "normal",
          "normal",
          "normal",
          "normal",
          "normal",
          "normal",
          "normal",
          "normal",
          "normal",
          "normal",
          "normal",
          "normal",
          "st-t abnormality",
          "normal",
          "normal",
          "normal",
          "normal",
          "normal",
          "normal",
          "normal",
          "normal",
          "normal",
          "normal",
          "normal",
          "normal",
          "normal",
          "normal",
          "normal",
          "normal",
          "normal",
          "normal",
          "normal",
          "normal",
          "st-t abnormality",
          "st-t abnormality",
          "st-t abnormality",
          "normal",
          "normal",
          "normal",
          "normal",
          "normal",
          "normal",
          "normal",
          "normal",
          "normal",
          "normal",
          "normal",
          "normal",
          "normal",
          "st-t abnormality",
          "normal",
          "normal",
          "normal",
          "normal",
          "normal",
          "normal",
          "normal",
          "normal",
          "st-t abnormality",
          "normal",
          "normal",
          "normal",
          "st-t abnormality",
          "normal",
          "normal",
          "normal",
          "normal",
          "normal",
          "normal",
          "st-t abnormality",
          "normal",
          "normal",
          "normal",
          "st-t abnormality",
          "normal",
          "normal",
          "normal",
          "normal",
          "lv hypertrophy",
          "normal",
          "normal",
          "normal",
          "normal",
          "normal",
          "normal",
          "normal",
          "normal",
          "normal",
          "normal",
          "normal",
          "normal",
          "normal",
          "normal",
          "normal",
          "lv hypertrophy",
          "st-t abnormality",
          "normal",
          "normal",
          "normal",
          "normal",
          "normal",
          "normal",
          "normal",
          "normal",
          "normal",
          "normal",
          "normal",
          "normal",
          "normal",
          "normal",
          "normal",
          "normal",
          "normal",
          "normal",
          "normal",
          "normal",
          "normal",
          "normal",
          "normal",
          "normal",
          "normal",
          "normal",
          "normal",
          "normal",
          "st-t abnormality",
          "st-t abnormality",
          "normal",
          "normal",
          "normal",
          "normal",
          "normal",
          "normal",
          "st-t abnormality",
          "st-t abnormality",
          "normal",
          "normal",
          "st-t abnormality",
          "normal",
          "normal",
          "normal",
          "normal",
          "normal",
          "normal",
          "normal",
          "normal",
          "normal",
          "normal",
          "normal",
          "normal",
          "normal",
          "normal",
          "normal",
          "st-t abnormality",
          "normal",
          "st-t abnormality",
          "normal",
          "normal",
          "normal",
          "normal",
          "normal",
          "normal",
          "normal",
          "st-t abnormality",
          "normal",
          "normal",
          "st-t abnormality",
          "normal",
          "st-t abnormality",
          "normal",
          "normal",
          "normal",
          "normal",
          "st-t abnormality",
          "st-t abnormality",
          "st-t abnormality",
          "normal",
          "lv hypertrophy",
          "normal",
          "normal",
          "normal",
          "normal",
          "normal",
          "st-t abnormality",
          "normal",
          "normal",
          "st-t abnormality",
          "st-t abnormality",
          "normal",
          "normal",
          "normal",
          "st-t abnormality",
          "normal",
          "normal",
          "normal",
          "normal",
          "normal",
          "normal",
          "normal",
          "normal",
          "st-t abnormality",
          "normal",
          "normal",
          "normal",
          "normal",
          "normal",
          "st-t abnormality",
          "normal",
          "st-t abnormality",
          "normal",
          "normal",
          "normal",
          "st-t abnormality",
          "normal",
          "normal",
          "normal",
          "st-t abnormality",
          "normal",
          "normal",
          "normal",
          "normal",
          "st-t abnormality",
          "normal",
          "normal",
          "normal",
          "normal",
          "normal",
          "normal",
          "normal",
          "st-t abnormality",
          "normal",
          "lv hypertrophy",
          "normal",
          "normal",
          "lv hypertrophy",
          "normal",
          "normal",
          "normal",
          "normal",
          "st-t abnormality",
          "normal",
          "st-t abnormality",
          "normal",
          "normal",
          "normal",
          "st-t abnormality",
          "st-t abnormality",
          "st-t abnormality",
          "st-t abnormality",
          "normal",
          "normal",
          "normal",
          "st-t abnormality",
          "normal",
          "normal",
          "normal",
          "normal",
          "normal",
          "st-t abnormality",
          "st-t abnormality",
          "normal",
          "normal",
          "normal",
          "normal",
          "normal",
          "normal",
          "normal",
          "st-t abnormality",
          "normal",
          "st-t abnormality",
          "normal",
          "st-t abnormality",
          "normal",
          "normal",
          "normal",
          "lv hypertrophy",
          "normal",
          "normal",
          "normal",
          "st-t abnormality",
          "lv hypertrophy",
          "normal",
          "normal",
          "normal",
          "st-t abnormality",
          "normal",
          "lv hypertrophy",
          "normal",
          "st-t abnormality",
          "normal",
          "normal",
          "normal",
          "st-t abnormality",
          "normal",
          "st-t abnormality",
          "normal",
          "lv hypertrophy",
          "st-t abnormality",
          "normal",
          "normal",
          "st-t abnormality",
          "st-t abnormality",
          "normal",
          "lv hypertrophy",
          "st-t abnormality",
          "st-t abnormality",
          "st-t abnormality",
          "st-t abnormality",
          "st-t abnormality",
          "lv hypertrophy",
          "st-t abnormality",
          "st-t abnormality",
          "st-t abnormality",
          "normal",
          "st-t abnormality",
          "st-t abnormality",
          "st-t abnormality",
          "normal",
          "lv hypertrophy",
          "st-t abnormality",
          "st-t abnormality",
          "normal",
          "normal",
          "st-t abnormality",
          "st-t abnormality",
          "normal",
          "st-t abnormality",
          "st-t abnormality",
          "normal",
          "st-t abnormality",
          "st-t abnormality",
          "st-t abnormality",
          "st-t abnormality",
          "normal",
          "st-t abnormality",
          "st-t abnormality",
          "st-t abnormality",
          "normal",
          "normal",
          "st-t abnormality",
          "st-t abnormality",
          "normal",
          "normal",
          "st-t abnormality",
          "normal",
          "normal",
          "st-t abnormality",
          "st-t abnormality",
          "st-t abnormality",
          "normal",
          "normal",
          "normal",
          "normal",
          "normal",
          "st-t abnormality",
          "st-t abnormality",
          "normal",
          "normal",
          "normal",
          "st-t abnormality",
          "st-t abnormality",
          "normal",
          "lv hypertrophy",
          "lv hypertrophy",
          "normal",
          "st-t abnormality",
          "lv hypertrophy",
          "normal",
          "st-t abnormality",
          "normal",
          "lv hypertrophy",
          "normal",
          "st-t abnormality",
          "st-t abnormality",
          "st-t abnormality",
          "normal",
          "normal",
          "normal",
          "st-t abnormality",
          "st-t abnormality",
          "normal",
          "normal",
          "normal",
          "normal",
          "st-t abnormality",
          "normal",
          "normal",
          "normal",
          "st-t abnormality",
          "st-t abnormality",
          "normal",
          "st-t abnormality",
          "normal",
          "normal",
          "normal",
          "normal",
          "normal",
          "st-t abnormality",
          "st-t abnormality",
          "st-t abnormality",
          "normal",
          "st-t abnormality",
          "normal",
          "normal",
          "st-t abnormality",
          "st-t abnormality",
          "st-t abnormality",
          "st-t abnormality",
          "lv hypertrophy",
          "normal",
          "st-t abnormality",
          "normal",
          "lv hypertrophy",
          "normal",
          "normal",
          "normal",
          "normal",
          "st-t abnormality",
          "st-t abnormality",
          "st-t abnormality",
          "normal",
          "lv hypertrophy",
          "st-t abnormality",
          "st-t abnormality",
          "normal",
          "lv hypertrophy",
          "st-t abnormality",
          "lv hypertrophy",
          "st-t abnormality",
          "st-t abnormality",
          "st-t abnormality",
          "st-t abnormality",
          "normal",
          "st-t abnormality",
          "normal",
          "lv hypertrophy",
          "normal",
          "normal",
          "st-t abnormality",
          "st-t abnormality",
          "normal",
          "st-t abnormality",
          "st-t abnormality",
          "normal",
          "st-t abnormality",
          "st-t abnormality",
          "normal",
          "st-t abnormality",
          "st-t abnormality",
          "st-t abnormality",
          "normal",
          "st-t abnormality",
          "normal",
          "normal",
          "st-t abnormality",
          "normal",
          "st-t abnormality",
          "lv hypertrophy",
          "st-t abnormality",
          "normal",
          "st-t abnormality",
          "normal",
          "lv hypertrophy",
          "st-t abnormality",
          "lv hypertrophy",
          "normal",
          "lv hypertrophy",
          "lv hypertrophy",
          "st-t abnormality",
          "st-t abnormality",
          "normal",
          "lv hypertrophy",
          "st-t abnormality",
          "normal",
          "st-t abnormality",
          "st-t abnormality",
          "lv hypertrophy",
          "lv hypertrophy",
          "lv hypertrophy",
          "lv hypertrophy",
          "lv hypertrophy",
          "st-t abnormality",
          "lv hypertrophy",
          "normal",
          "st-t abnormality",
          "normal",
          "normal",
          "st-t abnormality",
          "normal",
          "normal",
          "st-t abnormality",
          "st-t abnormality",
          "st-t abnormality",
          "normal",
          "st-t abnormality",
          "st-t abnormality",
          "lv hypertrophy",
          "lv hypertrophy"
         ],
         "xaxis": "x",
         "yaxis": "y"
        },
        {
         "alignmentgroup": "True",
         "bingroup": "x",
         "hovertemplate": "sex=Female<br>restecg=%{x}<br>count=%{y}<extra></extra>",
         "legendgroup": "Female",
         "marker": {
          "color": "#EF553B",
          "pattern": {
           "shape": ""
          }
         },
         "name": "Female",
         "offsetgroup": "Female",
         "orientation": "v",
         "showlegend": true,
         "type": "histogram",
         "x": [
          "lv hypertrophy",
          "lv hypertrophy",
          "normal",
          "lv hypertrophy",
          "normal",
          "lv hypertrophy",
          "normal",
          "normal",
          "normal",
          "normal",
          "lv hypertrophy",
          "normal",
          "lv hypertrophy",
          "lv hypertrophy",
          "normal",
          "normal",
          "lv hypertrophy",
          "normal",
          "normal",
          "lv hypertrophy",
          "lv hypertrophy",
          "lv hypertrophy",
          "lv hypertrophy",
          "lv hypertrophy",
          "lv hypertrophy",
          "lv hypertrophy",
          "normal",
          "lv hypertrophy",
          "lv hypertrophy",
          "lv hypertrophy",
          "lv hypertrophy",
          "lv hypertrophy",
          "lv hypertrophy",
          "normal",
          "normal",
          "lv hypertrophy",
          "lv hypertrophy",
          "lv hypertrophy",
          "normal",
          "normal",
          "lv hypertrophy",
          "normal",
          "lv hypertrophy",
          "lv hypertrophy",
          "normal",
          "lv hypertrophy",
          "lv hypertrophy",
          "normal",
          "normal",
          "lv hypertrophy",
          "lv hypertrophy",
          "lv hypertrophy",
          "normal",
          "normal",
          "lv hypertrophy",
          "lv hypertrophy",
          "normal",
          "lv hypertrophy",
          "normal",
          "normal",
          "normal",
          "normal",
          "normal",
          "normal",
          "lv hypertrophy",
          "normal",
          "lv hypertrophy",
          "lv hypertrophy",
          "normal",
          "normal",
          "normal",
          "normal",
          "lv hypertrophy",
          "st-t abnormality",
          "lv hypertrophy",
          "normal",
          "normal",
          "normal",
          "normal",
          "normal",
          "lv hypertrophy",
          "normal",
          "normal",
          "st-t abnormality",
          "normal",
          "lv hypertrophy",
          "normal",
          "normal",
          "lv hypertrophy",
          "normal",
          "normal",
          "st-t abnormality",
          "lv hypertrophy",
          "normal",
          "normal",
          "normal",
          "lv hypertrophy",
          "st-t abnormality",
          "st-t abnormality",
          "normal",
          "normal",
          "st-t abnormality",
          "normal",
          "normal",
          "normal",
          "st-t abnormality",
          "normal",
          "st-t abnormality",
          "st-t abnormality",
          "normal",
          "normal",
          "st-t abnormality",
          "normal",
          "normal",
          "st-t abnormality",
          "st-t abnormality",
          "normal",
          "normal",
          "normal",
          "st-t abnormality",
          "normal",
          "normal",
          "normal",
          "normal",
          "normal",
          "normal",
          "st-t abnormality",
          "st-t abnormality",
          "normal",
          "normal",
          "normal",
          "st-t abnormality",
          "normal",
          "normal",
          "normal",
          "normal",
          "st-t abnormality",
          "normal",
          "normal",
          "normal",
          "normal",
          "normal",
          "normal",
          "normal",
          "normal",
          "normal",
          "normal",
          "normal",
          "normal",
          "normal",
          "normal",
          "normal",
          "normal",
          "st-t abnormality",
          "st-t abnormality",
          "normal",
          "normal",
          "st-t abnormality",
          "normal",
          "lv hypertrophy",
          "st-t abnormality",
          "normal",
          "st-t abnormality",
          "normal",
          "st-t abnormality",
          "normal",
          "normal",
          "normal",
          "normal",
          "normal",
          "st-t abnormality",
          "normal",
          "normal",
          "normal",
          "normal",
          "normal",
          "st-t abnormality",
          "normal",
          "normal",
          "normal",
          "normal",
          "normal",
          "normal",
          "st-t abnormality",
          "normal",
          "normal",
          "normal",
          "st-t abnormality",
          "normal",
          "normal",
          "normal",
          "normal",
          "lv hypertrophy",
          "st-t abnormality"
         ],
         "xaxis": "x",
         "yaxis": "y"
        }
       ],
       "layout": {
        "barmode": "relative",
        "legend": {
         "title": {
          "text": "sex"
         },
         "tracegroupgap": 0
        },
        "margin": {
         "t": 60
        },
        "template": {
         "data": {
          "bar": [
           {
            "error_x": {
             "color": "#2a3f5f"
            },
            "error_y": {
             "color": "#2a3f5f"
            },
            "marker": {
             "line": {
              "color": "#E5ECF6",
              "width": 0.5
             },
             "pattern": {
              "fillmode": "overlay",
              "size": 10,
              "solidity": 0.2
             }
            },
            "type": "bar"
           }
          ],
          "barpolar": [
           {
            "marker": {
             "line": {
              "color": "#E5ECF6",
              "width": 0.5
             },
             "pattern": {
              "fillmode": "overlay",
              "size": 10,
              "solidity": 0.2
             }
            },
            "type": "barpolar"
           }
          ],
          "carpet": [
           {
            "aaxis": {
             "endlinecolor": "#2a3f5f",
             "gridcolor": "white",
             "linecolor": "white",
             "minorgridcolor": "white",
             "startlinecolor": "#2a3f5f"
            },
            "baxis": {
             "endlinecolor": "#2a3f5f",
             "gridcolor": "white",
             "linecolor": "white",
             "minorgridcolor": "white",
             "startlinecolor": "#2a3f5f"
            },
            "type": "carpet"
           }
          ],
          "choropleth": [
           {
            "colorbar": {
             "outlinewidth": 0,
             "ticks": ""
            },
            "type": "choropleth"
           }
          ],
          "contour": [
           {
            "colorbar": {
             "outlinewidth": 0,
             "ticks": ""
            },
            "colorscale": [
             [
              0,
              "#0d0887"
             ],
             [
              0.1111111111111111,
              "#46039f"
             ],
             [
              0.2222222222222222,
              "#7201a8"
             ],
             [
              0.3333333333333333,
              "#9c179e"
             ],
             [
              0.4444444444444444,
              "#bd3786"
             ],
             [
              0.5555555555555556,
              "#d8576b"
             ],
             [
              0.6666666666666666,
              "#ed7953"
             ],
             [
              0.7777777777777778,
              "#fb9f3a"
             ],
             [
              0.8888888888888888,
              "#fdca26"
             ],
             [
              1,
              "#f0f921"
             ]
            ],
            "type": "contour"
           }
          ],
          "contourcarpet": [
           {
            "colorbar": {
             "outlinewidth": 0,
             "ticks": ""
            },
            "type": "contourcarpet"
           }
          ],
          "heatmap": [
           {
            "colorbar": {
             "outlinewidth": 0,
             "ticks": ""
            },
            "colorscale": [
             [
              0,
              "#0d0887"
             ],
             [
              0.1111111111111111,
              "#46039f"
             ],
             [
              0.2222222222222222,
              "#7201a8"
             ],
             [
              0.3333333333333333,
              "#9c179e"
             ],
             [
              0.4444444444444444,
              "#bd3786"
             ],
             [
              0.5555555555555556,
              "#d8576b"
             ],
             [
              0.6666666666666666,
              "#ed7953"
             ],
             [
              0.7777777777777778,
              "#fb9f3a"
             ],
             [
              0.8888888888888888,
              "#fdca26"
             ],
             [
              1,
              "#f0f921"
             ]
            ],
            "type": "heatmap"
           }
          ],
          "heatmapgl": [
           {
            "colorbar": {
             "outlinewidth": 0,
             "ticks": ""
            },
            "colorscale": [
             [
              0,
              "#0d0887"
             ],
             [
              0.1111111111111111,
              "#46039f"
             ],
             [
              0.2222222222222222,
              "#7201a8"
             ],
             [
              0.3333333333333333,
              "#9c179e"
             ],
             [
              0.4444444444444444,
              "#bd3786"
             ],
             [
              0.5555555555555556,
              "#d8576b"
             ],
             [
              0.6666666666666666,
              "#ed7953"
             ],
             [
              0.7777777777777778,
              "#fb9f3a"
             ],
             [
              0.8888888888888888,
              "#fdca26"
             ],
             [
              1,
              "#f0f921"
             ]
            ],
            "type": "heatmapgl"
           }
          ],
          "histogram": [
           {
            "marker": {
             "pattern": {
              "fillmode": "overlay",
              "size": 10,
              "solidity": 0.2
             }
            },
            "type": "histogram"
           }
          ],
          "histogram2d": [
           {
            "colorbar": {
             "outlinewidth": 0,
             "ticks": ""
            },
            "colorscale": [
             [
              0,
              "#0d0887"
             ],
             [
              0.1111111111111111,
              "#46039f"
             ],
             [
              0.2222222222222222,
              "#7201a8"
             ],
             [
              0.3333333333333333,
              "#9c179e"
             ],
             [
              0.4444444444444444,
              "#bd3786"
             ],
             [
              0.5555555555555556,
              "#d8576b"
             ],
             [
              0.6666666666666666,
              "#ed7953"
             ],
             [
              0.7777777777777778,
              "#fb9f3a"
             ],
             [
              0.8888888888888888,
              "#fdca26"
             ],
             [
              1,
              "#f0f921"
             ]
            ],
            "type": "histogram2d"
           }
          ],
          "histogram2dcontour": [
           {
            "colorbar": {
             "outlinewidth": 0,
             "ticks": ""
            },
            "colorscale": [
             [
              0,
              "#0d0887"
             ],
             [
              0.1111111111111111,
              "#46039f"
             ],
             [
              0.2222222222222222,
              "#7201a8"
             ],
             [
              0.3333333333333333,
              "#9c179e"
             ],
             [
              0.4444444444444444,
              "#bd3786"
             ],
             [
              0.5555555555555556,
              "#d8576b"
             ],
             [
              0.6666666666666666,
              "#ed7953"
             ],
             [
              0.7777777777777778,
              "#fb9f3a"
             ],
             [
              0.8888888888888888,
              "#fdca26"
             ],
             [
              1,
              "#f0f921"
             ]
            ],
            "type": "histogram2dcontour"
           }
          ],
          "mesh3d": [
           {
            "colorbar": {
             "outlinewidth": 0,
             "ticks": ""
            },
            "type": "mesh3d"
           }
          ],
          "parcoords": [
           {
            "line": {
             "colorbar": {
              "outlinewidth": 0,
              "ticks": ""
             }
            },
            "type": "parcoords"
           }
          ],
          "pie": [
           {
            "automargin": true,
            "type": "pie"
           }
          ],
          "scatter": [
           {
            "fillpattern": {
             "fillmode": "overlay",
             "size": 10,
             "solidity": 0.2
            },
            "type": "scatter"
           }
          ],
          "scatter3d": [
           {
            "line": {
             "colorbar": {
              "outlinewidth": 0,
              "ticks": ""
             }
            },
            "marker": {
             "colorbar": {
              "outlinewidth": 0,
              "ticks": ""
             }
            },
            "type": "scatter3d"
           }
          ],
          "scattercarpet": [
           {
            "marker": {
             "colorbar": {
              "outlinewidth": 0,
              "ticks": ""
             }
            },
            "type": "scattercarpet"
           }
          ],
          "scattergeo": [
           {
            "marker": {
             "colorbar": {
              "outlinewidth": 0,
              "ticks": ""
             }
            },
            "type": "scattergeo"
           }
          ],
          "scattergl": [
           {
            "marker": {
             "colorbar": {
              "outlinewidth": 0,
              "ticks": ""
             }
            },
            "type": "scattergl"
           }
          ],
          "scattermapbox": [
           {
            "marker": {
             "colorbar": {
              "outlinewidth": 0,
              "ticks": ""
             }
            },
            "type": "scattermapbox"
           }
          ],
          "scatterpolar": [
           {
            "marker": {
             "colorbar": {
              "outlinewidth": 0,
              "ticks": ""
             }
            },
            "type": "scatterpolar"
           }
          ],
          "scatterpolargl": [
           {
            "marker": {
             "colorbar": {
              "outlinewidth": 0,
              "ticks": ""
             }
            },
            "type": "scatterpolargl"
           }
          ],
          "scatterternary": [
           {
            "marker": {
             "colorbar": {
              "outlinewidth": 0,
              "ticks": ""
             }
            },
            "type": "scatterternary"
           }
          ],
          "surface": [
           {
            "colorbar": {
             "outlinewidth": 0,
             "ticks": ""
            },
            "colorscale": [
             [
              0,
              "#0d0887"
             ],
             [
              0.1111111111111111,
              "#46039f"
             ],
             [
              0.2222222222222222,
              "#7201a8"
             ],
             [
              0.3333333333333333,
              "#9c179e"
             ],
             [
              0.4444444444444444,
              "#bd3786"
             ],
             [
              0.5555555555555556,
              "#d8576b"
             ],
             [
              0.6666666666666666,
              "#ed7953"
             ],
             [
              0.7777777777777778,
              "#fb9f3a"
             ],
             [
              0.8888888888888888,
              "#fdca26"
             ],
             [
              1,
              "#f0f921"
             ]
            ],
            "type": "surface"
           }
          ],
          "table": [
           {
            "cells": {
             "fill": {
              "color": "#EBF0F8"
             },
             "line": {
              "color": "white"
             }
            },
            "header": {
             "fill": {
              "color": "#C8D4E3"
             },
             "line": {
              "color": "white"
             }
            },
            "type": "table"
           }
          ]
         },
         "layout": {
          "annotationdefaults": {
           "arrowcolor": "#2a3f5f",
           "arrowhead": 0,
           "arrowwidth": 1
          },
          "autotypenumbers": "strict",
          "coloraxis": {
           "colorbar": {
            "outlinewidth": 0,
            "ticks": ""
           }
          },
          "colorscale": {
           "diverging": [
            [
             0,
             "#8e0152"
            ],
            [
             0.1,
             "#c51b7d"
            ],
            [
             0.2,
             "#de77ae"
            ],
            [
             0.3,
             "#f1b6da"
            ],
            [
             0.4,
             "#fde0ef"
            ],
            [
             0.5,
             "#f7f7f7"
            ],
            [
             0.6,
             "#e6f5d0"
            ],
            [
             0.7,
             "#b8e186"
            ],
            [
             0.8,
             "#7fbc41"
            ],
            [
             0.9,
             "#4d9221"
            ],
            [
             1,
             "#276419"
            ]
           ],
           "sequential": [
            [
             0,
             "#0d0887"
            ],
            [
             0.1111111111111111,
             "#46039f"
            ],
            [
             0.2222222222222222,
             "#7201a8"
            ],
            [
             0.3333333333333333,
             "#9c179e"
            ],
            [
             0.4444444444444444,
             "#bd3786"
            ],
            [
             0.5555555555555556,
             "#d8576b"
            ],
            [
             0.6666666666666666,
             "#ed7953"
            ],
            [
             0.7777777777777778,
             "#fb9f3a"
            ],
            [
             0.8888888888888888,
             "#fdca26"
            ],
            [
             1,
             "#f0f921"
            ]
           ],
           "sequentialminus": [
            [
             0,
             "#0d0887"
            ],
            [
             0.1111111111111111,
             "#46039f"
            ],
            [
             0.2222222222222222,
             "#7201a8"
            ],
            [
             0.3333333333333333,
             "#9c179e"
            ],
            [
             0.4444444444444444,
             "#bd3786"
            ],
            [
             0.5555555555555556,
             "#d8576b"
            ],
            [
             0.6666666666666666,
             "#ed7953"
            ],
            [
             0.7777777777777778,
             "#fb9f3a"
            ],
            [
             0.8888888888888888,
             "#fdca26"
            ],
            [
             1,
             "#f0f921"
            ]
           ]
          },
          "colorway": [
           "#636efa",
           "#EF553B",
           "#00cc96",
           "#ab63fa",
           "#FFA15A",
           "#19d3f3",
           "#FF6692",
           "#B6E880",
           "#FF97FF",
           "#FECB52"
          ],
          "font": {
           "color": "#2a3f5f"
          },
          "geo": {
           "bgcolor": "white",
           "lakecolor": "white",
           "landcolor": "#E5ECF6",
           "showlakes": true,
           "showland": true,
           "subunitcolor": "white"
          },
          "hoverlabel": {
           "align": "left"
          },
          "hovermode": "closest",
          "mapbox": {
           "style": "light"
          },
          "paper_bgcolor": "white",
          "plot_bgcolor": "#E5ECF6",
          "polar": {
           "angularaxis": {
            "gridcolor": "white",
            "linecolor": "white",
            "ticks": ""
           },
           "bgcolor": "#E5ECF6",
           "radialaxis": {
            "gridcolor": "white",
            "linecolor": "white",
            "ticks": ""
           }
          },
          "scene": {
           "xaxis": {
            "backgroundcolor": "#E5ECF6",
            "gridcolor": "white",
            "gridwidth": 2,
            "linecolor": "white",
            "showbackground": true,
            "ticks": "",
            "zerolinecolor": "white"
           },
           "yaxis": {
            "backgroundcolor": "#E5ECF6",
            "gridcolor": "white",
            "gridwidth": 2,
            "linecolor": "white",
            "showbackground": true,
            "ticks": "",
            "zerolinecolor": "white"
           },
           "zaxis": {
            "backgroundcolor": "#E5ECF6",
            "gridcolor": "white",
            "gridwidth": 2,
            "linecolor": "white",
            "showbackground": true,
            "ticks": "",
            "zerolinecolor": "white"
           }
          },
          "shapedefaults": {
           "line": {
            "color": "#2a3f5f"
           }
          },
          "ternary": {
           "aaxis": {
            "gridcolor": "white",
            "linecolor": "white",
            "ticks": ""
           },
           "baxis": {
            "gridcolor": "white",
            "linecolor": "white",
            "ticks": ""
           },
           "bgcolor": "#E5ECF6",
           "caxis": {
            "gridcolor": "white",
            "linecolor": "white",
            "ticks": ""
           }
          },
          "title": {
           "x": 0.05
          },
          "xaxis": {
           "automargin": true,
           "gridcolor": "white",
           "linecolor": "white",
           "ticks": "",
           "title": {
            "standoff": 15
           },
           "zerolinecolor": "white",
           "zerolinewidth": 2
          },
          "yaxis": {
           "automargin": true,
           "gridcolor": "white",
           "linecolor": "white",
           "ticks": "",
           "title": {
            "standoff": 15
           },
           "zerolinecolor": "white",
           "zerolinewidth": 2
          }
         }
        },
        "xaxis": {
         "anchor": "y",
         "domain": [
          0,
          1
         ],
         "title": {
          "text": "restecg"
         }
        },
        "yaxis": {
         "anchor": "x",
         "domain": [
          0,
          1
         ],
         "title": {
          "text": "count"
         }
        }
       }
      }
     },
     "metadata": {},
     "output_type": "display_data"
    }
   ],
   "source": [
    "#dealing with restecg column\n",
    "print(df['restecg'].value_counts())\n",
    "\n",
    "#finding missing values\n",
    "print(df['restecg'].isnull().sum())\n",
    "\n",
    "#filling missing values\n",
    "df['restecg'].fillna(df['restecg'].mode()[0], inplace=True)\n",
    "\n",
    "#gender connection with restecg\n",
    "fig = px.histogram(data_frame=df, x='restecg', color='sex')\n",
    "fig.show()"
   ]
  },
  {
   "cell_type": "markdown",
   "metadata": {},
   "source": [
    "Males show a higher count of ST-T abnormalities, normal, and lv hypertrophy compared to females."
   ]
  },
  {
   "cell_type": "markdown",
   "metadata": {},
   "source": [
    "This stacked bar chart illustrates the distribution of different resting ECG results (`restecg`) in the dataset, categorized by gender:\n",
    "\n",
    "- **0 (Normal ECG)**: Majority of individuals fall under this category, with a greater proportion of males (`1`) than females (`0`).\n",
    "- **1 (ST-T Abnormality)**: Fewer individuals have ST-T abnormalities, but it is observed in both genders.\n",
    "- **2 (Left Ventricular Hypertrophy - LVH)**: Similar to ST-T abnormalities, LVH is present in a smaller proportion of individuals, again with males (`1`) forming the larger group.\n",
    "\n",
    "### Analysis:\n",
    "- The **normal ECG** category is the most prevalent in both genders.\n",
    "- Males (`1`) tend to have a higher proportion of normal and abnormal ECG results compared to females.\n",
    "- **Abnormal ECG patterns (ST-T abnormalities & LVH)** are less frequent but present across both genders."
   ]
  },
  {
   "cell_type": "markdown",
   "metadata": {},
   "source": [
    "## Dealing with thalch(maximum heart rate achieved) column"
   ]
  },
  {
   "cell_type": "code",
   "execution_count": 279,
   "metadata": {},
   "outputs": [
    {
     "name": "stdout",
     "output_type": "stream",
     "text": [
      "count    864.000000\n",
      "mean     137.525463\n",
      "std       25.934480\n",
      "min       60.000000\n",
      "25%      120.000000\n",
      "50%      140.000000\n",
      "75%      157.000000\n",
      "max      202.000000\n",
      "Name: thalch, dtype: float64\n",
      "55\n"
     ]
    },
    {
     "name": "stderr",
     "output_type": "stream",
     "text": [
      "C:\\Users\\hp\\AppData\\Local\\Temp\\ipykernel_6340\\1601119614.py:6: FutureWarning:\n",
      "\n",
      "A value is trying to be set on a copy of a DataFrame or Series through chained assignment using an inplace method.\n",
      "The behavior will change in pandas 3.0. This inplace method will never work because the intermediate object on which we are setting values always behaves as a copy.\n",
      "\n",
      "For example, when doing 'df[col].method(value, inplace=True)', try using 'df.method({col: value}, inplace=True)' or df[col] = df[col].method(value) instead, to perform the operation inplace on the original object.\n",
      "\n",
      "\n",
      "\n"
     ]
    },
    {
     "data": {
      "text/plain": [
       "Text(0.5, 1.0, 'Distribution of Maximum Heart Rate (thalch)')"
      ]
     },
     "execution_count": 279,
     "metadata": {},
     "output_type": "execute_result"
    },
    {
     "data": {
      "image/png": "[encoded data removed]",
      "text/plain": [
       "<Figure size 1200x500 with 1 Axes>"
      ]
     },
     "metadata": {},
     "output_type": "display_data"
    }
   ],
   "source": [
    "print(df['thalch'].describe())\n",
    "\n",
    "print(df['thalch'].isnull().sum())  # Count missing values\n",
    "\n",
    "#filling missing values\n",
    "df['thalch'].fillna(df['thalch'].median(), inplace= True)\n",
    "\n",
    "\n",
    "plt.figure(figsize=(12, 5))\n",
    "plt.subplot(1, 2, 1)\n",
    "sns.histplot(df['thalch'], bins=30, kde=True, color='blue')\n",
    "plt.title(\"Distribution of Maximum Heart Rate (thalch)\")\n"
   ]
  },
  {
   "cell_type": "markdown",
   "metadata": {},
   "source": [
    "The histogram and KDE plot above represent the distribution of **Maximum Heart Rate Achieved (thalch)** in the dataset. \n",
    "\n",
    "#### Key Observations:\n",
    "- The distribution appears **approximately normal**, with most values concentrated between **100 and 170 bpm**.\n",
    "- There is a **peak around 140 bpm**, indicating that a large number of individuals have a maximum heart rate in this range. \n"
   ]
  },
  {
   "cell_type": "code",
   "execution_count": 280,
   "metadata": {},
   "outputs": [
    {
     "name": "stderr",
     "output_type": "stream",
     "text": [
      "C:\\Users\\hp\\AppData\\Local\\Temp\\ipykernel_6340\\2701304522.py:2: FutureWarning:\n",
      "\n",
      "\n",
      "\n",
      "Passing `palette` without assigning `hue` is deprecated and will be removed in v0.14.0. Assign the `x` variable to `hue` and set `legend=False` for the same effect.\n",
      "\n",
      "\n"
     ]
    },
    {
     "data": {
      "image/png": "[encoded data removed]",
      "text/plain": [
       "<Figure size 1000x600 with 1 Axes>"
      ]
     },
     "metadata": {},
     "output_type": "display_data"
    }
   ],
   "source": [
    "plt.figure(figsize=(10, 6))\n",
    "sns.boxplot(x='sex', y='thalch', data=df, palette='coolwarm')\n",
    "plt.xlabel('Sex')\n",
    "plt.ylabel('Maximum Heart Rate Achieved (thalch)')\n",
    "plt.title('Comparison of Maximum Heart Rate (thalch) by Gender')\n",
    "\n",
    "plt.show()\n"
   ]
  },
  {
   "cell_type": "markdown",
   "metadata": {},
   "source": [
    "- This box plot compares the distribution of **thalch (Maximum Heart Rate Achieved)** between **males (1) and females (0)**.\n",
    "- The **median** heart rate is slightly higher in **females** compared to males.\n",
    "- The **interquartile range (IQR)**, which represents the middle 50% of data points, is **narrower for males**, indicating less variation in heart rate.\n",
    "- **Females tend to have a slightly higher maximum heart rate**, but their data distribution shows more spread.\n",
    "- Overall, while there are differences in the spread and median values, the maximum heart rates achieved by both genders follow a similar distribution."
   ]
  },
  {
   "cell_type": "markdown",
   "metadata": {},
   "source": [
    "## Dealing with exang (exang is the exercise induced angina which is recorded as 1 if there is pain and 0 if there is no pain) column"
   ]
  },
  {
   "cell_type": "markdown",
   "metadata": {},
   "source": [
    "\n",
    "Clinical Interpretation:\n",
    "Exang represents whether a patient experiences exercise-induced angina (chest pain).\n",
    "\n",
    "Positive (exang = 1): Indicates chest pain during exercise, often a sign of coronary artery disease.\n",
    "\n",
    "Negative (exang = 0): No chest pain with exercise, typically suggesting better heart health."
   ]
  },
  {
   "cell_type": "code",
   "execution_count": 281,
   "metadata": {},
   "outputs": [
    {
     "name": "stdout",
     "output_type": "stream",
     "text": [
      "exang\n",
      "False    527\n",
      "True     337\n",
      "Name: count, dtype: int64\n",
      "55\n"
     ]
    },
    {
     "name": "stderr",
     "output_type": "stream",
     "text": [
      "C:\\Users\\hp\\AppData\\Local\\Temp\\ipykernel_6340\\3878202584.py:11: FutureWarning:\n",
      "\n",
      "A value is trying to be set on a copy of a DataFrame or Series through chained assignment using an inplace method.\n",
      "The behavior will change in pandas 3.0. This inplace method will never work because the intermediate object on which we are setting values always behaves as a copy.\n",
      "\n",
      "For example, when doing 'df[col].method(value, inplace=True)', try using 'df.method({col: value}, inplace=True)' or df[col] = df[col].method(value) instead, to perform the operation inplace on the original object.\n",
      "\n",
      "\n",
      "\n",
      "C:\\Users\\hp\\AppData\\Local\\Temp\\ipykernel_6340\\3878202584.py:11: FutureWarning:\n",
      "\n",
      "Downcasting object dtype arrays on .fillna, .ffill, .bfill is deprecated and will change in a future version. Call result.infer_objects(copy=False) instead. To opt-in to the future behavior, set `pd.set_option('future.no_silent_downcasting', True)`\n",
      "\n"
     ]
    },
    {
     "data": {
      "image/png": "[encoded data removed]",
      "text/plain": [
       "<Figure size 640x480 with 1 Axes>"
      ]
     },
     "metadata": {},
     "output_type": "display_data"
    }
   ],
   "source": [
    "#deal with exang column\n",
    "print(df['exang'].value_counts())  # Count for values\n",
    "\n",
    "df['exang'].dtypes\n",
    "\n",
    "# Counting missing values\n",
    "print(df['exang'].isnull().sum())  \n",
    "\n",
    "\n",
    "#filling missing values\n",
    "df['exang'].fillna(df['exang'].mode()[0], inplace= True)\n",
    "\n",
    "sns.countplot(x=df['exang'])\n",
    "plt.title('Distribution of Exercise-Induced Angina (exang)')\n",
    "plt.xlabel('Exercise-Induced Angina')\n",
    "plt.ylabel('Count')\n",
    "plt.show()\n"
   ]
  },
  {
   "cell_type": "code",
   "execution_count": 282,
   "metadata": {},
   "outputs": [
    {
     "data": {
      "image/png": "[encoded data removed]",
      "text/plain": [
       "<Figure size 700x500 with 1 Axes>"
      ]
     },
     "metadata": {},
     "output_type": "display_data"
    }
   ],
   "source": [
    "plt.figure(figsize=(7,5))\n",
    "sns.countplot(x='exang', hue='sex', data=df, palette='coolwarm')\n",
    "\n",
    "plt.title('Comparison of Exercise-Induced Angina (exang) by Gender')\n",
    "plt.xlabel('Exercise-Induced Angina (0 = No, 1 = Yes)')\n",
    "plt.ylabel('Count')\n",
    "plt.legend(title='Sex', labels=['Female ', 'Male '])\n",
    "\n",
    "plt.show()"
   ]
  },
  {
   "cell_type": "markdown",
   "metadata": {},
   "source": [
    "The countplot visualizes the distribution of **Exercise-Induced Angina (`exang`)** across **Gender (`sex`)**.\n",
    "\n",
    "  - The majority of individuals **do not experience angina during exercise** (`exang=0`).\n",
    "  - More **males** (`sex=1`) experience **exercise-induced angina** (`exang=1`) compared to females (`sex=0`).\n",
    "  - Among those **who do not experience angina (`exang=0`)**, both males and females are present, but males still appear more frequently.\n"
   ]
  },
  {
   "cell_type": "markdown",
   "metadata": {},
   "source": [
    "## dealing with oldpeak(ST depression induced by exercise relative to rest)  column"
   ]
  },
  {
   "cell_type": "code",
   "execution_count": 283,
   "metadata": {},
   "outputs": [
    {
     "name": "stdout",
     "output_type": "stream",
     "text": [
      "count    857.000000\n",
      "mean       0.878063\n",
      "std        1.091657\n",
      "min       -2.600000\n",
      "25%        0.000000\n",
      "50%        0.500000\n",
      "75%        1.500000\n",
      "max        6.200000\n",
      "Name: oldpeak, dtype: float64\n",
      "857\n",
      "mising values: 62\n"
     ]
    },
    {
     "name": "stderr",
     "output_type": "stream",
     "text": [
      "C:\\Users\\hp\\AppData\\Local\\Temp\\ipykernel_6340\\351269041.py:11: FutureWarning:\n",
      "\n",
      "A value is trying to be set on a copy of a DataFrame or Series through chained assignment using an inplace method.\n",
      "The behavior will change in pandas 3.0. This inplace method will never work because the intermediate object on which we are setting values always behaves as a copy.\n",
      "\n",
      "For example, when doing 'df[col].method(value, inplace=True)', try using 'df.method({col: value}, inplace=True)' or df[col] = df[col].method(value) instead, to perform the operation inplace on the original object.\n",
      "\n",
      "\n",
      "\n"
     ]
    },
    {
     "data": {
      "image/png": "[encoded data removed]",
      "text/plain": [
       "<Figure size 600x400 with 1 Axes>"
      ]
     },
     "metadata": {},
     "output_type": "display_data"
    }
   ],
   "source": [
    "#dealing with oldpeak column\n",
    "print(df['oldpeak'].describe())\n",
    "\n",
    "print(df['oldpeak'].value_counts().sum())\n",
    "\n",
    "#counting missing values\n",
    "print(\"mising values:\", df['oldpeak'].isnull().sum())\n",
    "\n",
    "\n",
    "#filling the missing values\n",
    "df['oldpeak'].fillna(df['oldpeak'].median(), inplace= True)\n",
    "\n",
    "plt.figure(figsize=(6, 4))\n",
    "sns.histplot(df['oldpeak'], bins=30, kde=True)\n",
    "plt.title(\"Distribution of Oldpeak\")\n",
    "plt.xlabel(\"Oldpeak\")\n",
    "plt.ylabel(\"Count\")\n",
    "plt.show()\n",
    "\n"
   ]
  },
  {
   "cell_type": "markdown",
   "metadata": {},
   "source": [
    "Most values are clustered around 0. This suggests that many patients have no ST depression."
   ]
  },
  {
   "cell_type": "markdown",
   "metadata": {},
   "source": [
    "## Dealing with slope column"
   ]
  },
  {
   "cell_type": "markdown",
   "metadata": {},
   "source": [
    "(Upsloping) → Considered normal\n",
    "\n",
    "(Flat) → Possibly indicating heart disease\n",
    "\n",
    "(Downsloping) → Strongly associated with heart disease"
   ]
  },
  {
   "cell_type": "code",
   "execution_count": 284,
   "metadata": {},
   "outputs": [
    {
     "name": "stdout",
     "output_type": "stream",
     "text": [
      "slope\n",
      "flat           344\n",
      "upsloping      203\n",
      "downsloping     63\n",
      "Name: count, dtype: int64\n",
      "Missing values: 309\n",
      "Data type: object\n"
     ]
    },
    {
     "name": "stderr",
     "output_type": "stream",
     "text": [
      "C:\\Users\\hp\\AppData\\Local\\Temp\\ipykernel_6340\\1274427082.py:9: FutureWarning:\n",
      "\n",
      "A value is trying to be set on a copy of a DataFrame or Series through chained assignment using an inplace method.\n",
      "The behavior will change in pandas 3.0. This inplace method will never work because the intermediate object on which we are setting values always behaves as a copy.\n",
      "\n",
      "For example, when doing 'df[col].method(value, inplace=True)', try using 'df.method({col: value}, inplace=True)' or df[col] = df[col].method(value) instead, to perform the operation inplace on the original object.\n",
      "\n",
      "\n",
      "\n",
      "C:\\Users\\hp\\AppData\\Local\\Temp\\ipykernel_6340\\1274427082.py:12: FutureWarning:\n",
      "\n",
      "\n",
      "\n",
      "Passing `palette` without assigning `hue` is deprecated and will be removed in v0.14.0. Assign the `x` variable to `hue` and set `legend=False` for the same effect.\n",
      "\n",
      "\n"
     ]
    },
    {
     "data": {
      "image/png": "[encoded data removed]",
      "text/plain": [
       "<Figure size 640x480 with 1 Axes>"
      ]
     },
     "metadata": {},
     "output_type": "display_data"
    }
   ],
   "source": [
    "#dealing with slope column\n",
    "print(df['slope'].value_counts())\n",
    "\n",
    "print(\"Missing values:\", df['slope'].isnull().sum())\n",
    "print(\"Data type:\", df['slope'].dtype)\n",
    "\n",
    "\n",
    "#filling missing values\n",
    "df['slope'].fillna(df['slope'].mode()[0], inplace= True)\n",
    "\n",
    "\n",
    "sns.countplot(data=df, x='slope', palette='pastel')\n",
    "plt.title(\"Distribution of Slope Values\")\n",
    "plt.xlabel(\"Slope Type\")\n",
    "plt.ylabel(\"Count\")\n",
    "plt.show()\n"
   ]
  },
  {
   "cell_type": "markdown",
   "metadata": {},
   "source": [
    "This bar chart visualizes the distribution of **slope types of the peak exercise ST segment**, categorized as:\n",
    "- **Downsloping**: Indicative of possible ischemia.\n",
    "- **Flat**: Could suggest an abnormal response to exercise.\n",
    "- **Upsloping**: Generally considered a normal response.\n",
    "\n",
    "#### Key Observations:\n",
    "- The majority of individuals have a \"flat\" slope type.\n",
    "  - This suggests a high prevalence of **abnormal ST segment responses** in the dataset.\n",
    "  \n",
    "- The \"upsloping\" category is the second most common.\n",
    "  - This is typically considered a healthier sign.\n",
    "  \n",
    "- \"Downsloping\" is the least common but is concerning as it is associated with ischemia and a higher risk of heart disease.\n",
    "  - This group should be closely monitored for potential cardiac issues.\n"
   ]
  },
  {
   "cell_type": "code",
   "execution_count": 285,
   "metadata": {},
   "outputs": [
    {
     "data": {
      "image/png": "[encoded data removed]",
      "text/plain": [
       "<Figure size 640x480 with 1 Axes>"
      ]
     },
     "metadata": {},
     "output_type": "display_data"
    }
   ],
   "source": [
    "sns.countplot(data=df, x='slope', hue='sex', palette='coolwarm')\n",
    "plt.title(\"Slope vs Sex\")\n",
    "plt.xlabel(\"Slope Type\")\n",
    "plt.ylabel(\"Count\")\n",
    "plt.legend(title=\"Sex\", labels=[\"Female\", \"Male\"])\n",
    "plt.show()\n"
   ]
  },
  {
   "cell_type": "markdown",
   "metadata": {},
   "source": [
    "This bar chart presents the distribution of **slope types of the peak exercise ST segment** across **males and females**.\n",
    "\n",
    "#### Key Observations:\n",
    "- Males dominate all categories, especially in the \"flat\" slope type. \n",
    "  - This suggests that a **higher number of males exhibit abnormal ST segment responses** during peak exercise.\n",
    "  \n",
    "- Females have fewer cases overall but show a relatively higher proportion in the \"flat\" and \"upsloping\" categories. \n",
    "  - A **\"flat\" slope is often linked to heart disease**, meaning that females with this condition may be at risk.\n",
    "  - **\"Upsloping\" is generally considered a normal response**, indicating better heart health outcomes.\n",
    "\n",
    "- \"Downsloping\" is the least common for both sexes but is slightly more frequent in males. \n",
    "  - This is significant because **downsloping ST segments are associated with ischemia**.\n",
    "\n",
    "#### Interpretation:\n",
    "- The **high prevalence of \"flat\" slopes among males** could indicate a greater likelihood of heart disease risk in men compared to women in this dataset.\n",
    "- **Females with \"flat\" slopes should still be monitored closely**, as this could signal potential cardiovascular issues.\n"
   ]
  },
  {
   "cell_type": "markdown",
   "metadata": {},
   "source": [
    "## Dealing with the ca (number of major vessels) Column"
   ]
  },
  {
   "cell_type": "markdown",
   "metadata": {},
   "source": [
    "0 = No major vessels blocked.\n",
    "\n",
    "1 = One vessel with significant narrowing.\n",
    "\n",
    "2 = Two vessels affected.\n",
    "\n",
    "3  = Severe multi-vessel disease."
   ]
  },
  {
   "cell_type": "code",
   "execution_count": 286,
   "metadata": {},
   "outputs": [
    {
     "name": "stdout",
     "output_type": "stream",
     "text": [
      "ca\n",
      "0.0    181\n",
      "1.0     67\n",
      "2.0     41\n",
      "3.0     20\n",
      "Name: count, dtype: int64\n",
      "Missing values: 610\n"
     ]
    },
    {
     "name": "stderr",
     "output_type": "stream",
     "text": [
      "C:\\Users\\hp\\AppData\\Local\\Temp\\ipykernel_6340\\1905848789.py:11: FutureWarning:\n",
      "\n",
      "A value is trying to be set on a copy of a DataFrame or Series through chained assignment using an inplace method.\n",
      "The behavior will change in pandas 3.0. This inplace method will never work because the intermediate object on which we are setting values always behaves as a copy.\n",
      "\n",
      "For example, when doing 'df[col].method(value, inplace=True)', try using 'df.method({col: value}, inplace=True)' or df[col] = df[col].method(value) instead, to perform the operation inplace on the original object.\n",
      "\n",
      "\n",
      "\n",
      "C:\\Users\\hp\\AppData\\Local\\Temp\\ipykernel_6340\\1905848789.py:13: FutureWarning:\n",
      "\n",
      "\n",
      "\n",
      "Passing `palette` without assigning `hue` is deprecated and will be removed in v0.14.0. Assign the `x` variable to `hue` and set `legend=False` for the same effect.\n",
      "\n",
      "\n"
     ]
    },
    {
     "data": {
      "image/png": "[encoded data removed]",
      "text/plain": [
       "<Figure size 640x480 with 1 Axes>"
      ]
     },
     "metadata": {},
     "output_type": "display_data"
    }
   ],
   "source": [
    "#dealing with ca (number of major vessels (0-3) colored by fluoroscopy) column\n",
    "print(df['ca'].value_counts())\n",
    "\n",
    "#counting missing values\n",
    "print(\"Missing values:\", df['ca'].isnull().sum())\n",
    "\n",
    "\n",
    "\n",
    "\n",
    "#filling missing values\n",
    "df['ca'].fillna(df['ca'].mode()[0], inplace= True)\n",
    "\n",
    "sns.countplot(data=df, x='ca', palette='coolwarm')\n",
    "plt.title(\"Distribution of Major Vessels (ca)\")\n",
    "plt.xlabel(\"Number of Major Vessels\")\n",
    "plt.ylabel(\"Count\")\n",
    "plt.show()\n"
   ]
  },
  {
   "cell_type": "markdown",
   "metadata": {},
   "source": [
    "This bar chart visualizes the distribution of the **number of major vessels (ca) colored by fluoroscopy** in the dataset.\n",
    "\n",
    "#### Key Observations:\n",
    "- A large majority of cases (~800) have 0 major vessels with fluoroscopy data. \n",
    "  - This suggests that **most individuals in the dataset do not have detectable major vessel narrowing**.\n",
    "  \n",
    "- The number of cases decreases significantly as the number of affected vessels increases. \n",
    "  - Very few individuals have **1, 2, or 3 major vessels affected**.\n",
    "  \n",
    "- **Few cases with 3 affected vessels** may indicate that severe coronary artery disease (CAD) is less frequent in this dataset.\n"
   ]
  },
  {
   "cell_type": "code",
   "execution_count": 287,
   "metadata": {},
   "outputs": [
    {
     "data": {
      "image/png": "[encoded data removed]",
      "text/plain": [
       "<Figure size 700x500 with 1 Axes>"
      ]
     },
     "metadata": {},
     "output_type": "display_data"
    }
   ],
   "source": [
    "plt.figure(figsize=(7,5))\n",
    "sns.countplot(data=df, x='ca', hue='sex', palette=['lightblue', 'salmon'])\n",
    "plt.xlabel(\"Number of Major Vessels (ca)\")\n",
    "plt.ylabel(\"Count\")\n",
    "plt.title(\"Comparison of Major Vessels (ca) by Sex\")\n",
    "plt.legend(title=\"Sex\")\n",
    "\n",
    "plt.show()\n"
   ]
  },
  {
   "cell_type": "markdown",
   "metadata": {},
   "source": [
    "## Dealing with thal column"
   ]
  },
  {
   "cell_type": "markdown",
   "metadata": {},
   "source": [
    "The thal column represents thallium stress test results, which assess blood flow to the heart under stress. It is a categorical feature with three standard levels:\n",
    "\n",
    "normal → Healthy blood flow.\n",
    "\n",
    "fixed defect → Permanent damage (scarred heart tissue).\n",
    "\n",
    "reversible defect → Temporary blockage (e.g., ischemia).\n",
    "\n",
    "\n",
    "Clinical Importance:\n",
    "\n",
    "reversible defect → Highest heart disease risk.\n",
    "\n",
    "fixed defect → Moderate risk (stable damage).\n",
    "\n",
    "normal → Low risk."
   ]
  },
  {
   "cell_type": "code",
   "execution_count": 288,
   "metadata": {},
   "outputs": [
    {
     "name": "stdout",
     "output_type": "stream",
     "text": [
      "thal\n",
      "normal               196\n",
      "reversable defect    192\n",
      "fixed defect          46\n",
      "Name: count, dtype: int64\n",
      "Missing values: 485\n"
     ]
    },
    {
     "name": "stderr",
     "output_type": "stream",
     "text": [
      "C:\\Users\\hp\\AppData\\Local\\Temp\\ipykernel_6340\\1383691847.py:7: FutureWarning:\n",
      "\n",
      "A value is trying to be set on a copy of a DataFrame or Series through chained assignment using an inplace method.\n",
      "The behavior will change in pandas 3.0. This inplace method will never work because the intermediate object on which we are setting values always behaves as a copy.\n",
      "\n",
      "For example, when doing 'df[col].method(value, inplace=True)', try using 'df.method({col: value}, inplace=True)' or df[col] = df[col].method(value) instead, to perform the operation inplace on the original object.\n",
      "\n",
      "\n",
      "\n"
     ]
    },
    {
     "data": {
      "image/png": "[encoded data removed]",
      "text/plain": [
       "<Figure size 640x480 with 1 Axes>"
      ]
     },
     "metadata": {},
     "output_type": "display_data"
    }
   ],
   "source": [
    "#dealing with thal column\n",
    "print(df['thal'].value_counts())\n",
    "\n",
    "print(\"Missing values:\", df['thal'].isnull().sum())\n",
    "\n",
    "#filling missing values\n",
    "df['thal'].fillna(df['thal'].mode()[0],inplace= True)\n",
    "\n",
    "sns.countplot(x='thal', data=df)\n",
    "plt.title('Distribution of Thallium Test Results')\n",
    "plt.show()\n"
   ]
  },
  {
   "cell_type": "markdown",
   "metadata": {},
   "source": [
    "This bar chart displays the distribution of **Thallium Stress Test (`thal`)** results among patients.\n",
    "\n",
    "#### Key Observations:\n",
    "- The majority of patients have a \"normal\" Thallium test result.\n",
    "  - This category has the highest count, indicating that most patients do not show abnormalities in their test results.\n",
    "\n",
    "- \"Reversible defect\" is the second most common category.\n",
    "  - This suggests that a significant number of patients exhibit **temporary** blood flow issues, which could indicate coronary artery disease.\n",
    "\n",
    "- \"Fixed defect\" is the least common result. \n",
    "  - This means that a smaller proportion of patients show **permanent** damage to heart tissue, which may indicate past heart attacks or long-term ischemia.\n"
   ]
  },
  {
   "cell_type": "code",
   "execution_count": 289,
   "metadata": {},
   "outputs": [
    {
     "data": {
      "image/png": "[encoded data removed]",
      "text/plain": [
       "<Figure size 800x600 with 1 Axes>"
      ]
     },
     "metadata": {},
     "output_type": "display_data"
    }
   ],
   "source": [
    "plt.figure(figsize=(8, 6))\n",
    "sns.countplot(x='thal', hue='sex', data=df)\n",
    "plt.title('Distribution of Thallium Present by Gender')\n",
    "plt.show()\n"
   ]
  },
  {
   "cell_type": "markdown",
   "metadata": {},
   "source": [
    "This bar chart visualizes the distribution of **Thallium Stress Test (`thal`)** results, categorized by **sex**.\n",
    "\n",
    "#### Key Observations:\n",
    "- Most individuals have a \"normal\" Thallium test result.  \n",
    "  - The number of males (`sex = 1`) with normal results is significantly higher than females (`sex = 0`).\n",
    "  \n",
    "- \"Reversible defect\" is more common in males than females. \n",
    "  - This suggests that more males exhibit **temporary blood flow issues**, which can indicate ischemic heart disease.\n",
    "  \n",
    "- \"Fixed defect\" is the least common across both sexes. \n",
    "  - A small percentage of both males and females show permanent damage to the heart tissue."
   ]
  },
  {
   "cell_type": "markdown",
   "metadata": {},
   "source": [
    "## Dealing with num Column"
   ]
  },
  {
   "cell_type": "code",
   "execution_count": 290,
   "metadata": {},
   "outputs": [
    {
     "data": {
      "text/plain": [
       "array([0, 2, 1, 3, 4], dtype=int64)"
      ]
     },
     "execution_count": 290,
     "metadata": {},
     "output_type": "execute_result"
    }
   ],
   "source": [
    "#Dealing with num column\n",
    "df['num'].unique()\n"
   ]
  },
  {
   "cell_type": "markdown",
   "metadata": {},
   "source": [
    "this column is used to predict the heart disease. The unique values in this column are: [0, 1, 2, 3, 4], which states that there are 5 types of heart diseases.\n",
    "\n",
    "0 = no heart disease\n",
    "\n",
    "1 = mild heart disease\n",
    "\n",
    "2 = moderate heart disease\n",
    "\n",
    "3 = severe heart disease\n",
    "\n",
    "4 = critical heart disease"
   ]
  },
  {
   "cell_type": "code",
   "execution_count": 291,
   "metadata": {},
   "outputs": [
    {
     "name": "stdout",
     "output_type": "stream",
     "text": [
      "num\n",
      "0    411\n",
      "1    265\n",
      "2    109\n",
      "3    106\n",
      "4     28\n",
      "Name: count, dtype: int64\n"
     ]
    },
    {
     "name": "stderr",
     "output_type": "stream",
     "text": [
      "C:\\Users\\hp\\AppData\\Local\\Temp\\ipykernel_6340\\4284189793.py:5: FutureWarning:\n",
      "\n",
      "\n",
      "\n",
      "Passing `palette` without assigning `hue` is deprecated and will be removed in v0.14.0. Assign the `x` variable to `hue` and set `legend=False` for the same effect.\n",
      "\n",
      "\n"
     ]
    },
    {
     "data": {
      "image/png": "[encoded data removed]",
      "text/plain": [
       "<Figure size 800x500 with 1 Axes>"
      ]
     },
     "metadata": {},
     "output_type": "display_data"
    }
   ],
   "source": [
    "print(df['num'].value_counts())\n",
    "\n",
    "# Age vs. num\n",
    "plt.figure(figsize=(8, 5))\n",
    "sns.boxplot(x='num', y='age', data=df, palette='Set2')\n",
    "plt.title(\"Age Distribution by Heart Disease\")\n",
    "plt.xlabel(\"Heart Disease \")\n",
    "plt.ylabel(\"Age\")\n",
    "plt.show()"
   ]
  },
  {
   "cell_type": "markdown",
   "metadata": {},
   "source": [
    "The graph demonstrates that:\n",
    "\n",
    "- Heart disease severity strongly correlates with advancing age.\n",
    "\n",
    "- The most severe cases predominantly occur in patients over 65."
   ]
  },
  {
   "cell_type": "code",
   "execution_count": 292,
   "metadata": {},
   "outputs": [
    {
     "data": {
      "image/png": "[encoded data removed]",
      "text/plain": [
       "<Figure size 800x500 with 1 Axes>"
      ]
     },
     "metadata": {},
     "output_type": "display_data"
    }
   ],
   "source": [
    "# Sex vs num \n",
    "plt.figure(figsize=(8, 5))\n",
    "sns.countplot(x='sex', hue='num', data=df, palette='Set3')\n",
    "plt.title(\"Heart Disease by Gender\")\n",
    "plt.xlabel(\"Sex\")\n",
    "plt.ylabel(\"Count\")\n",
    "plt.legend(title=\"Heart Disease\", labels=[\"No heart disease\", \"Mild\", \"Moderate\", \"Severe\", \"Critical\"])\n",
    "plt.show()"
   ]
  },
  {
   "cell_type": "markdown",
   "metadata": {},
   "source": [
    "This grapgh visualizes the distribution of heart disease severity across genders.\n",
    "\n",
    "The key observations from the graph are:\n",
    "\n",
    "- Males have a higher prevalence of heart disease compared to females .  \n",
    "\n",
    "- The majority of individuals in both genders have no heart disease, but the proportion of males affected by heart disease is significantly higher. \n",
    "\n",
    "- Mild and moderate heart disease cases are more frequent in males than in females.  \n",
    "\n",
    "- Severe and critical heart disease cases are present in males, while females have very few or no cases in these categories.  \n",
    "\n",
    "This suggests that males in the dataset are at a higher risk of heart diseasen compared to females."
   ]
  },
  {
   "cell_type": "code",
   "execution_count": 293,
   "metadata": {},
   "outputs": [
    {
     "data": {
      "image/png": "[encoded data removed]",
      "text/plain": [
       "<Figure size 640x480 with 1 Axes>"
      ]
     },
     "metadata": {},
     "output_type": "display_data"
    }
   ],
   "source": [
    "#Cholesterol vs. heart disease\n",
    "sns.boxplot(x='num', y='chol', data=df)\n",
    "plt.title('Cholesterol Levels by Heart Disease Status')\n",
    "plt.show()"
   ]
  },
  {
   "cell_type": "markdown",
   "metadata": {},
   "source": [
    "This box plot visualizes the distribution of cholesterol levels (`chol`) across different heart disease severity levels (`num`).\n",
    "\n",
    "- The median cholesterol level remains relatively consistent across all heart disease categories.  \n",
    "- There is a wide spread of cholesterol values, with some individuals having very high cholesterol levels (> 400), particularly in categories `0` (no heart disease) and `1` (mild heart disease).  \n",
    "- Outliers are present in all categories, indicating that some individuals have unusually high cholesterol levels.  \n",
    "\n",
    "This analysis implies that cholesterol levels vary significantly among individuals."
   ]
  },
  {
   "cell_type": "code",
   "execution_count": 294,
   "metadata": {},
   "outputs": [
    {
     "data": {
      "image/png": "[encoded data removed]",
      "text/plain": [
       "<Figure size 640x480 with 1 Axes>"
      ]
     },
     "metadata": {},
     "output_type": "display_data"
    }
   ],
   "source": [
    "#'num' vs 'thal'\n",
    "sns.countplot(x='thal', hue='num', data=df)\n",
    "plt.title('Heart Disease by Thallium Stress Test Result')\n",
    "plt.show()\n"
   ]
  },
  {
   "cell_type": "markdown",
   "metadata": {},
   "source": [
    "This graph represents the distribution of heart disease severity (`num`) based on the Thallium Stress Test result (`thal`), categorized as fixed defect, normal, and reversible defect:\n",
    "\n",
    "- Most individuals with no heart disease (num = 0) have a normal Thallium test result, with a significantly higher count compared to other groups.\n",
    "- Patients with mild and moderate heart disease (num = 1, 2) are also predominantly in the normal category, but their distribution extends to the reversible defect category.\n",
    "- Severe and critical heart disease cases (num = 3, 4) are more likely to have reversible defects, suggesting that such defects may indicate more serious heart conditions.\n",
    "- Fixed defects appear in all groups but with a lower count, indicating they are less common compared to normal or reversible defects.\n",
    "\n",
    "This analysis suggests that while a normal Thallium stress test result is common across all categories, reversible defects are more associated with higher heart disease severity.\n"
   ]
  },
  {
   "cell_type": "code",
   "execution_count": 295,
   "metadata": {},
   "outputs": [
    {
     "name": "stderr",
     "output_type": "stream",
     "text": [
      "C:\\Users\\hp\\AppData\\Local\\Temp\\ipykernel_6340\\1435151584.py:3: FutureWarning:\n",
      "\n",
      "\n",
      "\n",
      "Passing `palette` without assigning `hue` is deprecated and will be removed in v0.14.0. Assign the `x` variable to `hue` and set `legend=False` for the same effect.\n",
      "\n",
      "\n"
     ]
    },
    {
     "data": {
      "image/png": "[encoded data removed]",
      "text/plain": [
       "<Figure size 800x500 with 1 Axes>"
      ]
     },
     "metadata": {},
     "output_type": "display_data"
    }
   ],
   "source": [
    "#ST Depression (oldpeak) vs. num (Boxplot)\n",
    "plt.figure(figsize=(8, 5))\n",
    "sns.boxplot(x='num', y='oldpeak', data=df, palette='Oranges')\n",
    "plt.title(\"ST Depression by Heart Disease\")\n",
    "plt.xlabel(\"Heart Disease\" )\n",
    "plt.ylabel(\"ST Depression (oldpeak)\")\n",
    "plt.show()"
   ]
  },
  {
   "cell_type": "markdown",
   "metadata": {},
   "source": [
    "This box plot illustrates the distribution of ST Depression (`oldpeak`) values across different levels of heart disease severity (`num`):\n",
    "\n",
    "- Patients without heart disease (num = 0) have the lowest median `oldpeak` values, with a relatively small interquartile range (IQR).\n",
    "- As heart disease severity increases (num = 1 to 4), the median and spread of `oldpeak` values also increase, indicating a positive correlation between ST depression and heart disease severity.\n",
    "- Patients with critical heart disease (num = 4) exhibit the highest median `oldpeak` values and a wider spread, suggesting that severe cases tend to have greater ST depression.\n",
    "\n",
    "\n",
    "## Interpretation:\n",
    "- ST Depression (`oldpeak`) is a crucial marker in ECG readings, reflecting heart stress and ischemia.\n",
    "- Higher `oldpeak` values are strongly associated with more severe heart disease, reinforcing its diagnostic importance.\n",
    "- This trend suggests that patients with elevated ST depression levels are more likely to have advanced heart disease, making `oldpeak` a valuable predictor in heart disease assessment.\n"
   ]
  },
  {
   "cell_type": "code",
   "execution_count": 296,
   "metadata": {},
   "outputs": [
    {
     "name": "stderr",
     "output_type": "stream",
     "text": [
      "C:\\Users\\hp\\AppData\\Local\\Temp\\ipykernel_6340\\3407205009.py:3: FutureWarning:\n",
      "\n",
      "\n",
      "\n",
      "Passing `palette` without assigning `hue` is deprecated and will be removed in v0.14.0. Assign the `x` variable to `hue` and set `legend=False` for the same effect.\n",
      "\n",
      "\n"
     ]
    },
    {
     "data": {
      "image/png": "[encoded data removed]",
      "text/plain": [
       "<Figure size 800x500 with 1 Axes>"
      ]
     },
     "metadata": {},
     "output_type": "display_data"
    }
   ],
   "source": [
    "#Resting Blood Pressure (trestbps) vs num (Boxplot)\n",
    "plt.figure(figsize=(8, 5))\n",
    "sns.boxplot(x='num', y='trestbps', data=df, palette='Blues')\n",
    "plt.title(\"Resting Blood Pressure by Heart Disease\")\n",
    "plt.xlabel(\"Heart Disease\")\n",
    "plt.ylabel(\"Resting Blood Pressure (trestbps)\")\n",
    "plt.show()"
   ]
  },
  {
   "cell_type": "markdown",
   "metadata": {},
   "source": [
    "This box plot represents the distribution of Resting Blood Pressure (`trestbps`) across different levels of heart disease severity (`num`):\n",
    "\n",
    "- The median resting blood pressure is slightly higher in patients with more severe heart disease (num = 3 and 4) compared to those without heart disease (num = 0).\n",
    "- Interquartile ranges (IQR) are similar across all categories, suggesting that blood pressure variability is fairly consistent regardless of heart disease severity.\n",
    "- There is no strong increasing trend in blood pressure as heart disease severity increases, indicating that while high blood pressure may be a risk factor, it is not the sole determinant of heart disease.\n",
    "\n",
    "## Interpretation:\n",
    "- Resting blood pressure alone may not be a strong predictor of heart disease severity, as its distribution remains fairly stable across all groups.\n",
    "- However, higher blood pressure is often associated with cardiovascular risks, and in combination with other factors (    e.g., cholesterol, ST depression), it may contribute to worsening heart conditions.\n"
   ]
  },
  {
   "cell_type": "code",
   "execution_count": 297,
   "metadata": {},
   "outputs": [
    {
     "name": "stderr",
     "output_type": "stream",
     "text": [
      "C:\\Users\\hp\\AppData\\Local\\Temp\\ipykernel_6340\\1883840955.py:3: FutureWarning:\n",
      "\n",
      "\n",
      "\n",
      "Passing `palette` without assigning `hue` is deprecated and will be removed in v0.14.0. Assign the `x` variable to `hue` and set `legend=False` for the same effect.\n",
      "\n",
      "\n"
     ]
    },
    {
     "data": {
      "image/png": "[encoded data removed]",
      "text/plain": [
       "<Figure size 800x500 with 1 Axes>"
      ]
     },
     "metadata": {},
     "output_type": "display_data"
    }
   ],
   "source": [
    "# Maximum Heart Rate Achieved (thalch) vs num (Boxplot)\n",
    "plt.figure(figsize=(8, 5))\n",
    "sns.boxplot(x='num', y='thalch', data=df, palette='Purples')\n",
    "plt.title(\"Maximum Heart Rate by Heart Disease\")\n",
    "plt.xlabel(\"Heart Disease\")\n",
    "plt.ylabel(\"Maximum Heart Rate (thalch)\")\n",
    "plt.show()"
   ]
  },
  {
   "cell_type": "markdown",
   "metadata": {},
   "source": [
    "This box plot illustrates the distribution of maximum heart rate (`thalch`) across different levels of heart disease severity (`num`):\n",
    "\n",
    "- Patients without heart disease (num = 0) tend to have higher maximum heart rates, with a median close to 150 bpm.\n",
    "- As the severity of heart disease increases (**num = 1 to num = 4**), the median heart rate decreases, indicating that patients with more severe heart disease generally have a lower maximum heart rate.\n",
    "- The interquartile range (IQR) shrinks slightly as heart disease severity increases, suggesting that individuals with severe heart disease tend to have lower heart rate variability.\n",
    "- Outliers are present in all groups, but lower values (below 80 bpm) are more frequent in patients with severe heart disease.\n",
    "\n",
    "## Interpretation:\n",
    "- There is a negative correlation between heart disease severity and maximum heart rate. Patients with heart disease, particularly at more severe stages, tend to have lower maximum heart rates.\n",
    "- This aligns with the medical understanding that individuals with heart disease often have a reduced capacity for exercise and cardiovascular stress response."
   ]
  },
  {
   "cell_type": "code",
   "execution_count": 298,
   "metadata": {},
   "outputs": [
    {
     "data": {
      "image/png": "[encoded data removed]",
      "text/plain": [
       "<Figure size 800x500 with 1 Axes>"
      ]
     },
     "metadata": {},
     "output_type": "display_data"
    }
   ],
   "source": [
    "#Chest Pain Type (cp) vs num (Countplot)\n",
    "plt.figure(figsize=(8, 5))\n",
    "sns.countplot(x='cp', hue='num', data=df, palette='deep')\n",
    "plt.title(\"Chest Pain Type vs. Heart Disease\")\n",
    "plt.xlabel(\"Chest Pain Type (cp)\")\n",
    "plt.ylabel(\"Count\")\n",
    "plt.legend(title=\"Heart Disease\")\n",
    "plt.show()"
   ]
  },
  {
   "cell_type": "markdown",
   "metadata": {},
   "source": [
    "This bar chart visualizes the relationship between chest pain type (`cp`) and different levels of heart disease severity (`num`).\n",
    "\n",
    "#### Key Observations:\n",
    "- Asymptomatic chest pain is the most common type among heart disease patients.\n",
    "  - The majority of individuals with mild to critical heart disease (num = 1 to 4) experience **asymptomatic chest pain**.\n",
    "  - This suggests that many patients with heart disease do not experience traditional chest pain symptoms, making diagnosis potentially more challenging.\n",
    "\n",
    "- Patients without heart disease (`num = 0`) predominantly have atypical or non-anginal chest pain. \n",
    "  - The largest count in the `num = 0` group is in the **atypical angina and non-anginal chest pain categories**.\n",
    "  - This indicates that chest pain in these cases may not be directly related to heart disease.\n",
    "\n",
    "- Typical angina is relatively uncommon across all categories. \n",
    "  - This suggests that angina symptoms are not always the primary indicator of heart disease.\n",
    "  \n",
    "### Interpretation:\n",
    "- Asymptomatic chest pain is a strong predictor of heart disease.\n",
    "  - Since many heart disease patients fall under this category, routine screening is crucial for those with risk factors (e.g., high blood pressure, cholesterol).\n",
    "  \n",
    "- Non-anginal and atypical angina are more frequent in individuals without heart disease.\n",
    "  - This could mean that other conditions (such as acid reflux or musculoskeletal pain) might be mistaken for heart-related chest pain.\n",
    "  \n",
    "- Doctors should not rely solely on typical angina symptoms to diagnose heart disease.\n",
    "  - Many patients with severe heart disease may not experience chest pain in a traditional manner, highlighting the need for comprehensive diagnostic methods.\n"
   ]
  },
  {
   "cell_type": "markdown",
   "metadata": {},
   "source": [
    "# Preprocessing the Data"
   ]
  },
  {
   "cell_type": "code",
   "execution_count": 332,
   "metadata": {},
   "outputs": [],
   "source": [
    "from sklearn.preprocessing import StandardScaler, OneHotEncoder, LabelEncoder\n",
    "from sklearn.model_selection import train_test_split\n"
   ]
  },
  {
   "cell_type": "code",
   "execution_count": 333,
   "metadata": {},
   "outputs": [],
   "source": [
    "# Convert boolean columns to integers\n",
    "df['fbs'] = df['fbs'].astype(int)\n",
    "df['exang'] = df['exang'].astype(int)\n",
    "\n",
    "\n",
    "le = LabelEncoder()\n",
    "df['sex'] = le.fit_transform(df['sex'])\n",
    " \n"
   ]
  },
  {
   "cell_type": "code",
   "execution_count": 313,
   "metadata": {},
   "outputs": [],
   "source": [
    "#One-hot encode categorical object columns\n",
    "categorical_cols = ['cp', 'restecg', 'slope', 'thal', 'Category_bps']\n",
    "\n",
    "df = pd.get_dummies(df, columns=categorical_cols)"
   ]
  },
  {
   "cell_type": "code",
   "execution_count": 315,
   "metadata": {},
   "outputs": [
    {
     "name": "stdout",
     "output_type": "stream",
     "text": [
      "Index([], dtype='object')\n"
     ]
    }
   ],
   "source": [
    "bool_cols = df.select_dtypes(include='bool').columns\n",
    "print(bool_cols)\n",
    "\n",
    "#converting bool into int\n",
    "df[bool_cols] = df[bool_cols].astype(int)\n"
   ]
  },
  {
   "cell_type": "code",
   "execution_count": 330,
   "metadata": {},
   "outputs": [],
   "source": [
    "columns_to_scale = ['age', 'trestbps', 'chol', 'thalch', 'oldpeak']\n",
    "scaler = StandardScaler()\n",
    "df[columns_to_scale] = scaler.fit_transform(df[columns_to_scale])\n"
   ]
  },
  {
   "cell_type": "code",
   "execution_count": 326,
   "metadata": {},
   "outputs": [],
   "source": [
    "# Separate features and target\n",
    "X = df.drop(\"num\", axis=1)\n",
    "y = df[\"num\"]\n"
   ]
  },
  {
   "cell_type": "code",
   "execution_count": 331,
   "metadata": {},
   "outputs": [],
   "source": [
    "# Train/test split\n",
    "X_train, X_test, y_train, y_test = train_test_split(\n",
    "    X, y, test_size=0.2, random_state=42, stratify=y\n",
    ")"
   ]
  }
 ],
 "metadata": {
  "kernelspec": {
   "display_name": "base",
   "language": "python",
   "name": "python3"
  },
  "language_info": {
   "codemirror_mode": {
    "name": "ipython",
    "version": 3
   },
   "file_extension": ".py",
   "mimetype": "text/x-python",
   "name": "python",
   "nbconvert_exporter": "python",
   "pygments_lexer": "ipython3",
   "version": "3.12.7"
  }
 },
 "nbformat": 4,
 "nbformat_minor": 2
}
